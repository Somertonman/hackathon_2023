{
 "cells": [
  {
   "cell_type": "markdown",
   "id": "5d3c19c0",
   "metadata": {},
   "source": [
    "# Imports"
   ]
  },
  {
   "cell_type": "code",
   "execution_count": null,
   "id": "e3dcb145",
   "metadata": {},
   "outputs": [],
   "source": [
    "import pandas as pd\n",
    "import networkx as nx\n"
   ]
  },
  {
   "cell_type": "markdown",
   "id": "c6ed9bf6",
   "metadata": {},
   "source": [
    "# Data source"
   ]
  },
  {
   "cell_type": "code",
   "execution_count": null,
   "id": "286c66a2",
   "metadata": {},
   "outputs": [],
   "source": [
    "df = pd.read_csv('raw_json_structure.csv')\n"
   ]
  },
  {
   "cell_type": "markdown",
   "id": "a544f500",
   "metadata": {},
   "source": [
    "# Data cleaning"
   ]
  },
  {
   "cell_type": "code",
   "execution_count": null,
   "id": "8d0ace62",
   "metadata": {},
   "outputs": [],
   "source": [
    "df.fillna(0, inplace = True)\n",
    "df.replace('None', 0, inplace = True)\n"
   ]
  },
  {
   "cell_type": "markdown",
   "id": "1bad4a7d",
   "metadata": {},
   "source": [
    "# EDA"
   ]
  },
  {
   "cell_type": "code",
   "execution_count": null,
   "id": "ea26d544",
   "metadata": {},
   "outputs": [],
   "source": [
    "# some basic stats\n",
    "\n",
    "print('Number of depts in the comp:', df['task_responsibles_groups'].unique())\n"
   ]
  }
 ],
 "metadata": {
  "kernelspec": {
   "display_name": "Python 3 (ipykernel)",
   "language": "python",
   "name": "python3"
  },
  "language_info": {
   "codemirror_mode": {
    "name": "ipython",
    "version": 3
   },
   "file_extension": ".py",
   "mimetype": "text/x-python",
   "name": "python",
   "nbconvert_exporter": "python",
   "pygments_lexer": "ipython3",
   "version": "3.10.0rc2"
  }
 },
 "nbformat": 4,
 "nbformat_minor": 5
}
