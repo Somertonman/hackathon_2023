{
 "cells": [
  {
   "cell_type": "markdown",
   "id": "afff8799",
   "metadata": {},
   "source": [
    "# Imports"
   ]
  },
  {
   "cell_type": "code",
   "execution_count": null,
   "id": "52223855",
   "metadata": {},
   "outputs": [],
   "source": [
    "import pandas as pd\n",
    "import networkx as nx\n",
    "import matplotlib.pyplot as plt\n"
   ]
  },
  {
   "cell_type": "markdown",
   "id": "0bbd0875",
   "metadata": {},
   "source": [
    "# Data source"
   ]
  },
  {
   "cell_type": "code",
   "execution_count": null,
   "id": "a66ca78c",
   "metadata": {},
   "outputs": [],
   "source": [
    "df = pd.read_csv('raw_json_structure.csv')\n"
   ]
  },
  {
   "cell_type": "markdown",
   "id": "a8819696",
   "metadata": {},
   "source": [
    "# Data cleaning"
   ]
  },
  {
   "cell_type": "code",
   "execution_count": null,
   "id": "23a2c1c1",
   "metadata": {},
   "outputs": [],
   "source": [
    "df.fillna(0, inplace = True)\n",
    "df.replace('None', 0, inplace = True)\n"
   ]
  },
  {
   "cell_type": "markdown",
   "id": "a0d8c516",
   "metadata": {},
   "source": [
    "# EDA"
   ]
  },
  {
   "cell_type": "code",
   "execution_count": null,
   "id": "2f7553ba",
   "metadata": {},
   "outputs": [],
   "source": [
    "# some basic stats\n",
    "\n",
    "documents = df['id'].unique()\n",
    "departments = df['task_responsibles_groups'].unique()\n",
    "employees = df['name'].unique()\n",
    "positions = df['position'].unique()\n",
    "\n",
    "\n",
    "print('Number of docs:', len(documents))\n",
    "print('Number of depts in the company:', len(departments) )\n",
    "print('Number of employees in the company:', len(employees))\n",
    "print('Number of positions in the company total:', len(positions))"
   ]
  },
  {
   "cell_type": "markdown",
   "id": "0f56d282",
   "metadata": {},
   "source": [
    "## How many documents was analyzed?"
   ]
  },
  {
   "cell_type": "code",
   "execution_count": null,
   "id": "2fb1e20e",
   "metadata": {},
   "outputs": [],
   "source": [
    "print(docs)"
   ]
  },
  {
   "cell_type": "markdown",
   "id": "03f50532",
   "metadata": {},
   "source": [
    "## Company departments"
   ]
  },
  {
   "cell_type": "code",
   "execution_count": null,
   "id": "29463b3b",
   "metadata": {},
   "outputs": [],
   "source": [
    "print(departments)"
   ]
  },
  {
   "cell_type": "markdown",
   "id": "82ea211a",
   "metadata": {},
   "source": [
    "## Employees"
   ]
  },
  {
   "cell_type": "code",
   "execution_count": null,
   "id": "a3911c85",
   "metadata": {},
   "outputs": [],
   "source": [
    "print(employees)"
   ]
  },
  {
   "cell_type": "markdown",
   "id": "33165f5f",
   "metadata": {},
   "source": [
    "# Graph"
   ]
  },
  {
   "cell_type": "code",
   "execution_count": null,
   "id": "2404e011",
   "metadata": {},
   "outputs": [],
   "source": [
    "DG = nx.DiGraph()\n",
    "\n",
    "comp_name = 'URFU_COMP'\n",
    "\n",
    "for i in list(departments):\n",
    "    \n",
    "\n",
    "\n",
    "DG.add_edge('ООО \"Мегасофт\"', departments_Unique_list[0]) \n",
    "DG.add_edge('ООО \"Мегасофт\"', departments_Unique_list[1]) \n",
    "DG.add_edge('ООО \"Мегасофт\"', departments_Unique_list[2]) \n",
    "DG.add_edge('ООО \"Мегасофт\"', departments_Unique_list[3]) \n",
    "DG.add_edge('ООО \"Мегасофт\"', departments_Unique_list[4]) \n",
    "DG.add_edge('ООО \"Мегасофт\"', departments_Unique_list[5]) \n",
    "DG.add_edge('ООО \"Мегасофт\"', departments_Unique_list[6]) \n",
    "DG.add_edge('ООО \"Мегасофт\"', departments_Unique_list[7]) \n",
    "\n",
    "nx.draw(DG, with_labels=True, font_weight='bold')\n"
   ]
  }
 ],
 "metadata": {
  "kernelspec": {
   "display_name": "Python 3 (ipykernel)",
   "language": "python",
   "name": "python3"
  },
  "language_info": {
   "codemirror_mode": {
    "name": "ipython",
    "version": 3
   },
   "file_extension": ".py",
   "mimetype": "text/x-python",
   "name": "python",
   "nbconvert_exporter": "python",
   "pygments_lexer": "ipython3",
   "version": "3.10.0rc2"
  }
 },
 "nbformat": 4,
 "nbformat_minor": 5
}
