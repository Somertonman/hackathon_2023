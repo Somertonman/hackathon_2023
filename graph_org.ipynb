{
 "cells": [
  {
   "cell_type": "markdown",
   "id": "c39153f4",
   "metadata": {},
   "source": [
    "# Imports"
   ]
  },
  {
   "cell_type": "code",
   "execution_count": null,
   "id": "9a31b4b0",
   "metadata": {},
   "outputs": [],
   "source": [
    "import pandas as pd\n",
    "import networkx as nx\n",
    "import matplotlib.pyplot as plt\n"
   ]
  },
  {
   "cell_type": "markdown",
   "id": "527af5e1",
   "metadata": {},
   "source": [
    "# Data source"
   ]
  },
  {
   "cell_type": "code",
   "execution_count": null,
   "id": "5d4554ae",
   "metadata": {},
   "outputs": [],
   "source": [
    "df = pd.read_csv('raw_json_structure.csv')\n"
   ]
  },
  {
   "cell_type": "markdown",
   "id": "85df8a29",
   "metadata": {},
   "source": [
    "# Data cleaning"
   ]
  },
  {
   "cell_type": "code",
   "execution_count": null,
   "id": "62eeb8d4",
   "metadata": {},
   "outputs": [],
   "source": [
    "df.fillna(0, inplace = True)\n",
    "df.replace('None', 0, inplace = True)\n"
   ]
  },
  {
   "cell_type": "markdown",
   "id": "192be579",
   "metadata": {},
   "source": [
    "# EDA"
   ]
  },
  {
   "cell_type": "code",
   "execution_count": null,
   "id": "5f2164aa",
   "metadata": {},
   "outputs": [],
   "source": [
    "# some basic stats\n",
    "\n",
    "documents = df['id'].unique()\n",
    "departments = df['task_responsibles_groups'].unique()\n",
    "employees = df['name'].unique()\n",
    "positions = df['position'].unique()\n",
    "\n",
    "\n",
    "print('Number of docs:', len(documents))\n",
    "print('Number of depts in the company:', len(departments) )\n",
    "print('Number of employees in the company:', len(employees))\n",
    "print('Number of positions in the company total:', len(positions))"
   ]
  },
  {
   "cell_type": "markdown",
   "id": "dc232971",
   "metadata": {},
   "source": [
    "## How many documents was analyzed?"
   ]
  },
  {
   "cell_type": "code",
   "execution_count": null,
   "id": "eefb191e",
   "metadata": {},
   "outputs": [],
   "source": [
    "print(docs)"
   ]
  },
  {
   "cell_type": "markdown",
   "id": "5f3d4912",
   "metadata": {},
   "source": [
    "## Company departments"
   ]
  },
  {
   "cell_type": "code",
   "execution_count": null,
   "id": "bb98f635",
   "metadata": {},
   "outputs": [],
   "source": [
    "print(departments)"
   ]
  },
  {
   "cell_type": "markdown",
   "id": "061ab42f",
   "metadata": {},
   "source": [
    "## Employees"
   ]
  },
  {
   "cell_type": "code",
   "execution_count": null,
   "id": "c2122e01",
   "metadata": {},
   "outputs": [],
   "source": [
    "print(employees)"
   ]
  },
  {
   "cell_type": "markdown",
   "id": "1f49a4cf",
   "metadata": {},
   "source": [
    "# Graph"
   ]
  },
  {
   "cell_type": "code",
   "execution_count": null,
   "id": "be4a60d4",
   "metadata": {},
   "outputs": [],
   "source": [
    "DG = nx.DiGraph()\n",
    "\n",
    "comp_name = 'URFU_COMP'\n",
    "\n",
    "for i in list(departments):\n",
    "    DG.add_edge(comp_name, i)\n",
    "    \n",
    "\n",
    "nx.draw(DG, with_labels=True, font_weight='bold')\n"
   ]
  }
 ],
 "metadata": {
  "kernelspec": {
   "display_name": "Python 3 (ipykernel)",
   "language": "python",
   "name": "python3"
  },
  "language_info": {
   "codemirror_mode": {
    "name": "ipython",
    "version": 3
   },
   "file_extension": ".py",
   "mimetype": "text/x-python",
   "name": "python",
   "nbconvert_exporter": "python",
   "pygments_lexer": "ipython3",
   "version": "3.10.0rc2"
  }
 },
 "nbformat": 4,
 "nbformat_minor": 5
}
