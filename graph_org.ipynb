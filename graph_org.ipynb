{
  "cells": [
    {
      "cell_type": "markdown",
      "metadata": {
        "id": "view-in-github",
        "colab_type": "text"
      },
      "source": [
        "<a href=\"https://colab.research.google.com/github/Somertonman/hackathon_2023/blob/main/graph_org.ipynb\" target=\"_parent\"><img src=\"https://colab.research.google.com/assets/colab-badge.svg\" alt=\"Open In Colab\"/></a>"
      ]
    },
    {
      "cell_type": "markdown",
      "id": "c39153f4",
      "metadata": {
        "id": "c39153f4"
      },
      "source": [
        "# Imports"
      ]
    },
    {
      "cell_type": "code",
      "execution_count": 1,
      "id": "VEJJkrDAY4ey",
      "metadata": {
        "id": "VEJJkrDAY4ey"
      },
      "outputs": [],
      "source": [
        "%%capture\n",
        "!pip install stanza, python-docx, pymorphy2, matplotlib, nltk, networkx, docx\n"
      ]
    },
    {
      "cell_type": "code",
      "execution_count": 2,
      "id": "9a31b4b0",
      "metadata": {
        "id": "9a31b4b0"
      },
      "outputs": [],
      "source": [
        "import pandas as pd"
      ]
    },
    {
      "cell_type": "markdown",
      "id": "527af5e1",
      "metadata": {
        "id": "527af5e1"
      },
      "source": [
        "# Data source"
      ]
    },
    {
      "cell_type": "code",
      "source": [
        "!wget https://github.com/Somertonman/hackathon_2023/raw/main/all_parsed_graph.csv"
      ],
      "metadata": {
        "id": "auzU5yFpQJ6p",
        "outputId": "1269ca57-ab61-454c-907b-28bc966578b4",
        "colab": {
          "base_uri": "https://localhost:8080/"
        }
      },
      "id": "auzU5yFpQJ6p",
      "execution_count": 6,
      "outputs": [
        {
          "output_type": "stream",
          "name": "stdout",
          "text": [
            "--2023-01-21 12:19:17--  https://github.com/Somertonman/hackathon_2023/raw/main/all_parsed_graph.csv\n",
            "Resolving github.com (github.com)... 140.82.113.4\n",
            "Connecting to github.com (github.com)|140.82.113.4|:443... connected.\n",
            "HTTP request sent, awaiting response... 302 Found\n",
            "Location: https://raw.githubusercontent.com/Somertonman/hackathon_2023/main/all_parsed_graph.csv [following]\n",
            "--2023-01-21 12:19:18--  https://raw.githubusercontent.com/Somertonman/hackathon_2023/main/all_parsed_graph.csv\n",
            "Resolving raw.githubusercontent.com (raw.githubusercontent.com)... 185.199.109.133, 185.199.110.133, 185.199.108.133, ...\n",
            "Connecting to raw.githubusercontent.com (raw.githubusercontent.com)|185.199.109.133|:443... connected.\n",
            "HTTP request sent, awaiting response... 200 OK\n",
            "Length: 1897324 (1.8M) [text/plain]\n",
            "Saving to: ‘all_parsed_graph.csv’\n",
            "\n",
            "all_parsed_graph.cs 100%[===================>]   1.81M  --.-KB/s    in 0.06s   \n",
            "\n",
            "2023-01-21 12:19:18 (28.7 MB/s) - ‘all_parsed_graph.csv’ saved [1897324/1897324]\n",
            "\n"
          ]
        }
      ]
    },
    {
      "cell_type": "code",
      "execution_count": 7,
      "id": "5d4554ae",
      "metadata": {
        "colab": {
          "base_uri": "https://localhost:8080/",
          "height": 337
        },
        "id": "5d4554ae",
        "outputId": "df6a0dec-b5a3-4d34-cc97-033fd0083246"
      },
      "outputs": [
        {
          "output_type": "execute_result",
          "data": {
            "text/plain": [
              "   id task_num                                          task_text  \\\n",
              "0   0    Task1        Закупить книги. Срок завершения: 19 апр 15.   \n",
              "1   1    Task1  Провести анализ поставщиков для замены вышедше...   \n",
              "2   1    Task2  Выполнить ремонт кабеля сети передачи данных м...   \n",
              "3   1    Task3  Создать и настроить виртуальную машину в соотв...   \n",
              "4   2    Task1  Провести рефакторинг программного обеспечения ...   \n",
              "\n",
              "                                  dept  \\\n",
              "0  Административно-хозяйственный отдел   \n",
              "1                            Служба ИТ   \n",
              "2                            Служба ИТ   \n",
              "3                            Служба ИТ   \n",
              "4              Отдел разработки систем   \n",
              "\n",
              "                            task_responsibles_people task_deadline  \\\n",
              "0  Ответственность за исполнение распоряжения воз...    2015-04-18   \n",
              "1  Ответственность за исполнение распоряжения воз...    2012-10-23   \n",
              "2  Контроль над выполнением приказа возложить на ...    2013-08-11   \n",
              "3  Контроль над исполнением распоряжения оставить...    2019-09-09   \n",
              "4  Контроль над исполнением распоряжения оставить...    2020-12-23   \n",
              "\n",
              "                                            position               name  \\\n",
              "0  специалист первый категория административно-хо...       кравцов и.е.   \n",
              "1              специалист третий категория служба ит  ким юрий иванович   \n",
              "2                            системный администратор     сергеев андрей   \n",
              "3                        специалист третий категория  ким юрий иванович   \n",
              "4               контроль над исполнение распоряжение      абаимов симон   \n",
              "\n",
              "  global_deadline  Tasks  \n",
              "0      2013-04-10    NaN  \n",
              "1      2013-06-02    NaN  \n",
              "2      2013-06-02    NaN  \n",
              "3      2013-06-02    NaN  \n",
              "4      2014-10-07    NaN  "
            ],
            "text/html": [
              "\n",
              "  <div id=\"df-fc8d8a35-c574-491b-bee3-ec7c6e7dc062\">\n",
              "    <div class=\"colab-df-container\">\n",
              "      <div>\n",
              "<style scoped>\n",
              "    .dataframe tbody tr th:only-of-type {\n",
              "        vertical-align: middle;\n",
              "    }\n",
              "\n",
              "    .dataframe tbody tr th {\n",
              "        vertical-align: top;\n",
              "    }\n",
              "\n",
              "    .dataframe thead th {\n",
              "        text-align: right;\n",
              "    }\n",
              "</style>\n",
              "<table border=\"1\" class=\"dataframe\">\n",
              "  <thead>\n",
              "    <tr style=\"text-align: right;\">\n",
              "      <th></th>\n",
              "      <th>id</th>\n",
              "      <th>task_num</th>\n",
              "      <th>task_text</th>\n",
              "      <th>dept</th>\n",
              "      <th>task_responsibles_people</th>\n",
              "      <th>task_deadline</th>\n",
              "      <th>position</th>\n",
              "      <th>name</th>\n",
              "      <th>global_deadline</th>\n",
              "      <th>Tasks</th>\n",
              "    </tr>\n",
              "  </thead>\n",
              "  <tbody>\n",
              "    <tr>\n",
              "      <th>0</th>\n",
              "      <td>0</td>\n",
              "      <td>Task1</td>\n",
              "      <td>Закупить книги. Срок завершения: 19 апр 15.</td>\n",
              "      <td>Административно-хозяйственный отдел</td>\n",
              "      <td>Ответственность за исполнение распоряжения воз...</td>\n",
              "      <td>2015-04-18</td>\n",
              "      <td>специалист первый категория административно-хо...</td>\n",
              "      <td>кравцов и.е.</td>\n",
              "      <td>2013-04-10</td>\n",
              "      <td>NaN</td>\n",
              "    </tr>\n",
              "    <tr>\n",
              "      <th>1</th>\n",
              "      <td>1</td>\n",
              "      <td>Task1</td>\n",
              "      <td>Провести анализ поставщиков для замены вышедше...</td>\n",
              "      <td>Служба ИТ</td>\n",
              "      <td>Ответственность за исполнение распоряжения воз...</td>\n",
              "      <td>2012-10-23</td>\n",
              "      <td>специалист третий категория служба ит</td>\n",
              "      <td>ким юрий иванович</td>\n",
              "      <td>2013-06-02</td>\n",
              "      <td>NaN</td>\n",
              "    </tr>\n",
              "    <tr>\n",
              "      <th>2</th>\n",
              "      <td>1</td>\n",
              "      <td>Task2</td>\n",
              "      <td>Выполнить ремонт кабеля сети передачи данных м...</td>\n",
              "      <td>Служба ИТ</td>\n",
              "      <td>Контроль над выполнением приказа возложить на ...</td>\n",
              "      <td>2013-08-11</td>\n",
              "      <td>системный администратор</td>\n",
              "      <td>сергеев андрей</td>\n",
              "      <td>2013-06-02</td>\n",
              "      <td>NaN</td>\n",
              "    </tr>\n",
              "    <tr>\n",
              "      <th>3</th>\n",
              "      <td>1</td>\n",
              "      <td>Task3</td>\n",
              "      <td>Создать и настроить виртуальную машину в соотв...</td>\n",
              "      <td>Служба ИТ</td>\n",
              "      <td>Контроль над исполнением распоряжения оставить...</td>\n",
              "      <td>2019-09-09</td>\n",
              "      <td>специалист третий категория</td>\n",
              "      <td>ким юрий иванович</td>\n",
              "      <td>2013-06-02</td>\n",
              "      <td>NaN</td>\n",
              "    </tr>\n",
              "    <tr>\n",
              "      <th>4</th>\n",
              "      <td>2</td>\n",
              "      <td>Task1</td>\n",
              "      <td>Провести рефакторинг программного обеспечения ...</td>\n",
              "      <td>Отдел разработки систем</td>\n",
              "      <td>Контроль над исполнением распоряжения оставить...</td>\n",
              "      <td>2020-12-23</td>\n",
              "      <td>контроль над исполнение распоряжение</td>\n",
              "      <td>абаимов симон</td>\n",
              "      <td>2014-10-07</td>\n",
              "      <td>NaN</td>\n",
              "    </tr>\n",
              "  </tbody>\n",
              "</table>\n",
              "</div>\n",
              "      <button class=\"colab-df-convert\" onclick=\"convertToInteractive('df-fc8d8a35-c574-491b-bee3-ec7c6e7dc062')\"\n",
              "              title=\"Convert this dataframe to an interactive table.\"\n",
              "              style=\"display:none;\">\n",
              "        \n",
              "  <svg xmlns=\"http://www.w3.org/2000/svg\" height=\"24px\"viewBox=\"0 0 24 24\"\n",
              "       width=\"24px\">\n",
              "    <path d=\"M0 0h24v24H0V0z\" fill=\"none\"/>\n",
              "    <path d=\"M18.56 5.44l.94 2.06.94-2.06 2.06-.94-2.06-.94-.94-2.06-.94 2.06-2.06.94zm-11 1L8.5 8.5l.94-2.06 2.06-.94-2.06-.94L8.5 2.5l-.94 2.06-2.06.94zm10 10l.94 2.06.94-2.06 2.06-.94-2.06-.94-.94-2.06-.94 2.06-2.06.94z\"/><path d=\"M17.41 7.96l-1.37-1.37c-.4-.4-.92-.59-1.43-.59-.52 0-1.04.2-1.43.59L10.3 9.45l-7.72 7.72c-.78.78-.78 2.05 0 2.83L4 21.41c.39.39.9.59 1.41.59.51 0 1.02-.2 1.41-.59l7.78-7.78 2.81-2.81c.8-.78.8-2.07 0-2.86zM5.41 20L4 18.59l7.72-7.72 1.47 1.35L5.41 20z\"/>\n",
              "  </svg>\n",
              "      </button>\n",
              "      \n",
              "  <style>\n",
              "    .colab-df-container {\n",
              "      display:flex;\n",
              "      flex-wrap:wrap;\n",
              "      gap: 12px;\n",
              "    }\n",
              "\n",
              "    .colab-df-convert {\n",
              "      background-color: #E8F0FE;\n",
              "      border: none;\n",
              "      border-radius: 50%;\n",
              "      cursor: pointer;\n",
              "      display: none;\n",
              "      fill: #1967D2;\n",
              "      height: 32px;\n",
              "      padding: 0 0 0 0;\n",
              "      width: 32px;\n",
              "    }\n",
              "\n",
              "    .colab-df-convert:hover {\n",
              "      background-color: #E2EBFA;\n",
              "      box-shadow: 0px 1px 2px rgba(60, 64, 67, 0.3), 0px 1px 3px 1px rgba(60, 64, 67, 0.15);\n",
              "      fill: #174EA6;\n",
              "    }\n",
              "\n",
              "    [theme=dark] .colab-df-convert {\n",
              "      background-color: #3B4455;\n",
              "      fill: #D2E3FC;\n",
              "    }\n",
              "\n",
              "    [theme=dark] .colab-df-convert:hover {\n",
              "      background-color: #434B5C;\n",
              "      box-shadow: 0px 1px 3px 1px rgba(0, 0, 0, 0.15);\n",
              "      filter: drop-shadow(0px 1px 2px rgba(0, 0, 0, 0.3));\n",
              "      fill: #FFFFFF;\n",
              "    }\n",
              "  </style>\n",
              "\n",
              "      <script>\n",
              "        const buttonEl =\n",
              "          document.querySelector('#df-fc8d8a35-c574-491b-bee3-ec7c6e7dc062 button.colab-df-convert');\n",
              "        buttonEl.style.display =\n",
              "          google.colab.kernel.accessAllowed ? 'block' : 'none';\n",
              "\n",
              "        async function convertToInteractive(key) {\n",
              "          const element = document.querySelector('#df-fc8d8a35-c574-491b-bee3-ec7c6e7dc062');\n",
              "          const dataTable =\n",
              "            await google.colab.kernel.invokeFunction('convertToInteractive',\n",
              "                                                     [key], {});\n",
              "          if (!dataTable) return;\n",
              "\n",
              "          const docLinkHtml = 'Like what you see? Visit the ' +\n",
              "            '<a target=\"_blank\" href=https://colab.research.google.com/notebooks/data_table.ipynb>data table notebook</a>'\n",
              "            + ' to learn more about interactive tables.';\n",
              "          element.innerHTML = '';\n",
              "          dataTable['output_type'] = 'display_data';\n",
              "          await google.colab.output.renderOutput(dataTable, element);\n",
              "          const docLink = document.createElement('div');\n",
              "          docLink.innerHTML = docLinkHtml;\n",
              "          element.appendChild(docLink);\n",
              "        }\n",
              "      </script>\n",
              "    </div>\n",
              "  </div>\n",
              "  "
            ]
          },
          "metadata": {},
          "execution_count": 7
        }
      ],
      "source": [
        "df = pd.read_csv('all_parsed_graph.csv')\n",
        "df = df.query('name != \"себя\"').reset_index().drop(columns='index')\n",
        "df = df[['id', 'task_num',\n",
        "       'task_text', 'dept', 'task_responsibles_people', 'task_deadline',\n",
        "       'position', 'name', 'global_deadline', 'Tasks']]\n",
        "df.head()"
      ]
    },
    {
      "cell_type": "code",
      "execution_count": null,
      "id": "eKCUbdBMbebX",
      "metadata": {
        "id": "eKCUbdBMbebX"
      },
      "outputs": [],
      "source": [
        "z = df.position.value_counts()\n",
        "df"
      ]
    },
    {
      "cell_type": "code",
      "execution_count": null,
      "id": "w1rUtoadiM9w",
      "metadata": {
        "id": "w1rUtoadiM9w"
      },
      "outputs": [],
      "source": [
        "from nltk.stem.snowball import SnowballStemmer\n",
        "stemmer = SnowballStemmer(\"russian\") \n",
        "\n",
        "def Convert(string): \n",
        "    li = list(string.split(\" \")) \n",
        "    return li \n",
        "\n",
        "def stem(text):\n",
        "  my_words = Convert(text)\n",
        "  l = []\n",
        "  for word in my_words:\n",
        "    if word != \"специалист\":\n",
        "        l.append(stemmer.stem(word))\n",
        "  return \" \".join(l)"
      ]
    },
    {
      "cell_type": "code",
      "execution_count": null,
      "id": "14__ts94ccH5",
      "metadata": {
        "id": "14__ts94ccH5"
      },
      "outputs": [],
      "source": [
        "df['position'] = df.apply(lambda x: stem(x['position']), axis=1)"
      ]
    },
    {
      "cell_type": "code",
      "execution_count": null,
      "id": "AOSHLnhjiw11",
      "metadata": {
        "id": "AOSHLnhjiw11"
      },
      "outputs": [],
      "source": [
        "df['position']"
      ]
    },
    {
      "cell_type": "markdown",
      "id": "85df8a29",
      "metadata": {
        "id": "85df8a29"
      },
      "source": [
        "# Data cleaning"
      ]
    },
    {
      "cell_type": "code",
      "execution_count": null,
      "id": "62eeb8d4",
      "metadata": {
        "id": "62eeb8d4"
      },
      "outputs": [],
      "source": [
        "df.fillna(0, inplace = True)\n",
        "df.replace('None', 0, inplace = True)\n"
      ]
    },
    {
      "cell_type": "code",
      "execution_count": null,
      "id": "8WPj4FHEZDia",
      "metadata": {
        "id": "8WPj4FHEZDia"
      },
      "outputs": [],
      "source": [
        "import stanza\n",
        "from stanza.models.common.doc import Document\n",
        "\n",
        "nlp = stanza.Pipeline(lang='ru', processors='tokenize,lemma', lemma_pretagged=True, tokenize_pretokenized=True)\n",
        "doc = nlp('специалист третий категория')\n",
        "print(*[f'word: {word.text+\" \"}\\tlemma: {word.lemma}' for sent in doc.sentences for word in sent.words], sep='\\n')\n",
        "\n"
      ]
    },
    {
      "cell_type": "code",
      "execution_count": null,
      "id": "-lloJTUrZM78",
      "metadata": {
        "id": "-lloJTUrZM78"
      },
      "outputs": [],
      "source": [
        "doc = nlp('специалист третий категория')\n",
        "print(*[f'word: {word.text+\" \"}\\tlemma: {word.lemma}' for sent in doc.sentences for word in sent.words], sep='\\n')\n"
      ]
    },
    {
      "cell_type": "markdown",
      "id": "192be579",
      "metadata": {
        "id": "192be579"
      },
      "source": [
        "# EDA"
      ]
    },
    {
      "cell_type": "code",
      "execution_count": null,
      "id": "5f2164aa",
      "metadata": {
        "id": "5f2164aa"
      },
      "outputs": [],
      "source": [
        "# some basic stats\n",
        "\n",
        "documents = df['id'].unique()\n",
        "departments = df['dept'].unique()\n",
        "employees = df['name'].unique()\n",
        "positions = df['position'].unique()\n",
        "\n",
        "\n",
        "print('Number of docs:', len(documents))\n",
        "print('Number of depts in the company:', len(departments) )\n",
        "print('Number of employees in the company:', len(employees))\n",
        "print('Number of positions in the company total:', len(positions))"
      ]
    },
    {
      "cell_type": "markdown",
      "id": "dc232971",
      "metadata": {
        "id": "dc232971"
      },
      "source": [
        "## How many documents was analyzed?"
      ]
    },
    {
      "cell_type": "code",
      "execution_count": null,
      "id": "eefb191e",
      "metadata": {
        "id": "eefb191e"
      },
      "outputs": [],
      "source": [
        "print(documents)"
      ]
    },
    {
      "cell_type": "markdown",
      "id": "5f3d4912",
      "metadata": {
        "id": "5f3d4912"
      },
      "source": [
        "## Company departments"
      ]
    },
    {
      "cell_type": "code",
      "execution_count": null,
      "id": "bb98f635",
      "metadata": {
        "id": "bb98f635"
      },
      "outputs": [],
      "source": [
        "print(departments)"
      ]
    },
    {
      "cell_type": "markdown",
      "id": "061ab42f",
      "metadata": {
        "id": "061ab42f"
      },
      "source": [
        "## Employees"
      ]
    },
    {
      "cell_type": "code",
      "execution_count": null,
      "id": "c2122e01",
      "metadata": {
        "id": "c2122e01"
      },
      "outputs": [],
      "source": [
        "print(employees)"
      ]
    },
    {
      "cell_type": "markdown",
      "id": "1f49a4cf",
      "metadata": {
        "id": "1f49a4cf"
      },
      "source": [
        "# Graph"
      ]
    },
    {
      "cell_type": "code",
      "execution_count": null,
      "id": "be4a60d4",
      "metadata": {
        "id": "be4a60d4"
      },
      "outputs": [],
      "source": [
        "import networkx as nx\n",
        "import matplotlib.pyplot as plt\n",
        "\n",
        "DG = nx.DiGraph()\n",
        "\n",
        "comp_name = 'COMPANY'\n",
        "\n",
        "for i in list(departments):\n",
        "    DG.add_edge(comp_name, i)\n",
        "    \n",
        "\n",
        "nx.draw(DG)\n"
      ]
    },
    {
      "cell_type": "markdown",
      "id": "dac8fe04",
      "metadata": {
        "id": "dac8fe04"
      },
      "source": [
        "## Multilevel graph"
      ]
    },
    {
      "cell_type": "code",
      "execution_count": null,
      "id": "b5640b68",
      "metadata": {
        "id": "b5640b68"
      },
      "outputs": [],
      "source": [
        "# create a graph object\n",
        "G = nx.Graph()\n",
        "\n",
        "comp_name = 'COMPANY'\n",
        "\n",
        "for z in list(departments):\n",
        "    G.add_edge(comp_name, z)\n",
        "    # iterate through the rows of the DataFrame\n",
        "    for i, row in df.iterrows():\n",
        "        # add task_responsibles_groups node\n",
        "        dept = row[\"dept\"]\n",
        "        G.add_node(dept, size=df[\"dept\"].value_counts()[dept])\n",
        "        # add position node\n",
        "        position = row[\"position\"]\n",
        "        G.add_node(position, size=df[\"position\"].value_counts()[position])\n",
        "        # add name node\n",
        "        name = row[\"name\"]\n",
        "        G.add_node(name, size=df[\"name\"].value_counts()[name])\n",
        "        # add edges between task_responsibles_groups and position\n",
        "        G.add_edge(dept, position)\n",
        "        # add edges between position and name\n",
        "        G.add_edge(position, name)\n",
        "\n",
        "# draw the graph\n",
        "import matplotlib.pyplot as plt\n",
        "\n",
        "plt.figure(figsize=(30,30))\n",
        "pos = nx.spring_layout(G) # spring layout to calculate node positions\n",
        "\n",
        "# create a list of node sizes\n",
        "node_sizes = []\n",
        "for node in G.nodes():\n",
        "    node_sizes.append(G.degree(node)*50)\n",
        "\n",
        "# create a list of node colors\n",
        "node_colors = []\n",
        "for node in G.nodes():\n",
        "    if node in departments:\n",
        "        node_colors.append(\"orange\")\n",
        "    elif node in df[\"position\"].unique():\n",
        "        node_colors.append(\"green\")\n",
        "    elif node in df[\"name\"].unique():\n",
        "        node_colors.append(\"purple\")\n",
        "    else:\n",
        "        node_colors.append(\"red\")\n",
        "\n",
        "# create a list of edge colors\n",
        "edge_colors = []\n",
        "for edge in G.edges():\n",
        "    if edge[0] in departments:\n",
        "        edge_colors.append(\"orange\")\n",
        "    elif edge[0] in df[\"position\"].unique():\n",
        "        edge_colors.append(\"green\")\n",
        "    elif edge[0] in df[\"name\"].unique():\n",
        "        edge_colors.append(\"purple\")\n",
        "    else:\n",
        "        edge_colors.append(\"red\")\n",
        "\n",
        "nx.draw(G, pos, with_labels=True, node_color=node_colors, node_size=node_sizes, edge_color=edge_colors)\n"
      ]
    },
    {
      "cell_type": "markdown",
      "source": [
        "# Document checker"
      ],
      "metadata": {
        "id": "SlUo_GtNHTH7"
      },
      "id": "SlUo_GtNHTH7"
    },
    {
      "cell_type": "code",
      "source": [
        "from google.colab import files\n",
        "\n",
        "!test -d docx_for_check || mkdir docx_for_check\n",
        "\n",
        "uploaded = files.upload()\n",
        "\n",
        "for name, data in uploaded.items():\n",
        "  with open(f'docx_for_check/{name}', 'wb') as f:\n",
        "    f.write(data)\n",
        "    print('uploaded to the \"/content/docx_for_check\" folder')\n"
      ],
      "metadata": {
        "id": "59laISUOHR_p"
      },
      "id": "59laISUOHR_p",
      "execution_count": null,
      "outputs": []
    },
    {
      "cell_type": "markdown",
      "id": "ptcA2CkYrhG5",
      "metadata": {
        "id": "ptcA2CkYrhG5"
      },
      "source": [
        "## Parsing text from docx files"
      ]
    },
    {
      "cell_type": "code",
      "execution_count": null,
      "id": "Ztwq8wfMnRMU",
      "metadata": {
        "id": "Ztwq8wfMnRMU"
      },
      "outputs": [],
      "source": [
        "from docx import Document\n",
        "\n",
        "def get_text(filename):\n",
        "    doc = Document(f'/content/docx_for_check/{filename}')\n",
        "    fullText = []\n",
        "    for para in doc.paragraphs:\n",
        "        fullText.append(para.text)\n",
        "    return '\\n'.join(fullText)\n",
        "\n",
        "filename = '9999.docx'\n",
        "text = get_text(filename)\n",
        "print(text)\n",
        "\n"
      ]
    },
    {
      "cell_type": "markdown",
      "source": [
        "### Check a given name and position on the graph"
      ],
      "metadata": {
        "id": "2Ky64WFFG7Nz"
      },
      "id": "2Ky64WFFG7Nz"
    },
    {
      "cell_type": "code",
      "source": [
        "def is_name_position_in_graph(G, name, position):\n",
        "    if not name and not position:\n",
        "        return False\n",
        "    morph = pymorphy2.MorphAnalyzer()\n",
        "    if name:\n",
        "        name_norm = morph.parse(name)[0].normal_form\n",
        "    if position:\n",
        "        position_norm = morph.parse(position)[0].normal_form\n",
        "\n",
        "    for node in G.nodes():\n",
        "        if name:\n",
        "            node_norm = morph.parse(node)[0].normal_form\n",
        "            if node_norm != name_norm:\n",
        "                continue\n",
        "        if position:\n",
        "            neighbors = G.neighbors(node)\n",
        "            for neighbor in neighbors:\n",
        "                neighbor_norm = morph.parse(neighbor)[0].normal_form\n",
        "                if neighbor_norm == position_norm:\n",
        "                    return True\n",
        "    return False\n"
      ],
      "metadata": {
        "id": "E93peyh5C6XF"
      },
      "id": "E93peyh5C6XF",
      "execution_count": null,
      "outputs": []
    },
    {
      "cell_type": "code",
      "source": [
        "name = ''\n",
        "position = 'главн бухгалтер'\n",
        "print(is_name_position_in_graph(G, name, position))"
      ],
      "metadata": {
        "id": "Q7mbpijaDInu"
      },
      "id": "Q7mbpijaDInu",
      "execution_count": null,
      "outputs": []
    },
    {
      "cell_type": "markdown",
      "id": "JHu0ZvkSkDG0",
      "metadata": {
        "id": "JHu0ZvkSkDG0"
      },
      "source": [
        "# Graph finding paths"
      ]
    },
    {
      "cell_type": "code",
      "execution_count": null,
      "id": "s_HfJXf0ekgM",
      "metadata": {
        "id": "s_HfJXf0ekgM"
      },
      "outputs": [],
      "source": [
        "results = []\n",
        "for n1 in G.nodes():\n",
        "    for n2 in G.nodes():\n",
        "        shortest_path = nx.single_source_dijkstra(G, source=n1, target=n2)\n",
        "        results.append(shortest_path)\n"
      ]
    },
    {
      "cell_type": "code",
      "execution_count": null,
      "id": "ChoM9092e7pS",
      "metadata": {
        "id": "ChoM9092e7pS"
      },
      "outputs": [],
      "source": [
        "shortest_path = nx.single_source_dijkstra(G, source='ведерников и.с.', target='COMPANY')\n",
        "print(shortest_path)\n"
      ]
    },
    {
      "cell_type": "markdown",
      "id": "L3NZSEiMkR4j",
      "metadata": {
        "id": "L3NZSEiMkR4j"
      },
      "source": [
        "# SPACY"
      ]
    },
    {
      "cell_type": "code",
      "execution_count": null,
      "id": "UT2ucIINkQZT",
      "metadata": {
        "id": "UT2ucIINkQZT"
      },
      "outputs": [],
      "source": [
        "!python -m spacy download ru_core_news_lg\n"
      ]
    },
    {
      "cell_type": "code",
      "execution_count": null,
      "id": "b48ee99f",
      "metadata": {
        "id": "b48ee99f"
      },
      "outputs": [],
      "source": [
        "import spacy\n",
        "nlp = spacy.load('ru_core_news_lg')\n"
      ]
    },
    {
      "cell_type": "markdown",
      "id": "f0f7afa0",
      "metadata": {
        "id": "f0f7afa0"
      },
      "source": [
        "# Helper functions"
      ]
    },
    {
      "cell_type": "code",
      "execution_count": null,
      "id": "89379f1c",
      "metadata": {
        "id": "89379f1c"
      },
      "outputs": [],
      "source": [
        "shortest_path = nx.single_source_dijkstra(G, source='ведерников и.с.', target='COMPANY')\n",
        "print(shortest_path)"
      ]
    },
    {
      "cell_type": "markdown",
      "id": "478ada9f",
      "metadata": {
        "id": "478ada9f"
      },
      "source": [
        "Is a given person works in the company"
      ]
    },
    {
      "cell_type": "code",
      "execution_count": null,
      "id": "cfbc0603",
      "metadata": {
        "id": "cfbc0603"
      },
      "outputs": [],
      "source": [
        "def is_employee(graph, company, name):\n",
        "  try:\n",
        "    shortest_path = nx.single_source_dijkstra(G, source=company, target=name)\n",
        "    print(shortest_path)\n",
        "    if shortest_path[0] == 3 and shortest_path[1][-1] == name:\n",
        "      return True\n",
        "    else:\n",
        "      return False\n",
        "  except:\n",
        "    return False\n",
        "\n",
        "is_employee(G, 'COMPANY', 'ведерников и.с.')"
      ]
    },
    {
      "cell_type": "code",
      "execution_count": null,
      "id": "96cb8c26",
      "metadata": {
        "id": "96cb8c26"
      },
      "outputs": [],
      "source": [
        "is_employee(G, 'COMPANY', 'абатуров борис')"
      ]
    },
    {
      "cell_type": "markdown",
      "id": "85f59704",
      "metadata": {
        "id": "85f59704"
      },
      "source": [
        "Is a given person works in the company"
      ]
    },
    {
      "cell_type": "code",
      "execution_count": null,
      "id": "bf13ebba",
      "metadata": {
        "id": "bf13ebba"
      },
      "outputs": [],
      "source": [
        "def is_employee_to_dept(graph, company, dept, name):\n",
        "  try:\n",
        "    shortest_path = nx.single_source_dijkstra(G, source=company, target=name)\n",
        "    print(shortest_path)\n",
        "    if shortest_path[0] == 3 and shortest_path[1][1] == dept:\n",
        "      return True\n",
        "    else:\n",
        "      return False\n",
        "  except:\n",
        "    return False\n",
        "\n",
        "\n",
        "is_employee_to_dept(G, 'COMPANY', 'Отдел эксплуатации', 'ведерников и.с.')"
      ]
    },
    {
      "cell_type": "code",
      "execution_count": null,
      "id": "9b656612",
      "metadata": {
        "id": "9b656612"
      },
      "outputs": [],
      "source": [
        "is_employee_to_dept(G, 'COMPANY', 'Отдел эксплуатации', 'абатуров борис')"
      ]
    },
    {
      "cell_type": "code",
      "execution_count": null,
      "id": "9df44e02",
      "metadata": {
        "id": "9df44e02"
      },
      "outputs": [],
      "source": [
        "results = []\n",
        "for n1 in G.nodes():\n",
        "    for n2 in G.nodes():\n",
        "        shortest_path = nx.single_source_dijkstra(G, source=n1, target=n2)\n",
        "        results.append(shortest_path)\n"
      ]
    },
    {
      "cell_type": "code",
      "execution_count": null,
      "id": "119bc822",
      "metadata": {
        "id": "119bc822"
      },
      "outputs": [],
      "source": [
        "#[x for x in results if x[0] != 3]"
      ]
    }
  ],
  "metadata": {
    "colab": {
      "provenance": [],
      "include_colab_link": true
    },
    "kernelspec": {
      "display_name": "Python 3 (ipykernel)",
      "language": "python",
      "name": "python3"
    },
    "language_info": {
      "codemirror_mode": {
        "name": "ipython",
        "version": 3
      },
      "file_extension": ".py",
      "mimetype": "text/x-python",
      "name": "python",
      "nbconvert_exporter": "python",
      "pygments_lexer": "ipython3",
      "version": "3.10.0rc2"
    }
  },
  "nbformat": 4,
  "nbformat_minor": 5
}