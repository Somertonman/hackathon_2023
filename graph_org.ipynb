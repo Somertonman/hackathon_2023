{
  "cells": [
    {
      "cell_type": "markdown",
      "id": "c39153f4",
      "metadata": {
        "id": "c39153f4"
      },
      "source": [
        "# Imports"
      ]
    },
    {
      "cell_type": "code",
      "execution_count": null,
      "id": "fc45a6df",
      "metadata": {
        "id": "fc45a6df",
        "outputId": "e2151575-9f0f-4e53-a88c-5e3f93405b14"
      },
      "outputs": [
        {
          "name": "stdout",
          "output_type": "stream",
          "text": [
            "Collecting matplotlib\n",
            "  Downloading matplotlib-3.6.3-cp310-cp310-macosx_10_12_x86_64.whl (7.3 MB)\n",
            "\u001b[2K     \u001b[90m━━━━━━━━━━━━━━━━━━━━━━━━━━━━━━━━━━━━━━━━\u001b[0m \u001b[32m7.3/7.3 MB\u001b[0m \u001b[31m6.1 MB/s\u001b[0m eta \u001b[36m0:00:00\u001b[0m00:01\u001b[0m00:01\u001b[0m\n",
            "\u001b[?25hCollecting cycler>=0.10\n",
            "  Downloading cycler-0.11.0-py3-none-any.whl (6.4 kB)\n",
            "Requirement already satisfied: numpy>=1.19 in /Library/Frameworks/Python.framework/Versions/3.10/lib/python3.10/site-packages (from matplotlib) (1.21.4)\n",
            "Collecting contourpy>=1.0.1\n",
            "  Downloading contourpy-1.0.7-cp310-cp310-macosx_10_9_x86_64.whl (244 kB)\n",
            "\u001b[2K     \u001b[90m━━━━━━━━━━━━━━━━━━━━━━━━━━━━━━━━━━━━━━━\u001b[0m \u001b[32m244.2/244.2 kB\u001b[0m \u001b[31m4.2 MB/s\u001b[0m eta \u001b[36m0:00:00\u001b[0ma \u001b[36m0:00:01\u001b[0m\n",
            "\u001b[?25hRequirement already satisfied: packaging>=20.0 in /Library/Frameworks/Python.framework/Versions/3.10/lib/python3.10/site-packages (from matplotlib) (21.3)\n",
            "Requirement already satisfied: pillow>=6.2.0 in /Library/Frameworks/Python.framework/Versions/3.10/lib/python3.10/site-packages (from matplotlib) (8.4.0)\n",
            "Requirement already satisfied: pyparsing>=2.2.1 in /Library/Frameworks/Python.framework/Versions/3.10/lib/python3.10/site-packages (from matplotlib) (3.0.6)\n",
            "Collecting fonttools>=4.22.0\n",
            "  Downloading fonttools-4.38.0-py3-none-any.whl (965 kB)\n",
            "\u001b[2K     \u001b[90m━━━━━━━━━━━━━━━━━━━━━━━━━━━━━━━━━━━━━━━\u001b[0m \u001b[32m965.4/965.4 kB\u001b[0m \u001b[31m5.7 MB/s\u001b[0m eta \u001b[36m0:00:00\u001b[0m00:01\u001b[0m00:01\u001b[0m\n",
            "\u001b[?25hCollecting kiwisolver>=1.0.1\n",
            "  Downloading kiwisolver-1.4.4-cp310-cp310-macosx_10_9_x86_64.whl (65 kB)\n",
            "\u001b[2K     \u001b[90m━━━━━━━━━━━━━━━━━━━━━━━━━━━━━━━━━━━━━━━━\u001b[0m \u001b[32m65.5/65.5 kB\u001b[0m \u001b[31m2.1 MB/s\u001b[0m eta \u001b[36m0:00:00\u001b[0m\n",
            "\u001b[?25hRequirement already satisfied: python-dateutil>=2.7 in /Library/Frameworks/Python.framework/Versions/3.10/lib/python3.10/site-packages (from matplotlib) (2.8.2)\n",
            "Requirement already satisfied: six>=1.5 in /Library/Frameworks/Python.framework/Versions/3.10/lib/python3.10/site-packages (from python-dateutil>=2.7->matplotlib) (1.16.0)\n",
            "Installing collected packages: kiwisolver, fonttools, cycler, contourpy, matplotlib\n",
            "Successfully installed contourpy-1.0.7 cycler-0.11.0 fonttools-4.38.0 kiwisolver-1.4.4 matplotlib-3.6.3\n",
            "\u001b[33mWARNING: There was an error checking the latest version of pip.\u001b[0m\u001b[33m\n",
            "\u001b[0mNote: you may need to restart the kernel to use updated packages.\n"
          ]
        }
      ],
      "source": [
        "pip install matplotlib"
      ]
    },
    {
      "cell_type": "code",
      "execution_count": null,
      "id": "VEJJkrDAY4ey",
      "metadata": {
        "colab": {
          "base_uri": "https://localhost:8080/"
        },
        "id": "VEJJkrDAY4ey",
        "outputId": "87e177d4-954c-4e4f-f1e1-3bd85b569557"
      },
      "outputs": [
        {
          "name": "stdout",
          "output_type": "stream",
          "text": [
            "Looking in indexes: https://pypi.org/simple, https://us-python.pkg.dev/colab-wheels/public/simple/\n",
            "Collecting stanza\n",
            "  Downloading stanza-1.4.2-py3-none-any.whl (691 kB)\n",
            "\u001b[2K     \u001b[90m━━━━━━━━━━━━━━━━━━━━━━━━━━━━━━━━━━━━━━\u001b[0m \u001b[32m691.3/691.3 KB\u001b[0m \u001b[31m17.1 MB/s\u001b[0m eta \u001b[36m0:00:00\u001b[0m\n",
            "\u001b[?25hCollecting emoji\n",
            "  Downloading emoji-2.2.0.tar.gz (240 kB)\n",
            "\u001b[2K     \u001b[90m━━━━━━━━━━━━━━━━━━━━━━━━━━━━━━━━━━━━━━\u001b[0m \u001b[32m240.9/240.9 KB\u001b[0m \u001b[31m22.8 MB/s\u001b[0m eta \u001b[36m0:00:00\u001b[0m\n",
            "\u001b[?25h  Preparing metadata (setup.py) ... \u001b[?25l\u001b[?25hdone\n",
            "Requirement already satisfied: six in /usr/local/lib/python3.8/dist-packages (from stanza) (1.15.0)\n",
            "Requirement already satisfied: numpy in /usr/local/lib/python3.8/dist-packages (from stanza) (1.21.6)\n",
            "Requirement already satisfied: tqdm in /usr/local/lib/python3.8/dist-packages (from stanza) (4.64.1)\n",
            "Requirement already satisfied: requests in /usr/local/lib/python3.8/dist-packages (from stanza) (2.25.1)\n",
            "Requirement already satisfied: protobuf in /usr/local/lib/python3.8/dist-packages (from stanza) (3.19.6)\n",
            "Requirement already satisfied: torch>=1.3.0 in /usr/local/lib/python3.8/dist-packages (from stanza) (1.13.1+cu116)\n",
            "Requirement already satisfied: typing-extensions in /usr/local/lib/python3.8/dist-packages (from torch>=1.3.0->stanza) (4.4.0)\n",
            "Requirement already satisfied: idna<3,>=2.5 in /usr/local/lib/python3.8/dist-packages (from requests->stanza) (2.10)\n",
            "Requirement already satisfied: chardet<5,>=3.0.2 in /usr/local/lib/python3.8/dist-packages (from requests->stanza) (4.0.0)\n",
            "Requirement already satisfied: urllib3<1.27,>=1.21.1 in /usr/local/lib/python3.8/dist-packages (from requests->stanza) (1.24.3)\n",
            "Requirement already satisfied: certifi>=2017.4.17 in /usr/local/lib/python3.8/dist-packages (from requests->stanza) (2022.12.7)\n",
            "Building wheels for collected packages: emoji\n",
            "  Building wheel for emoji (setup.py) ... \u001b[?25l\u001b[?25hdone\n",
            "  Created wheel for emoji: filename=emoji-2.2.0-py3-none-any.whl size=234926 sha256=f730d48487bcc390a994c284dbfa622c439253630baee24366328de96c58b5e1\n",
            "  Stored in directory: /root/.cache/pip/wheels/86/62/9e/a6b27a681abcde69970dbc0326ff51955f3beac72f15696984\n",
            "Successfully built emoji\n",
            "Installing collected packages: emoji, stanza\n",
            "Successfully installed emoji-2.2.0 stanza-1.4.2\n"
          ]
        }
      ],
      "source": [
        "pip install stanza\n"
      ]
    },
    {
      "cell_type": "code",
      "execution_count": null,
      "id": "9a31b4b0",
      "metadata": {
        "id": "9a31b4b0"
      },
      "outputs": [],
      "source": [
        "import pandas as pd\n",
        "import networkx as nx\n",
        "import matplotlib.pyplot as plt\n"
      ]
    },
    {
      "cell_type": "markdown",
      "id": "527af5e1",
      "metadata": {
        "id": "527af5e1"
      },
      "source": [
        "# Data source"
      ]
    },
    {
      "cell_type": "code",
      "execution_count": null,
      "id": "5d4554ae",
      "metadata": {
        "colab": {
          "base_uri": "https://localhost:8080/",
          "height": 424
        },
        "id": "5d4554ae",
        "outputId": "61595b8c-aa62-4cdf-ab4c-036c398374b9"
      },
      "outputs": [
        {
          "data": {
            "text/html": [
              "\n",
              "  <div id=\"df-b799900b-9df6-4336-a7ad-c5c294b1d67f\">\n",
              "    <div class=\"colab-df-container\">\n",
              "      <div>\n",
              "<style scoped>\n",
              "    .dataframe tbody tr th:only-of-type {\n",
              "        vertical-align: middle;\n",
              "    }\n",
              "\n",
              "    .dataframe tbody tr th {\n",
              "        vertical-align: top;\n",
              "    }\n",
              "\n",
              "    .dataframe thead th {\n",
              "        text-align: right;\n",
              "    }\n",
              "</style>\n",
              "<table border=\"1\" class=\"dataframe\">\n",
              "  <thead>\n",
              "    <tr style=\"text-align: right;\">\n",
              "      <th></th>\n",
              "      <th>id</th>\n",
              "      <th>task_num</th>\n",
              "      <th>task_text</th>\n",
              "      <th>dept</th>\n",
              "      <th>task_responsibles_people</th>\n",
              "      <th>task_deadline</th>\n",
              "      <th>position</th>\n",
              "      <th>name</th>\n",
              "      <th>global_deadline</th>\n",
              "      <th>Tasks</th>\n",
              "    </tr>\n",
              "  </thead>\n",
              "  <tbody>\n",
              "    <tr>\n",
              "      <th>0</th>\n",
              "      <td>0</td>\n",
              "      <td>Task1</td>\n",
              "      <td>Закупить книги. Срок завершения: 19 апр 15.</td>\n",
              "      <td>Административно-хозяйственный отдел</td>\n",
              "      <td>Ответственность за исполнение распоряжения воз...</td>\n",
              "      <td>2015-04-18</td>\n",
              "      <td>специалист первый категория административно-хо...</td>\n",
              "      <td>кравцов и.е.</td>\n",
              "      <td>2013-04-10</td>\n",
              "      <td>NaN</td>\n",
              "    </tr>\n",
              "    <tr>\n",
              "      <th>1</th>\n",
              "      <td>1</td>\n",
              "      <td>Task1</td>\n",
              "      <td>Провести анализ поставщиков для замены вышедше...</td>\n",
              "      <td>Служба ИТ</td>\n",
              "      <td>Ответственность за исполнение распоряжения воз...</td>\n",
              "      <td>2012-10-23</td>\n",
              "      <td>специалист третий категория служба ит</td>\n",
              "      <td>ким юрий иванович</td>\n",
              "      <td>2013-06-02</td>\n",
              "      <td>NaN</td>\n",
              "    </tr>\n",
              "    <tr>\n",
              "      <th>2</th>\n",
              "      <td>1</td>\n",
              "      <td>Task2</td>\n",
              "      <td>Выполнить ремонт кабеля сети передачи данных м...</td>\n",
              "      <td>Служба ИТ</td>\n",
              "      <td>Контроль над выполнением приказа возложить на ...</td>\n",
              "      <td>2013-08-11</td>\n",
              "      <td>системный администратор</td>\n",
              "      <td>сергеев андрей</td>\n",
              "      <td>2013-06-02</td>\n",
              "      <td>NaN</td>\n",
              "    </tr>\n",
              "    <tr>\n",
              "      <th>3</th>\n",
              "      <td>1</td>\n",
              "      <td>Task3</td>\n",
              "      <td>Создать и настроить виртуальную машину в соотв...</td>\n",
              "      <td>Служба ИТ</td>\n",
              "      <td>Контроль над исполнением распоряжения оставить...</td>\n",
              "      <td>2019-09-09</td>\n",
              "      <td>специалист третий категория</td>\n",
              "      <td>ким юрий иванович</td>\n",
              "      <td>2013-06-02</td>\n",
              "      <td>NaN</td>\n",
              "    </tr>\n",
              "    <tr>\n",
              "      <th>4</th>\n",
              "      <td>2</td>\n",
              "      <td>Task1</td>\n",
              "      <td>Провести рефакторинг программного обеспечения ...</td>\n",
              "      <td>Отдел разработки систем</td>\n",
              "      <td>Контроль над исполнением распоряжения оставить...</td>\n",
              "      <td>2020-12-23</td>\n",
              "      <td>контроль над исполнение распоряжение</td>\n",
              "      <td>абаимов симон</td>\n",
              "      <td>2014-10-07</td>\n",
              "      <td>NaN</td>\n",
              "    </tr>\n",
              "  </tbody>\n",
              "</table>\n",
              "</div>\n",
              "      <button class=\"colab-df-convert\" onclick=\"convertToInteractive('df-b799900b-9df6-4336-a7ad-c5c294b1d67f')\"\n",
              "              title=\"Convert this dataframe to an interactive table.\"\n",
              "              style=\"display:none;\">\n",
              "        \n",
              "  <svg xmlns=\"http://www.w3.org/2000/svg\" height=\"24px\"viewBox=\"0 0 24 24\"\n",
              "       width=\"24px\">\n",
              "    <path d=\"M0 0h24v24H0V0z\" fill=\"none\"/>\n",
              "    <path d=\"M18.56 5.44l.94 2.06.94-2.06 2.06-.94-2.06-.94-.94-2.06-.94 2.06-2.06.94zm-11 1L8.5 8.5l.94-2.06 2.06-.94-2.06-.94L8.5 2.5l-.94 2.06-2.06.94zm10 10l.94 2.06.94-2.06 2.06-.94-2.06-.94-.94-2.06-.94 2.06-2.06.94z\"/><path d=\"M17.41 7.96l-1.37-1.37c-.4-.4-.92-.59-1.43-.59-.52 0-1.04.2-1.43.59L10.3 9.45l-7.72 7.72c-.78.78-.78 2.05 0 2.83L4 21.41c.39.39.9.59 1.41.59.51 0 1.02-.2 1.41-.59l7.78-7.78 2.81-2.81c.8-.78.8-2.07 0-2.86zM5.41 20L4 18.59l7.72-7.72 1.47 1.35L5.41 20z\"/>\n",
              "  </svg>\n",
              "      </button>\n",
              "      \n",
              "  <style>\n",
              "    .colab-df-container {\n",
              "      display:flex;\n",
              "      flex-wrap:wrap;\n",
              "      gap: 12px;\n",
              "    }\n",
              "\n",
              "    .colab-df-convert {\n",
              "      background-color: #E8F0FE;\n",
              "      border: none;\n",
              "      border-radius: 50%;\n",
              "      cursor: pointer;\n",
              "      display: none;\n",
              "      fill: #1967D2;\n",
              "      height: 32px;\n",
              "      padding: 0 0 0 0;\n",
              "      width: 32px;\n",
              "    }\n",
              "\n",
              "    .colab-df-convert:hover {\n",
              "      background-color: #E2EBFA;\n",
              "      box-shadow: 0px 1px 2px rgba(60, 64, 67, 0.3), 0px 1px 3px 1px rgba(60, 64, 67, 0.15);\n",
              "      fill: #174EA6;\n",
              "    }\n",
              "\n",
              "    [theme=dark] .colab-df-convert {\n",
              "      background-color: #3B4455;\n",
              "      fill: #D2E3FC;\n",
              "    }\n",
              "\n",
              "    [theme=dark] .colab-df-convert:hover {\n",
              "      background-color: #434B5C;\n",
              "      box-shadow: 0px 1px 3px 1px rgba(0, 0, 0, 0.15);\n",
              "      filter: drop-shadow(0px 1px 2px rgba(0, 0, 0, 0.3));\n",
              "      fill: #FFFFFF;\n",
              "    }\n",
              "  </style>\n",
              "\n",
              "      <script>\n",
              "        const buttonEl =\n",
              "          document.querySelector('#df-b799900b-9df6-4336-a7ad-c5c294b1d67f button.colab-df-convert');\n",
              "        buttonEl.style.display =\n",
              "          google.colab.kernel.accessAllowed ? 'block' : 'none';\n",
              "\n",
              "        async function convertToInteractive(key) {\n",
              "          const element = document.querySelector('#df-b799900b-9df6-4336-a7ad-c5c294b1d67f');\n",
              "          const dataTable =\n",
              "            await google.colab.kernel.invokeFunction('convertToInteractive',\n",
              "                                                     [key], {});\n",
              "          if (!dataTable) return;\n",
              "\n",
              "          const docLinkHtml = 'Like what you see? Visit the ' +\n",
              "            '<a target=\"_blank\" href=https://colab.research.google.com/notebooks/data_table.ipynb>data table notebook</a>'\n",
              "            + ' to learn more about interactive tables.';\n",
              "          element.innerHTML = '';\n",
              "          dataTable['output_type'] = 'display_data';\n",
              "          await google.colab.output.renderOutput(dataTable, element);\n",
              "          const docLink = document.createElement('div');\n",
              "          docLink.innerHTML = docLinkHtml;\n",
              "          element.appendChild(docLink);\n",
              "        }\n",
              "      </script>\n",
              "    </div>\n",
              "  </div>\n",
              "  "
            ],
            "text/plain": [
              "   id task_num                                          task_text  \\\n",
              "0   0    Task1        Закупить книги. Срок завершения: 19 апр 15.   \n",
              "1   1    Task1  Провести анализ поставщиков для замены вышедше...   \n",
              "2   1    Task2  Выполнить ремонт кабеля сети передачи данных м...   \n",
              "3   1    Task3  Создать и настроить виртуальную машину в соотв...   \n",
              "4   2    Task1  Провести рефакторинг программного обеспечения ...   \n",
              "\n",
              "                                  dept  \\\n",
              "0  Административно-хозяйственный отдел   \n",
              "1                            Служба ИТ   \n",
              "2                            Служба ИТ   \n",
              "3                            Служба ИТ   \n",
              "4              Отдел разработки систем   \n",
              "\n",
              "                            task_responsibles_people task_deadline  \\\n",
              "0  Ответственность за исполнение распоряжения воз...    2015-04-18   \n",
              "1  Ответственность за исполнение распоряжения воз...    2012-10-23   \n",
              "2  Контроль над выполнением приказа возложить на ...    2013-08-11   \n",
              "3  Контроль над исполнением распоряжения оставить...    2019-09-09   \n",
              "4  Контроль над исполнением распоряжения оставить...    2020-12-23   \n",
              "\n",
              "                                            position               name  \\\n",
              "0  специалист первый категория административно-хо...       кравцов и.е.   \n",
              "1              специалист третий категория служба ит  ким юрий иванович   \n",
              "2                            системный администратор     сергеев андрей   \n",
              "3                        специалист третий категория  ким юрий иванович   \n",
              "4               контроль над исполнение распоряжение      абаимов симон   \n",
              "\n",
              "  global_deadline  Tasks  \n",
              "0      2013-04-10    NaN  \n",
              "1      2013-06-02    NaN  \n",
              "2      2013-06-02    NaN  \n",
              "3      2013-06-02    NaN  \n",
              "4      2014-10-07    NaN  "
            ]
          },
          "execution_count": 3,
          "metadata": {},
          "output_type": "execute_result"
        }
      ],
      "source": [
        "df = pd.read_csv('all_parsed_graph.csv')\n",
        "df = df.query('name != \"себя\"').reset_index().drop(columns='index')\n",
        "df = df[['id', 'task_num',\n",
        "       'task_text', 'dept', 'task_responsibles_people', 'task_deadline',\n",
        "       'position', 'name', 'global_deadline', 'Tasks']]\n",
        "df.head()"
      ]
    },
    {
      "cell_type": "code",
      "execution_count": null,
      "id": "eKCUbdBMbebX",
      "metadata": {
        "colab": {
          "base_uri": "https://localhost:8080/",
          "height": 815
        },
        "id": "eKCUbdBMbebX",
        "outputId": "1e5c2a2c-1228-44d7-8f67-f2f03d29343b"
      },
      "outputs": [
        {
          "data": {
            "text/html": [
              "\n",
              "  <div id=\"df-d7071a77-ee2f-45d8-8ae6-cc6fe355a68f\">\n",
              "    <div class=\"colab-df-container\">\n",
              "      <div>\n",
              "<style scoped>\n",
              "    .dataframe tbody tr th:only-of-type {\n",
              "        vertical-align: middle;\n",
              "    }\n",
              "\n",
              "    .dataframe tbody tr th {\n",
              "        vertical-align: top;\n",
              "    }\n",
              "\n",
              "    .dataframe thead th {\n",
              "        text-align: right;\n",
              "    }\n",
              "</style>\n",
              "<table border=\"1\" class=\"dataframe\">\n",
              "  <thead>\n",
              "    <tr style=\"text-align: right;\">\n",
              "      <th></th>\n",
              "      <th>id</th>\n",
              "      <th>task_num</th>\n",
              "      <th>task_text</th>\n",
              "      <th>dept</th>\n",
              "      <th>task_responsibles_people</th>\n",
              "      <th>task_deadline</th>\n",
              "      <th>position</th>\n",
              "      <th>name</th>\n",
              "      <th>global_deadline</th>\n",
              "      <th>Tasks</th>\n",
              "    </tr>\n",
              "  </thead>\n",
              "  <tbody>\n",
              "    <tr>\n",
              "      <th>0</th>\n",
              "      <td>0</td>\n",
              "      <td>Task1</td>\n",
              "      <td>Закупить книги. Срок завершения: 19 апр 15.</td>\n",
              "      <td>Административно-хозяйственный отдел</td>\n",
              "      <td>Ответственность за исполнение распоряжения воз...</td>\n",
              "      <td>2015-04-18</td>\n",
              "      <td>специалист первый категория административно-хо...</td>\n",
              "      <td>кравцов и.е.</td>\n",
              "      <td>2013-04-10</td>\n",
              "      <td>0.0</td>\n",
              "    </tr>\n",
              "    <tr>\n",
              "      <th>1</th>\n",
              "      <td>1</td>\n",
              "      <td>Task1</td>\n",
              "      <td>Провести анализ поставщиков для замены вышедше...</td>\n",
              "      <td>Служба ИТ</td>\n",
              "      <td>Ответственность за исполнение распоряжения воз...</td>\n",
              "      <td>2012-10-23</td>\n",
              "      <td>специалист третий категория служба ит</td>\n",
              "      <td>ким юрий иванович</td>\n",
              "      <td>2013-06-02</td>\n",
              "      <td>0.0</td>\n",
              "    </tr>\n",
              "    <tr>\n",
              "      <th>2</th>\n",
              "      <td>1</td>\n",
              "      <td>Task2</td>\n",
              "      <td>Выполнить ремонт кабеля сети передачи данных м...</td>\n",
              "      <td>Служба ИТ</td>\n",
              "      <td>Контроль над выполнением приказа возложить на ...</td>\n",
              "      <td>2013-08-11</td>\n",
              "      <td>системный администратор</td>\n",
              "      <td>сергеев андрей</td>\n",
              "      <td>2013-06-02</td>\n",
              "      <td>0.0</td>\n",
              "    </tr>\n",
              "    <tr>\n",
              "      <th>3</th>\n",
              "      <td>1</td>\n",
              "      <td>Task3</td>\n",
              "      <td>Создать и настроить виртуальную машину в соотв...</td>\n",
              "      <td>Служба ИТ</td>\n",
              "      <td>Контроль над исполнением распоряжения оставить...</td>\n",
              "      <td>2019-09-09</td>\n",
              "      <td>специалист третий категория</td>\n",
              "      <td>ким юрий иванович</td>\n",
              "      <td>2013-06-02</td>\n",
              "      <td>0.0</td>\n",
              "    </tr>\n",
              "    <tr>\n",
              "      <th>4</th>\n",
              "      <td>2</td>\n",
              "      <td>Task1</td>\n",
              "      <td>Провести рефакторинг программного обеспечения ...</td>\n",
              "      <td>Отдел разработки систем</td>\n",
              "      <td>Контроль над исполнением распоряжения оставить...</td>\n",
              "      <td>2020-12-23</td>\n",
              "      <td>контроль над исполнение распоряжение</td>\n",
              "      <td>абаимов симон</td>\n",
              "      <td>2014-10-07</td>\n",
              "      <td>0.0</td>\n",
              "    </tr>\n",
              "    <tr>\n",
              "      <th>...</th>\n",
              "      <td>...</td>\n",
              "      <td>...</td>\n",
              "      <td>...</td>\n",
              "      <td>...</td>\n",
              "      <td>...</td>\n",
              "      <td>...</td>\n",
              "      <td>...</td>\n",
              "      <td>...</td>\n",
              "      <td>...</td>\n",
              "      <td>...</td>\n",
              "    </tr>\n",
              "    <tr>\n",
              "      <th>2864</th>\n",
              "      <td>623</td>\n",
              "      <td>Task3</td>\n",
              "      <td>Провести ремонт входной двери. Выполнить данно...</td>\n",
              "      <td>Административно-хозяйственный отдел</td>\n",
              "      <td>Ответственным за контролем над исполнением выш...</td>\n",
              "      <td>2015-06-14</td>\n",
              "      <td>специалист первый категория административно-хо...</td>\n",
              "      <td>кравцов и.е.</td>\n",
              "      <td>2014-03-17</td>\n",
              "      <td>0.0</td>\n",
              "    </tr>\n",
              "    <tr>\n",
              "      <th>2865</th>\n",
              "      <td>623</td>\n",
              "      <td>Task4</td>\n",
              "      <td>Устранить засор на кухне. Выполнить данное пор...</td>\n",
              "      <td>Административно-хозяйственный отдел</td>\n",
              "      <td>Ответственность за исполнение распоряжения воз...</td>\n",
              "      <td>2015-05-18</td>\n",
              "      <td>руководитель административно-хозяйственный отдел</td>\n",
              "      <td>с.с.галкин</td>\n",
              "      <td>2014-03-17</td>\n",
              "      <td>0.0</td>\n",
              "    </tr>\n",
              "    <tr>\n",
              "      <th>2866</th>\n",
              "      <td>623</td>\n",
              "      <td>Task5</td>\n",
              "      <td>Провести опрос сотрудников. Срок завершения: 0...</td>\n",
              "      <td>Административно-хозяйственный отдел</td>\n",
              "      <td>Контроль над выполнением настоящего приказа во...</td>\n",
              "      <td>2014-07-06</td>\n",
              "      <td>специалист первый категория административно-хо...</td>\n",
              "      <td>кравцов и.е.</td>\n",
              "      <td>2014-03-17</td>\n",
              "      <td>0.0</td>\n",
              "    </tr>\n",
              "    <tr>\n",
              "      <th>2867</th>\n",
              "      <td>623</td>\n",
              "      <td>Task6</td>\n",
              "      <td>Согласовать места установки камер видеонаблюде...</td>\n",
              "      <td>Административно-хозяйственный отдел</td>\n",
              "      <td>За контроль над исполнением распоряжения назна...</td>\n",
              "      <td>2015-04-08</td>\n",
              "      <td>руководитель административно-хозяйственный отдел</td>\n",
              "      <td>с.с.галкин</td>\n",
              "      <td>2014-03-17</td>\n",
              "      <td>0.0</td>\n",
              "    </tr>\n",
              "    <tr>\n",
              "      <th>2868</th>\n",
              "      <td>623</td>\n",
              "      <td>Task7</td>\n",
              "      <td>Уточнить список сотрудников, имеющих право на ...</td>\n",
              "      <td>Административно-хозяйственный отдел</td>\n",
              "      <td>Контроль над выполнением настоящего приказа во...</td>\n",
              "      <td>2018-06-24</td>\n",
              "      <td>руководитель административно-хозяйственный отдел</td>\n",
              "      <td>с.с.галкин</td>\n",
              "      <td>2014-03-17</td>\n",
              "      <td>0.0</td>\n",
              "    </tr>\n",
              "  </tbody>\n",
              "</table>\n",
              "<p>2869 rows × 10 columns</p>\n",
              "</div>\n",
              "      <button class=\"colab-df-convert\" onclick=\"convertToInteractive('df-d7071a77-ee2f-45d8-8ae6-cc6fe355a68f')\"\n",
              "              title=\"Convert this dataframe to an interactive table.\"\n",
              "              style=\"display:none;\">\n",
              "        \n",
              "  <svg xmlns=\"http://www.w3.org/2000/svg\" height=\"24px\"viewBox=\"0 0 24 24\"\n",
              "       width=\"24px\">\n",
              "    <path d=\"M0 0h24v24H0V0z\" fill=\"none\"/>\n",
              "    <path d=\"M18.56 5.44l.94 2.06.94-2.06 2.06-.94-2.06-.94-.94-2.06-.94 2.06-2.06.94zm-11 1L8.5 8.5l.94-2.06 2.06-.94-2.06-.94L8.5 2.5l-.94 2.06-2.06.94zm10 10l.94 2.06.94-2.06 2.06-.94-2.06-.94-.94-2.06-.94 2.06-2.06.94z\"/><path d=\"M17.41 7.96l-1.37-1.37c-.4-.4-.92-.59-1.43-.59-.52 0-1.04.2-1.43.59L10.3 9.45l-7.72 7.72c-.78.78-.78 2.05 0 2.83L4 21.41c.39.39.9.59 1.41.59.51 0 1.02-.2 1.41-.59l7.78-7.78 2.81-2.81c.8-.78.8-2.07 0-2.86zM5.41 20L4 18.59l7.72-7.72 1.47 1.35L5.41 20z\"/>\n",
              "  </svg>\n",
              "      </button>\n",
              "      \n",
              "  <style>\n",
              "    .colab-df-container {\n",
              "      display:flex;\n",
              "      flex-wrap:wrap;\n",
              "      gap: 12px;\n",
              "    }\n",
              "\n",
              "    .colab-df-convert {\n",
              "      background-color: #E8F0FE;\n",
              "      border: none;\n",
              "      border-radius: 50%;\n",
              "      cursor: pointer;\n",
              "      display: none;\n",
              "      fill: #1967D2;\n",
              "      height: 32px;\n",
              "      padding: 0 0 0 0;\n",
              "      width: 32px;\n",
              "    }\n",
              "\n",
              "    .colab-df-convert:hover {\n",
              "      background-color: #E2EBFA;\n",
              "      box-shadow: 0px 1px 2px rgba(60, 64, 67, 0.3), 0px 1px 3px 1px rgba(60, 64, 67, 0.15);\n",
              "      fill: #174EA6;\n",
              "    }\n",
              "\n",
              "    [theme=dark] .colab-df-convert {\n",
              "      background-color: #3B4455;\n",
              "      fill: #D2E3FC;\n",
              "    }\n",
              "\n",
              "    [theme=dark] .colab-df-convert:hover {\n",
              "      background-color: #434B5C;\n",
              "      box-shadow: 0px 1px 3px 1px rgba(0, 0, 0, 0.15);\n",
              "      filter: drop-shadow(0px 1px 2px rgba(0, 0, 0, 0.3));\n",
              "      fill: #FFFFFF;\n",
              "    }\n",
              "  </style>\n",
              "\n",
              "      <script>\n",
              "        const buttonEl =\n",
              "          document.querySelector('#df-d7071a77-ee2f-45d8-8ae6-cc6fe355a68f button.colab-df-convert');\n",
              "        buttonEl.style.display =\n",
              "          google.colab.kernel.accessAllowed ? 'block' : 'none';\n",
              "\n",
              "        async function convertToInteractive(key) {\n",
              "          const element = document.querySelector('#df-d7071a77-ee2f-45d8-8ae6-cc6fe355a68f');\n",
              "          const dataTable =\n",
              "            await google.colab.kernel.invokeFunction('convertToInteractive',\n",
              "                                                     [key], {});\n",
              "          if (!dataTable) return;\n",
              "\n",
              "          const docLinkHtml = 'Like what you see? Visit the ' +\n",
              "            '<a target=\"_blank\" href=https://colab.research.google.com/notebooks/data_table.ipynb>data table notebook</a>'\n",
              "            + ' to learn more about interactive tables.';\n",
              "          element.innerHTML = '';\n",
              "          dataTable['output_type'] = 'display_data';\n",
              "          await google.colab.output.renderOutput(dataTable, element);\n",
              "          const docLink = document.createElement('div');\n",
              "          docLink.innerHTML = docLinkHtml;\n",
              "          element.appendChild(docLink);\n",
              "        }\n",
              "      </script>\n",
              "    </div>\n",
              "  </div>\n",
              "  "
            ],
            "text/plain": [
              "       id task_num                                          task_text  \\\n",
              "0       0    Task1        Закупить книги. Срок завершения: 19 апр 15.   \n",
              "1       1    Task1  Провести анализ поставщиков для замены вышедше...   \n",
              "2       1    Task2  Выполнить ремонт кабеля сети передачи данных м...   \n",
              "3       1    Task3  Создать и настроить виртуальную машину в соотв...   \n",
              "4       2    Task1  Провести рефакторинг программного обеспечения ...   \n",
              "...   ...      ...                                                ...   \n",
              "2864  623    Task3  Провести ремонт входной двери. Выполнить данно...   \n",
              "2865  623    Task4  Устранить засор на кухне. Выполнить данное пор...   \n",
              "2866  623    Task5  Провести опрос сотрудников. Срок завершения: 0...   \n",
              "2867  623    Task6  Согласовать места установки камер видеонаблюде...   \n",
              "2868  623    Task7  Уточнить список сотрудников, имеющих право на ...   \n",
              "\n",
              "                                     dept  \\\n",
              "0     Административно-хозяйственный отдел   \n",
              "1                               Служба ИТ   \n",
              "2                               Служба ИТ   \n",
              "3                               Служба ИТ   \n",
              "4                 Отдел разработки систем   \n",
              "...                                   ...   \n",
              "2864  Административно-хозяйственный отдел   \n",
              "2865  Административно-хозяйственный отдел   \n",
              "2866  Административно-хозяйственный отдел   \n",
              "2867  Административно-хозяйственный отдел   \n",
              "2868  Административно-хозяйственный отдел   \n",
              "\n",
              "                               task_responsibles_people task_deadline  \\\n",
              "0     Ответственность за исполнение распоряжения воз...    2015-04-18   \n",
              "1     Ответственность за исполнение распоряжения воз...    2012-10-23   \n",
              "2     Контроль над выполнением приказа возложить на ...    2013-08-11   \n",
              "3     Контроль над исполнением распоряжения оставить...    2019-09-09   \n",
              "4     Контроль над исполнением распоряжения оставить...    2020-12-23   \n",
              "...                                                 ...           ...   \n",
              "2864  Ответственным за контролем над исполнением выш...    2015-06-14   \n",
              "2865  Ответственность за исполнение распоряжения воз...    2015-05-18   \n",
              "2866  Контроль над выполнением настоящего приказа во...    2014-07-06   \n",
              "2867  За контроль над исполнением распоряжения назна...    2015-04-08   \n",
              "2868  Контроль над выполнением настоящего приказа во...    2018-06-24   \n",
              "\n",
              "                                               position               name  \\\n",
              "0     специалист первый категория административно-хо...       кравцов и.е.   \n",
              "1                 специалист третий категория служба ит  ким юрий иванович   \n",
              "2                               системный администратор     сергеев андрей   \n",
              "3                           специалист третий категория  ким юрий иванович   \n",
              "4                  контроль над исполнение распоряжение      абаимов симон   \n",
              "...                                                 ...                ...   \n",
              "2864  специалист первый категория административно-хо...       кравцов и.е.   \n",
              "2865   руководитель административно-хозяйственный отдел         с.с.галкин   \n",
              "2866  специалист первый категория административно-хо...       кравцов и.е.   \n",
              "2867   руководитель административно-хозяйственный отдел         с.с.галкин   \n",
              "2868   руководитель административно-хозяйственный отдел         с.с.галкин   \n",
              "\n",
              "     global_deadline  Tasks  \n",
              "0         2013-04-10    0.0  \n",
              "1         2013-06-02    0.0  \n",
              "2         2013-06-02    0.0  \n",
              "3         2013-06-02    0.0  \n",
              "4         2014-10-07    0.0  \n",
              "...              ...    ...  \n",
              "2864      2014-03-17    0.0  \n",
              "2865      2014-03-17    0.0  \n",
              "2866      2014-03-17    0.0  \n",
              "2867      2014-03-17    0.0  \n",
              "2868      2014-03-17    0.0  \n",
              "\n",
              "[2869 rows x 10 columns]"
            ]
          },
          "execution_count": 38,
          "metadata": {},
          "output_type": "execute_result"
        }
      ],
      "source": [
        "z = df.position.value_counts()\n",
        "df"
      ]
    },
    {
      "cell_type": "code",
      "execution_count": null,
      "id": "w1rUtoadiM9w",
      "metadata": {
        "colab": {
          "base_uri": "https://localhost:8080/",
          "height": 35
        },
        "id": "w1rUtoadiM9w",
        "outputId": "b245c23f-26e9-4b39-f539-216029724665"
      },
      "outputs": [
        {
          "data": {
            "application/vnd.google.colaboratory.intrinsic+json": {
              "type": "string"
            },
            "text/plain": [
              "'специалист трет категор'"
            ]
          },
          "execution_count": 43,
          "metadata": {},
          "output_type": "execute_result"
        }
      ],
      "source": [
        "from nltk.stem.snowball import SnowballStemmer\n",
        "stemmer = SnowballStemmer(\"russian\") \n",
        "\n",
        "def Convert(string): \n",
        "    li = list(string.split(\" \")) \n",
        "    return li \n",
        "\n",
        "def stem(text):\n",
        "  my_words = Convert(text)\n",
        "  l = []\n",
        "  for word in my_words:\n",
        "    if word != \"специалист\":\n",
        "        l.append(stemmer.stem(word))\n",
        "  return \" \".join(l)"
      ]
    },
    {
      "cell_type": "code",
      "execution_count": null,
      "id": "14__ts94ccH5",
      "metadata": {
        "id": "14__ts94ccH5"
      },
      "outputs": [],
      "source": [
        "df['position'] = df.apply(lambda x: stem(x['position']), axis=1)"
      ]
    },
    {
      "cell_type": "code",
      "execution_count": null,
      "id": "AOSHLnhjiw11",
      "metadata": {
        "colab": {
          "base_uri": "https://localhost:8080/"
        },
        "id": "AOSHLnhjiw11",
        "outputId": "353214b2-8e94-4a8a-a5ad-def65a696116"
      },
      "outputs": [
        {
          "data": {
            "text/plain": [
              "0       специалист перв категор административно-хозяйс...\n",
              "1                        специалист трет категор служб ит\n",
              "2                                   системн администратор\n",
              "3                                 специалист трет категор\n",
              "4                             контрол над исполн распоряж\n",
              "                              ...                        \n",
              "2864    специалист перв категор административно-хозяйс...\n",
              "2865           руководител административно-хозяйств отдел\n",
              "2866    специалист перв категор административно-хозяйс...\n",
              "2867           руководител административно-хозяйств отдел\n",
              "2868           руководител административно-хозяйств отдел\n",
              "Name: position, Length: 2869, dtype: object"
            ]
          },
          "execution_count": 45,
          "metadata": {},
          "output_type": "execute_result"
        }
      ],
      "source": [
        "df['position']"
      ]
    },
    {
      "cell_type": "markdown",
      "id": "85df8a29",
      "metadata": {
        "id": "85df8a29"
      },
      "source": [
        "# Data cleaning"
      ]
    },
    {
      "cell_type": "code",
      "execution_count": null,
      "id": "62eeb8d4",
      "metadata": {
        "id": "62eeb8d4"
      },
      "outputs": [],
      "source": [
        "df.fillna(0, inplace = True)\n",
        "df.replace('None', 0, inplace = True)\n"
      ]
    },
    {
      "cell_type": "code",
      "execution_count": null,
      "id": "8WPj4FHEZDia",
      "metadata": {
        "colab": {
          "base_uri": "https://localhost:8080/",
          "height": 365,
          "referenced_widgets": [
            "b8ac9af454444f25aa9eb4e59e34492c",
            "20cf05b1c0ba489eb844b450e9682408",
            "99a3d7f80eb04e6b94180f9e79e81515",
            "9a4dd6222c47400397d937080a365556",
            "d9d04d030855440eaba077346944d830",
            "c936ecdfe73247f4a4467a71cc626b96",
            "17991079bec648b08c2fcf8a4e8b6617",
            "b723fa21cf554e4eb04a0c7c94e64190",
            "987b2a5a3b8549029e9567ae9b917c68",
            "ed3f1d5f4da844b2b180f68ccfb44205",
            "b195b76e3fdb4bfaa5738ae22eda5853",
            "d5aade0832464394a7f9c6b727eea2cb",
            "18925dfceefb4c4b8de6ad973b2ae298",
            "46bfaf8524794c5aa38c0adee6854bb0",
            "336dc8365c4a4906ab08388ba347c30f",
            "2c69e701f79146238fe6f16aa2024a05",
            "75266aab257b404a86d2b7080c4b2497",
            "1222fb1a26e24bacb7a08e896f52ecc1",
            "e075d1d7393d47d2b3a68398a3609b30",
            "584ca839be0247c69fda83a08b0c4ed4",
            "7bb942b07f6040b09e8e6b8b2e6fe79c",
            "3526fa6568314f1580423d98f973e199",
            "84bb89d6ede047ce8d99a30bf15c2911",
            "f7d31bd7579b493aa210c1d9d8fe43bc",
            "e84e42ff668d41a597ff4b98b62c553c",
            "4991ba61ad074b0d957ecd6a3a8de7fe",
            "b13cc60e34ae4258a5b019e941a7b9a1",
            "c7467be6ed894efa90a363715b29ceaf",
            "d1e27f99135142baa930b6f5f3f9d3b5",
            "74980f6b1d7a486fb322382f91dfe4a3",
            "db480d10bebe458d85b70485e629f85a",
            "9c98ab475e1643c5aae0fabf58dbc097",
            "db87b1ddc28e462ebb92e4252e016848"
          ]
        },
        "id": "8WPj4FHEZDia",
        "outputId": "d759be61-197c-4cff-8609-3013b0cb35c6"
      },
      "outputs": [
        {
          "name": "stderr",
          "output_type": "stream",
          "text": [
            "INFO:stanza:Checking for updates to resources.json in case models have been updated.  Note: this behavior can be turned off with download_method=None or download_method=DownloadMethod.REUSE_RESOURCES\n"
          ]
        },
        {
          "data": {
            "application/vnd.jupyter.widget-view+json": {
              "model_id": "b8ac9af454444f25aa9eb4e59e34492c",
              "version_major": 2,
              "version_minor": 0
            },
            "text/plain": [
              "Downloading https://raw.githubusercontent.com/stanfordnlp/stanza-resources/main/resources_1.4.1.json:   0%|   …"
            ]
          },
          "metadata": {},
          "output_type": "display_data"
        },
        {
          "data": {
            "application/vnd.jupyter.widget-view+json": {
              "model_id": "d5aade0832464394a7f9c6b727eea2cb",
              "version_major": 2,
              "version_minor": 0
            },
            "text/plain": [
              "Downloading https://huggingface.co/stanfordnlp/stanza-ru/resolve/v1.4.1/models/tokenize/syntagrus.pt:   0%|   …"
            ]
          },
          "metadata": {},
          "output_type": "display_data"
        },
        {
          "data": {
            "application/vnd.jupyter.widget-view+json": {
              "model_id": "84bb89d6ede047ce8d99a30bf15c2911",
              "version_major": 2,
              "version_minor": 0
            },
            "text/plain": [
              "Downloading https://huggingface.co/stanfordnlp/stanza-ru/resolve/v1.4.1/models/lemma/syntagrus.pt:   0%|      …"
            ]
          },
          "metadata": {},
          "output_type": "display_data"
        },
        {
          "name": "stderr",
          "output_type": "stream",
          "text": [
            "INFO:stanza:Loading these models for language: ru (Russian):\n",
            "=========================\n",
            "| Processor | Package   |\n",
            "-------------------------\n",
            "| tokenize  | syntagrus |\n",
            "| lemma     | syntagrus |\n",
            "=========================\n",
            "\n",
            "INFO:stanza:Use device: cpu\n",
            "INFO:stanza:Loading: tokenize\n",
            "INFO:stanza:Loading: lemma\n",
            "INFO:stanza:Done loading processors!\n"
          ]
        }
      ],
      "source": [
        "import stanza\n",
        "from stanza.models.common.doc import Document\n",
        "\n",
        "nlp = stanza.Pipeline(lang='ru', processors='tokenize,lemma', lemma_pretagged=True, tokenize_pretokenized=True)\n",
        "doc = nlp('специалист третий категория')\n",
        "print(*[f'word: {word.text+\" \"}\\tlemma: {word.lemma}' for sent in doc.sentences for word in sent.words], sep='\\n')\n",
        "\n"
      ]
    },
    {
      "cell_type": "code",
      "execution_count": null,
      "id": "-lloJTUrZM78",
      "metadata": {
        "colab": {
          "base_uri": "https://localhost:8080/"
        },
        "id": "-lloJTUrZM78",
        "outputId": "436dc25c-e71c-4e5b-e90d-cdba23e268b6"
      },
      "outputs": [
        {
          "name": "stdout",
          "output_type": "stream",
          "text": [
            "word: специалист \tlemma: специалист\n",
            "word: третий \tlemma: третий\n",
            "word: категория \tlemma: категория\n"
          ]
        }
      ],
      "source": [
        "doc = nlp('специалист третий категория')\n",
        "print(*[f'word: {word.text+\" \"}\\tlemma: {word.lemma}' for sent in doc.sentences for word in sent.words], sep='\\n')\n"
      ]
    },
    {
      "cell_type": "code",
      "execution_count": null,
      "id": "ZD9zHp_ahpl9",
      "metadata": {
        "id": "ZD9zHp_ahpl9"
      },
      "outputs": [],
      "source": [
        "#df.position = df.position.apply"
      ]
    },
    {
      "cell_type": "markdown",
      "id": "192be579",
      "metadata": {
        "id": "192be579"
      },
      "source": [
        "# EDA"
      ]
    },
    {
      "cell_type": "code",
      "execution_count": null,
      "id": "5f2164aa",
      "metadata": {
        "colab": {
          "base_uri": "https://localhost:8080/"
        },
        "id": "5f2164aa",
        "outputId": "a8f5f945-e087-4aba-fe98-b55e54727a0e"
      },
      "outputs": [
        {
          "name": "stdout",
          "output_type": "stream",
          "text": [
            "Number of docs: 620\n",
            "Number of depts in the company: 8\n",
            "Number of employees in the company: 59\n",
            "Number of positions in the company total: 62\n"
          ]
        }
      ],
      "source": [
        "# some basic stats\n",
        "\n",
        "documents = df['id'].unique()\n",
        "departments = df['dept'].unique()\n",
        "employees = df['name'].unique()\n",
        "positions = df['position'].unique()\n",
        "\n",
        "\n",
        "print('Number of docs:', len(documents))\n",
        "print('Number of depts in the company:', len(departments) )\n",
        "print('Number of employees in the company:', len(employees))\n",
        "print('Number of positions in the company total:', len(positions))"
      ]
    },
    {
      "cell_type": "markdown",
      "id": "dc232971",
      "metadata": {
        "id": "dc232971"
      },
      "source": [
        "## How many documents was analyzed?"
      ]
    },
    {
      "cell_type": "code",
      "execution_count": null,
      "id": "eefb191e",
      "metadata": {
        "id": "eefb191e",
        "outputId": "158b1f59-ecd7-4aa1-af81-43f68aa006b3"
      },
      "outputs": [
        {
          "name": "stdout",
          "output_type": "stream",
          "text": [
            "[0.]\n"
          ]
        }
      ],
      "source": [
        "print(documents)"
      ]
    },
    {
      "cell_type": "markdown",
      "id": "5f3d4912",
      "metadata": {
        "id": "5f3d4912"
      },
      "source": [
        "## Company departments"
      ]
    },
    {
      "cell_type": "code",
      "execution_count": null,
      "id": "bb98f635",
      "metadata": {
        "id": "bb98f635",
        "outputId": "c67906db-4349-4239-de5d-daa5e0464c3a"
      },
      "outputs": [
        {
          "name": "stdout",
          "output_type": "stream",
          "text": [
            "['Служба ИТ' 'Отдел разработки систем' 'Бухгалтерия'\n",
            " 'Отдел проектирования' 'Административно-хозяйственный отдел'\n",
            " 'Отдел архитектуры' 'Отдел эксплуатации']\n"
          ]
        }
      ],
      "source": [
        "print(departments)"
      ]
    },
    {
      "cell_type": "markdown",
      "id": "061ab42f",
      "metadata": {
        "id": "061ab42f"
      },
      "source": [
        "## Employees"
      ]
    },
    {
      "cell_type": "code",
      "execution_count": null,
      "id": "c2122e01",
      "metadata": {
        "id": "c2122e01",
        "outputId": "24352597-1f2e-4241-df64-97dad8058a1e"
      },
      "outputs": [
        {
          "name": "stdout",
          "output_type": "stream",
          "text": [
            "['ким юрий иванович' 'сергеев андрей' 'абаимов симон' 'абаимов симона'\n",
            " 'абашкин орест' 'абалкин зураб' 'андреев с.е.' 'александров а.с.'\n",
            " 'смирнов о.а.' 'шихов' 'семёнов и.а.' 'шихов р.п.' 'семёнов м.с.'\n",
            " 'попов а.а.' 'абакуловый пётр' 'абалаково севастьян' 'попов и.и.'\n",
            " 'коптеловый е.в' 'кравцов и.е.' 'с.с.галкин' 'сергеев ален иванович'\n",
            " 'слесарев а.в' 'абатуров борис' 'миронов к.а.' 'симоново н.с.'\n",
            " 'абаковый алексей' 'никишин с.е.' 'абашичев алексей' 'поспелов н.а.'\n",
            " 'миронов т.п.' 'миронов' 'семёнов' 'кравцов' 'ведерников и.с.'\n",
            " 'жуков а.в' 'точновый' 'иванов а.а.' 'р.е.артюхин'\n",
            " 'александров александр иванович' 'абалаковый севастьян' 'абалдуев олег'\n",
            " 'петров в.м.' 'никитин ирина петрович' 'андреев к.с.' 'абалакин михаил'\n",
            " 'сергеев алёна иванович' 'петров' 'абакумов глеб' 'абаков алексей']\n"
          ]
        }
      ],
      "source": [
        "print(employees)"
      ]
    },
    {
      "cell_type": "markdown",
      "id": "1f49a4cf",
      "metadata": {
        "id": "1f49a4cf"
      },
      "source": [
        "# Graph"
      ]
    },
    {
      "cell_type": "code",
      "execution_count": null,
      "id": "be4a60d4",
      "metadata": {
        "colab": {
          "base_uri": "https://localhost:8080/",
          "height": 319
        },
        "id": "be4a60d4",
        "outputId": "a4fb1b23-8aef-4ef4-fda8-c549503b6215"
      },
      "outputs": [
        {
          "data": {
            "image/png": "[encoded data removed]",
            "text/plain": [
              "<Figure size 432x288 with 1 Axes>"
            ]
          },
          "metadata": {},
          "output_type": "display_data"
        }
      ],
      "source": [
        "DG = nx.DiGraph()\n",
        "\n",
        "comp_name = 'URFU_COMP'\n",
        "\n",
        "for i in list(departments):\n",
        "    DG.add_edge(comp_name, i)\n",
        "    \n",
        "\n",
        "nx.draw(DG)\n"
      ]
    },
    {
      "cell_type": "markdown",
      "id": "2feb00d7",
      "metadata": {
        "id": "2feb00d7"
      },
      "source": [
        "## Graph styles"
      ]
    },
    {
      "cell_type": "code",
      "execution_count": null,
      "id": "56caa808",
      "metadata": {
        "colab": {
          "base_uri": "https://localhost:8080/",
          "height": 319
        },
        "id": "56caa808",
        "outputId": "2b352a2b-4316-4214-fb30-6a82d1203025"
      },
      "outputs": [
        {
          "data": {
            "image/png": "[encoded data removed]",
            "text/plain": [
              "<Figure size 432x288 with 1 Axes>"
            ]
          },
          "metadata": {},
          "output_type": "display_data"
        }
      ],
      "source": [
        "options = {'node_color': 'blue', 'edge_color' : 'black', 'node_size': 50, 'with_labels' : True, 'width': 3, 'node_size' : 100, 'width': 1}\n",
        "pos=nx.spring_layout(DG)\n",
        "\n",
        "nx.draw(DG,pos=pos,**options)\n"
      ]
    },
    {
      "cell_type": "markdown",
      "id": "dac8fe04",
      "metadata": {
        "id": "dac8fe04"
      },
      "source": [
        "## Multilevel graph"
      ]
    },
    {
      "cell_type": "code",
      "execution_count": null,
      "id": "b5640b68",
      "metadata": {
        "colab": {
          "base_uri": "https://localhost:8080/",
          "height": 1000
        },
        "id": "b5640b68",
        "outputId": "7f53c956-36bd-4132-bc96-2490777751bf"
      },
      "outputs": [],
      "source": [
        "\n",
        "# create a graph object\n",
        "G = nx.Graph()\n",
        "\n",
        "comp_name = 'COMPANY'\n",
        "\n",
        "for z in list(departments):\n",
        "    G.add_edge(comp_name, z)\n",
        "    # iterate through the rows of the DataFrame\n",
        "    for i, row in df.iterrows():\n",
        "        # add task_responsibles_groups node\n",
        "        dept = row[\"dept\"]\n",
        "        G.add_node(dept, size=df[\"dept\"].value_counts()[dept])\n",
        "        # add position node\n",
        "        position = row[\"position\"]\n",
        "        G.add_node(position, size=df[\"position\"].value_counts()[position])\n",
        "        # add name node\n",
        "        name = row[\"name\"]\n",
        "        G.add_node(name, size=df[\"name\"].value_counts()[name])\n",
        "        # add edges between task_responsibles_groups and position\n",
        "        G.add_edge(dept, position)\n",
        "        # add edges between position and name\n",
        "        G.add_edge(position, name)\n",
        "\n",
        "# draw the graph\n",
        "import matplotlib.pyplot as plt\n",
        "\n",
        "plt.figure(figsize=(30,30))\n",
        "pos = nx.spring_layout(G) # use spring layout to calculate node positions\n",
        "\n",
        "# create a list of node sizes\n",
        "node_sizes = []\n",
        "for node in G.nodes():\n",
        "    node_sizes.append(G.degree(node)*50)\n",
        "\n",
        "# create a list of node colors\n",
        "node_colors = []\n",
        "for node in G.nodes():\n",
        "    if node in departments:\n",
        "        node_colors.append(\"orange\")\n",
        "    elif node in df[\"position\"].unique():\n",
        "        node_colors.append(\"green\")\n",
        "    elif node in df[\"name\"].unique():\n",
        "        node_colors.append(\"purple\")\n",
        "    else:\n",
        "        node_colors.append(\"red\")\n",
        "\n",
        "# create a list of edge colors\n",
        "edge_colors = []\n",
        "for edge in G.edges():\n",
        "    if edge[0] in departments:\n",
        "        edge_colors.append(\"orange\")\n",
        "    elif edge[0] in df[\"position\"].unique():\n",
        "        edge_colors.append(\"green\")\n",
        "    elif edge[0] in df[\"name\"].unique():\n",
        "        edge_colors.append(\"purple\")\n",
        "    else:\n",
        "        edge_colors.append(\"red\")\n",
        "\n",
        "nx.draw(G, pos, with_labels=True, node_color=node_colors, node_size=node_sizes, edge_color=edge_colors)\n"
      ]
    },
    {
      "cell_type": "markdown",
      "id": "JHu0ZvkSkDG0",
      "metadata": {
        "id": "JHu0ZvkSkDG0"
      },
      "source": [
        "# Graph finding paths"
      ]
    },
    {
      "cell_type": "code",
      "execution_count": null,
      "id": "s_HfJXf0ekgM",
      "metadata": {
        "id": "s_HfJXf0ekgM"
      },
      "outputs": [],
      "source": [
        "results = []\n",
        "for n1 in G.nodes():\n",
        "    for n2 in G.nodes():\n",
        "        shortest_path = nx.single_source_dijkstra(G, source=n1, target=n2)\n",
        "        results.append(shortest_path)\n"
      ]
    },
    {
      "cell_type": "code",
      "execution_count": null,
      "id": "ChoM9092e7pS",
      "metadata": {
        "colab": {
          "base_uri": "https://localhost:8080/"
        },
        "id": "ChoM9092e7pS",
        "outputId": "43a10503-25ea-4bb8-ec39-48b0b1ef338b"
      },
      "outputs": [
        {
          "name": "stdout",
          "output_type": "stream",
          "text": [
            "(3, ['ведерников и.с.', 'специалист втор категор отдел эксплуатац', 'Отдел эксплуатации', 'COMPANY'])\n"
          ]
        }
      ],
      "source": [
        "shortest_path = nx.single_source_dijkstra(G, source='ведерников и.с.', target='COMPANY')\n",
        "print(shortest_path)\n"
      ]
    },
    {
      "cell_type": "markdown",
      "id": "L3NZSEiMkR4j",
      "metadata": {
        "id": "L3NZSEiMkR4j"
      },
      "source": [
        "# SPACY"
      ]
    },
    {
      "cell_type": "code",
      "execution_count": null,
      "id": "UT2ucIINkQZT",
      "metadata": {
        "colab": {
          "base_uri": "https://localhost:8080/"
        },
        "id": "UT2ucIINkQZT",
        "outputId": "be452479-697c-4548-9531-f0ce37cc17d9"
      },
      "outputs": [
        {
          "name": "stdout",
          "output_type": "stream",
          "text": [
            "/usr/local/lib/python3.8/dist-packages/torch/cuda/__init__.py:497: UserWarning: Can't initialize NVML\n",
            "  warnings.warn(\"Can't initialize NVML\")\n",
            "2023-01-18 20:28:01.552577: E tensorflow/stream_executor/cuda/cuda_driver.cc:271] failed call to cuInit: CUDA_ERROR_NO_DEVICE: no CUDA-capable device is detected\n",
            "Looking in indexes: https://pypi.org/simple, https://us-python.pkg.dev/colab-wheels/public/simple/\n",
            "Collecting ru-core-news-lg==3.4.0\n",
            "  Downloading https://github.com/explosion/spacy-models/releases/download/ru_core_news_lg-3.4.0/ru_core_news_lg-3.4.0-py3-none-any.whl (513.4 MB)\n",
            "\u001b[2K     \u001b[90m━━━━━━━━━━━━━━━━━━━━━━━━━━━━━━━━━━━━━━━\u001b[0m \u001b[32m513.4/513.4 MB\u001b[0m \u001b[31m2.5 MB/s\u001b[0m eta \u001b[36m0:00:00\u001b[0m\n",
            "\u001b[?25hRequirement already satisfied: spacy<3.5.0,>=3.4.0 in /usr/local/lib/python3.8/dist-packages (from ru-core-news-lg==3.4.0) (3.4.4)\n",
            "Collecting pymorphy2>=0.9\n",
            "  Downloading pymorphy2-0.9.1-py3-none-any.whl (55 kB)\n",
            "\u001b[2K     \u001b[90m━━━━━━━━━━━━━━━━━━━━━━━━━━━━━━━━━━━━━━━━\u001b[0m \u001b[32m55.5/55.5 KB\u001b[0m \u001b[31m5.1 MB/s\u001b[0m eta \u001b[36m0:00:00\u001b[0m\n",
            "\u001b[?25hCollecting docopt>=0.6\n",
            "  Downloading docopt-0.6.2.tar.gz (25 kB)\n",
            "  Preparing metadata (setup.py) ... \u001b[?25l\u001b[?25hdone\n",
            "Collecting pymorphy2-dicts-ru<3.0,>=2.4\n",
            "  Downloading pymorphy2_dicts_ru-2.4.417127.4579844-py2.py3-none-any.whl (8.2 MB)\n",
            "\u001b[2K     \u001b[90m━━━━━━━━━━━━━━━━━━━━━━━━━━━━━━━━━━━━━━━━\u001b[0m \u001b[32m8.2/8.2 MB\u001b[0m \u001b[31m65.5 MB/s\u001b[0m eta \u001b[36m0:00:00\u001b[0m\n",
            "\u001b[?25hCollecting dawg-python>=0.7.1\n",
            "  Downloading DAWG_Python-0.7.2-py2.py3-none-any.whl (11 kB)\n",
            "Requirement already satisfied: pathy>=0.3.5 in /usr/local/lib/python3.8/dist-packages (from spacy<3.5.0,>=3.4.0->ru-core-news-lg==3.4.0) (0.10.1)\n",
            "Requirement already satisfied: requests<3.0.0,>=2.13.0 in /usr/local/lib/python3.8/dist-packages (from spacy<3.5.0,>=3.4.0->ru-core-news-lg==3.4.0) (2.25.1)\n",
            "Requirement already satisfied: srsly<3.0.0,>=2.4.3 in /usr/local/lib/python3.8/dist-packages (from spacy<3.5.0,>=3.4.0->ru-core-news-lg==3.4.0) (2.4.5)\n",
            "Requirement already satisfied: thinc<8.2.0,>=8.1.0 in /usr/local/lib/python3.8/dist-packages (from spacy<3.5.0,>=3.4.0->ru-core-news-lg==3.4.0) (8.1.6)\n",
            "Requirement already satisfied: preshed<3.1.0,>=3.0.2 in /usr/local/lib/python3.8/dist-packages (from spacy<3.5.0,>=3.4.0->ru-core-news-lg==3.4.0) (3.0.8)\n",
            "Requirement already satisfied: wasabi<1.1.0,>=0.9.1 in /usr/local/lib/python3.8/dist-packages (from spacy<3.5.0,>=3.4.0->ru-core-news-lg==3.4.0) (0.10.1)\n",
            "Requirement already satisfied: pydantic!=1.8,!=1.8.1,<1.11.0,>=1.7.4 in /usr/local/lib/python3.8/dist-packages (from spacy<3.5.0,>=3.4.0->ru-core-news-lg==3.4.0) (1.10.4)\n",
            "Requirement already satisfied: cymem<2.1.0,>=2.0.2 in /usr/local/lib/python3.8/dist-packages (from spacy<3.5.0,>=3.4.0->ru-core-news-lg==3.4.0) (2.0.7)\n",
            "Requirement already satisfied: murmurhash<1.1.0,>=0.28.0 in /usr/local/lib/python3.8/dist-packages (from spacy<3.5.0,>=3.4.0->ru-core-news-lg==3.4.0) (1.0.9)\n",
            "Requirement already satisfied: catalogue<2.1.0,>=2.0.6 in /usr/local/lib/python3.8/dist-packages (from spacy<3.5.0,>=3.4.0->ru-core-news-lg==3.4.0) (2.0.8)\n",
            "Requirement already satisfied: spacy-loggers<2.0.0,>=1.0.0 in /usr/local/lib/python3.8/dist-packages (from spacy<3.5.0,>=3.4.0->ru-core-news-lg==3.4.0) (1.0.4)\n",
            "Requirement already satisfied: spacy-legacy<3.1.0,>=3.0.10 in /usr/local/lib/python3.8/dist-packages (from spacy<3.5.0,>=3.4.0->ru-core-news-lg==3.4.0) (3.0.11)\n",
            "Requirement already satisfied: tqdm<5.0.0,>=4.38.0 in /usr/local/lib/python3.8/dist-packages (from spacy<3.5.0,>=3.4.0->ru-core-news-lg==3.4.0) (4.64.1)\n",
            "Requirement already satisfied: setuptools in /usr/local/lib/python3.8/dist-packages (from spacy<3.5.0,>=3.4.0->ru-core-news-lg==3.4.0) (57.4.0)\n",
            "Requirement already satisfied: jinja2 in /usr/local/lib/python3.8/dist-packages (from spacy<3.5.0,>=3.4.0->ru-core-news-lg==3.4.0) (2.11.3)\n",
            "Requirement already satisfied: langcodes<4.0.0,>=3.2.0 in /usr/local/lib/python3.8/dist-packages (from spacy<3.5.0,>=3.4.0->ru-core-news-lg==3.4.0) (3.3.0)\n",
            "Requirement already satisfied: packaging>=20.0 in /usr/local/lib/python3.8/dist-packages (from spacy<3.5.0,>=3.4.0->ru-core-news-lg==3.4.0) (21.3)\n",
            "Requirement already satisfied: smart-open<7.0.0,>=5.2.1 in /usr/local/lib/python3.8/dist-packages (from spacy<3.5.0,>=3.4.0->ru-core-news-lg==3.4.0) (6.3.0)\n",
            "Requirement already satisfied: typer<0.8.0,>=0.3.0 in /usr/local/lib/python3.8/dist-packages (from spacy<3.5.0,>=3.4.0->ru-core-news-lg==3.4.0) (0.7.0)\n",
            "Requirement already satisfied: numpy>=1.15.0 in /usr/local/lib/python3.8/dist-packages (from spacy<3.5.0,>=3.4.0->ru-core-news-lg==3.4.0) (1.21.6)\n",
            "Requirement already satisfied: pyparsing!=3.0.5,>=2.0.2 in /usr/local/lib/python3.8/dist-packages (from packaging>=20.0->spacy<3.5.0,>=3.4.0->ru-core-news-lg==3.4.0) (3.0.9)\n",
            "Requirement already satisfied: typing-extensions>=4.2.0 in /usr/local/lib/python3.8/dist-packages (from pydantic!=1.8,!=1.8.1,<1.11.0,>=1.7.4->spacy<3.5.0,>=3.4.0->ru-core-news-lg==3.4.0) (4.4.0)\n",
            "Requirement already satisfied: urllib3<1.27,>=1.21.1 in /usr/local/lib/python3.8/dist-packages (from requests<3.0.0,>=2.13.0->spacy<3.5.0,>=3.4.0->ru-core-news-lg==3.4.0) (1.24.3)\n",
            "Requirement already satisfied: certifi>=2017.4.17 in /usr/local/lib/python3.8/dist-packages (from requests<3.0.0,>=2.13.0->spacy<3.5.0,>=3.4.0->ru-core-news-lg==3.4.0) (2022.12.7)\n",
            "Requirement already satisfied: idna<3,>=2.5 in /usr/local/lib/python3.8/dist-packages (from requests<3.0.0,>=2.13.0->spacy<3.5.0,>=3.4.0->ru-core-news-lg==3.4.0) (2.10)\n",
            "Requirement already satisfied: chardet<5,>=3.0.2 in /usr/local/lib/python3.8/dist-packages (from requests<3.0.0,>=2.13.0->spacy<3.5.0,>=3.4.0->ru-core-news-lg==3.4.0) (4.0.0)\n",
            "Requirement already satisfied: blis<0.8.0,>=0.7.8 in /usr/local/lib/python3.8/dist-packages (from thinc<8.2.0,>=8.1.0->spacy<3.5.0,>=3.4.0->ru-core-news-lg==3.4.0) (0.7.9)\n",
            "Requirement already satisfied: confection<1.0.0,>=0.0.1 in /usr/local/lib/python3.8/dist-packages (from thinc<8.2.0,>=8.1.0->spacy<3.5.0,>=3.4.0->ru-core-news-lg==3.4.0) (0.0.3)\n",
            "Requirement already satisfied: click<9.0.0,>=7.1.1 in /usr/local/lib/python3.8/dist-packages (from typer<0.8.0,>=0.3.0->spacy<3.5.0,>=3.4.0->ru-core-news-lg==3.4.0) (7.1.2)\n",
            "Requirement already satisfied: MarkupSafe>=0.23 in /usr/local/lib/python3.8/dist-packages (from jinja2->spacy<3.5.0,>=3.4.0->ru-core-news-lg==3.4.0) (2.0.1)\n",
            "Building wheels for collected packages: docopt\n",
            "  Building wheel for docopt (setup.py) ... \u001b[?25l\u001b[?25hdone\n",
            "  Created wheel for docopt: filename=docopt-0.6.2-py2.py3-none-any.whl size=13723 sha256=9128e607d502514046bdb83cc16ad1846cd22732e6045f1441bfe9959ff4b9c9\n",
            "  Stored in directory: /root/.cache/pip/wheels/56/ea/58/ead137b087d9e326852a851351d1debf4ada529b6ac0ec4e8c\n",
            "Successfully built docopt\n",
            "Installing collected packages: pymorphy2-dicts-ru, docopt, dawg-python, pymorphy2, ru-core-news-lg\n",
            "Successfully installed dawg-python-0.7.2 docopt-0.6.2 pymorphy2-0.9.1 pymorphy2-dicts-ru-2.4.417127.4579844 ru-core-news-lg-3.4.0\n",
            "\u001b[38;5;2m✔ Download and installation successful\u001b[0m\n",
            "You can now load the package via spacy.load('ru_core_news_lg')\n"
          ]
        }
      ],
      "source": [
        "!python -m spacy download ru_core_news_lg\n"
      ]
    },
    {
      "cell_type": "code",
      "execution_count": null,
      "id": "b48ee99f",
      "metadata": {
        "id": "b48ee99f"
      },
      "outputs": [],
      "source": [
        "import spacy\n",
        "nlp = spacy.load('ru_core_news_lg')\n"
      ]
    },
    {
      "cell_type": "code",
      "execution_count": null,
      "id": "IXSR8Sh8kmMR",
      "metadata": {
        "id": "IXSR8Sh8kmMR"
      },
      "outputs": [],
      "source": [
        "\n",
        "!tar -xvf  'docx.tar' -C '/content'\n"
      ]
    },
    {
      "cell_type": "code",
      "execution_count": null,
      "id": "VGxnUsKNnhaN",
      "metadata": {
        "colab": {
          "base_uri": "https://localhost:8080/"
        },
        "id": "VGxnUsKNnhaN",
        "outputId": "a116453a-11d8-4b97-f67f-b6aa04bba0dd"
      },
      "outputs": [
        {
          "name": "stdout",
          "output_type": "stream",
          "text": [
            "Looking in indexes: https://pypi.org/simple, https://us-python.pkg.dev/colab-wheels/public/simple/\n",
            "Requirement already satisfied: python-docx in /usr/local/lib/python3.8/dist-packages (0.8.11)\n",
            "Requirement already satisfied: lxml>=2.3.2 in /usr/local/lib/python3.8/dist-packages (from python-docx) (4.9.2)\n"
          ]
        }
      ],
      "source": []
    },
    {
      "cell_type": "markdown",
      "id": "ptcA2CkYrhG5",
      "metadata": {
        "id": "ptcA2CkYrhG5"
      },
      "source": [
        "# Parsing text from docx files"
      ]
    },
    {
      "cell_type": "code",
      "execution_count": null,
      "id": "csa-_jk4pPpk",
      "metadata": {
        "id": "csa-_jk4pPpk"
      },
      "outputs": [],
      "source": [
        "!pip install --upgrade python-docx\n"
      ]
    },
    {
      "cell_type": "code",
      "execution_count": null,
      "id": "Ztwq8wfMnRMU",
      "metadata": {
        "id": "Ztwq8wfMnRMU"
      },
      "outputs": [],
      "source": [
        "import os\n",
        "import docx \n",
        "\n",
        "all_text = []\n",
        "file_names = []\n",
        "\n",
        "path_normalized = os.path.normpath(\"/content/docx\")\n",
        "for dirpath, dirnames, filenames in os.walk(path_normalized):\n",
        "    for file in filenames:\n",
        "        file_names.append(int(file.rstrip('.docx')))\n",
        "        text_doc = []\n",
        "        doc = docx.Document(os.path.normpath(path_normalized + \"/\" + file))\n",
        "        for par in doc.paragraphs:\n",
        "            if par.text != \"\":\n",
        "                text_doc.append(par.text)\n",
        "        txt = '\\n'.join(text_doc)\n",
        "        all_text.append(txt)\n",
        "docx_df = pd.DataFrame({\"id\": file_names, \"text\": all_text}, columns=[\"id\", \"text\"])\n",
        "docx_df.set_index('id', inplace=True)\n"
      ]
    },
    {
      "cell_type": "code",
      "execution_count": null,
      "id": "_AoRL7bIr8V8",
      "metadata": {
        "colab": {
          "base_uri": "https://localhost:8080/",
          "height": 35
        },
        "id": "_AoRL7bIr8V8",
        "outputId": "cda3bfd5-9bc8-4be2-bf7f-9c5cb781fdcb"
      },
      "outputs": [
        {
          "data": {
            "application/vnd.google.colaboratory.intrinsic+json": {
              "type": "string"
            },
            "text/plain": [
              "' провести опрос сотрудник . срок завершение :'"
            ]
          },
          "execution_count": 90,
          "metadata": {},
          "output_type": "execute_result"
        }
      ],
      "source": [
        "import re\n",
        "\n",
        "def clear_text(x):\n",
        "    txt = \"\"\n",
        "    s = re.sub(\"\\s+\", \" \", x)\n",
        "    doc = nlp(s)\n",
        "    for entity in doc:\n",
        "      res = entity.lemma_\n",
        "      txt += (\" \" + res)\n",
        "    return txt\n",
        "\n",
        "s = 'Провести опрос сотрудников. Срок завершения: '\n",
        "\n",
        "clear_text(s)"
      ]
    },
    {
      "cell_type": "markdown",
      "id": "Pgr1PXT1sg1W",
      "metadata": {
        "id": "Pgr1PXT1sg1W"
      },
      "source": [
        "Applying cleaning function to combined docx df"
      ]
    },
    {
      "cell_type": "code",
      "execution_count": null,
      "id": "OnsOsQpwshNp",
      "metadata": {
        "id": "OnsOsQpwshNp"
      },
      "outputs": [],
      "source": [
        "docx_df[\"clear_text\"] = docx_df[\"text\"].apply(lambda x: clear_text(x))\n"
      ]
    },
    {
      "attachments": {},
      "cell_type": "markdown",
      "id": "f0f7afa0",
      "metadata": {},
      "source": [
        "# Helper functions"
      ]
    },
    {
      "cell_type": "code",
      "execution_count": null,
      "id": "89379f1c",
      "metadata": {},
      "outputs": [],
      "source": [
        "shortest_path = nx.single_source_dijkstra(G, source='ведерников и.с.', target='COMPANY')\n",
        "print(shortest_path)"
      ]
    },
    {
      "attachments": {},
      "cell_type": "markdown",
      "id": "478ada9f",
      "metadata": {},
      "source": [
        "Is a given person works in the company"
      ]
    },
    {
      "cell_type": "code",
      "execution_count": null,
      "id": "cfbc0603",
      "metadata": {},
      "outputs": [],
      "source": [
        "def is_employee(graph, company, name):\n",
        "  try:\n",
        "    shortest_path = nx.single_source_dijkstra(G, source=company, target=name)\n",
        "    print(shortest_path)\n",
        "    if shortest_path[0] == 3 and shortest_path[1][-1] == name:\n",
        "      return True\n",
        "    else:\n",
        "      return False\n",
        "  except:\n",
        "    return False\n",
        "\n",
        "is_employee(G, 'COMPANY', 'ведерников и.с.')"
      ]
    },
    {
      "cell_type": "code",
      "execution_count": null,
      "id": "96cb8c26",
      "metadata": {},
      "outputs": [],
      "source": [
        "is_employee(G, 'COMPANY', 'абатуров борис')"
      ]
    },
    {
      "attachments": {},
      "cell_type": "markdown",
      "id": "85f59704",
      "metadata": {},
      "source": [
        "Is a given person works in the company"
      ]
    },
    {
      "cell_type": "code",
      "execution_count": null,
      "id": "bf13ebba",
      "metadata": {},
      "outputs": [],
      "source": [
        "def is_employee_to_dept(graph, company, dept, name):\n",
        "  try:\n",
        "    shortest_path = nx.single_source_dijkstra(G, source=company, target=name)\n",
        "    print(shortest_path)\n",
        "    if shortest_path[0] == 3 and shortest_path[1][1] == dept:\n",
        "      return True\n",
        "    else:\n",
        "      return False\n",
        "  except:\n",
        "    return False\n",
        "\n",
        "\n",
        "is_employee_to_dept(G, 'COMPANY', 'Отдел эксплуатации', 'ведерников и.с.')"
      ]
    },
    {
      "cell_type": "code",
      "execution_count": null,
      "id": "9b656612",
      "metadata": {},
      "outputs": [],
      "source": [
        "is_employee_to_dept(G, 'COMPANY', 'Отдел эксплуатации', 'абатуров борис')"
      ]
    },
    {
      "cell_type": "code",
      "execution_count": null,
      "id": "9df44e02",
      "metadata": {},
      "outputs": [],
      "source": [
        "results = []\n",
        "for n1 in G.nodes():\n",
        "    for n2 in G.nodes():\n",
        "        shortest_path = nx.single_source_dijkstra(G, source=n1, target=n2)\n",
        "        results.append(shortest_path)\n"
      ]
    },
    {
      "cell_type": "code",
      "execution_count": null,
      "id": "119bc822",
      "metadata": {},
      "outputs": [],
      "source": [
        "[x for x in results if x[0] != 3]"
      ]
    }
  ],
  "metadata": {
    "colab": {
      "provenance": []
    },
    "kernelspec": {
      "display_name": "Python 3 (ipykernel)",
      "language": "python",
      "name": "python3"
    },
    "language_info": {
      "codemirror_mode": {
        "name": "ipython",
        "version": 3
      },
      "file_extension": ".py",
      "mimetype": "text/x-python",
      "name": "python",
      "nbconvert_exporter": "python",
      "pygments_lexer": "ipython3",
      "version": "3.10.0rc2"
    },
    "widgets": {
      "application/vnd.jupyter.widget-state+json": {
        "1222fb1a26e24bacb7a08e896f52ecc1": {
          "model_module": "@jupyter-widgets/controls",
          "model_module_version": "1.5.0",
          "model_name": "DescriptionStyleModel",
          "state": {
            "_model_module": "@jupyter-widgets/controls",
            "_model_module_version": "1.5.0",
            "_model_name": "DescriptionStyleModel",
            "_view_count": null,
            "_view_module": "@jupyter-widgets/base",
            "_view_module_version": "1.2.0",
            "_view_name": "StyleView",
            "description_width": ""
          }
        },
        "17991079bec648b08c2fcf8a4e8b6617": {
          "model_module": "@jupyter-widgets/controls",
          "model_module_version": "1.5.0",
          "model_name": "DescriptionStyleModel",
          "state": {
            "_model_module": "@jupyter-widgets/controls",
            "_model_module_version": "1.5.0",
            "_model_name": "DescriptionStyleModel",
            "_view_count": null,
            "_view_module": "@jupyter-widgets/base",
            "_view_module_version": "1.2.0",
            "_view_name": "StyleView",
            "description_width": ""
          }
        },
        "18925dfceefb4c4b8de6ad973b2ae298": {
          "model_module": "@jupyter-widgets/controls",
          "model_module_version": "1.5.0",
          "model_name": "HTMLModel",
          "state": {
            "_dom_classes": [],
            "_model_module": "@jupyter-widgets/controls",
            "_model_module_version": "1.5.0",
            "_model_name": "HTMLModel",
            "_view_count": null,
            "_view_module": "@jupyter-widgets/controls",
            "_view_module_version": "1.5.0",
            "_view_name": "HTMLView",
            "description": "",
            "description_tooltip": null,
            "layout": "IPY_MODEL_75266aab257b404a86d2b7080c4b2497",
            "placeholder": "​",
            "style": "IPY_MODEL_1222fb1a26e24bacb7a08e896f52ecc1",
            "value": "Downloading https://huggingface.co/stanfordnlp/stanza-ru/resolve/v1.4.1/models/tokenize/syntagrus.pt: 100%"
          }
        },
        "20cf05b1c0ba489eb844b450e9682408": {
          "model_module": "@jupyter-widgets/controls",
          "model_module_version": "1.5.0",
          "model_name": "HTMLModel",
          "state": {
            "_dom_classes": [],
            "_model_module": "@jupyter-widgets/controls",
            "_model_module_version": "1.5.0",
            "_model_name": "HTMLModel",
            "_view_count": null,
            "_view_module": "@jupyter-widgets/controls",
            "_view_module_version": "1.5.0",
            "_view_name": "HTMLView",
            "description": "",
            "description_tooltip": null,
            "layout": "IPY_MODEL_c936ecdfe73247f4a4467a71cc626b96",
            "placeholder": "​",
            "style": "IPY_MODEL_17991079bec648b08c2fcf8a4e8b6617",
            "value": "Downloading https://raw.githubusercontent.com/stanfordnlp/stanza-resources/main/resources_1.4.1.json: "
          }
        },
        "2c69e701f79146238fe6f16aa2024a05": {
          "model_module": "@jupyter-widgets/base",
          "model_module_version": "1.2.0",
          "model_name": "LayoutModel",
          "state": {
            "_model_module": "@jupyter-widgets/base",
            "_model_module_version": "1.2.0",
            "_model_name": "LayoutModel",
            "_view_count": null,
            "_view_module": "@jupyter-widgets/base",
            "_view_module_version": "1.2.0",
            "_view_name": "LayoutView",
            "align_content": null,
            "align_items": null,
            "align_self": null,
            "border": null,
            "bottom": null,
            "display": null,
            "flex": null,
            "flex_flow": null,
            "grid_area": null,
            "grid_auto_columns": null,
            "grid_auto_flow": null,
            "grid_auto_rows": null,
            "grid_column": null,
            "grid_gap": null,
            "grid_row": null,
            "grid_template_areas": null,
            "grid_template_columns": null,
            "grid_template_rows": null,
            "height": null,
            "justify_content": null,
            "justify_items": null,
            "left": null,
            "margin": null,
            "max_height": null,
            "max_width": null,
            "min_height": null,
            "min_width": null,
            "object_fit": null,
            "object_position": null,
            "order": null,
            "overflow": null,
            "overflow_x": null,
            "overflow_y": null,
            "padding": null,
            "right": null,
            "top": null,
            "visibility": null,
            "width": null
          }
        },
        "336dc8365c4a4906ab08388ba347c30f": {
          "model_module": "@jupyter-widgets/controls",
          "model_module_version": "1.5.0",
          "model_name": "HTMLModel",
          "state": {
            "_dom_classes": [],
            "_model_module": "@jupyter-widgets/controls",
            "_model_module_version": "1.5.0",
            "_model_name": "HTMLModel",
            "_view_count": null,
            "_view_module": "@jupyter-widgets/controls",
            "_view_module_version": "1.5.0",
            "_view_name": "HTMLView",
            "description": "",
            "description_tooltip": null,
            "layout": "IPY_MODEL_7bb942b07f6040b09e8e6b8b2e6fe79c",
            "placeholder": "​",
            "style": "IPY_MODEL_3526fa6568314f1580423d98f973e199",
            "value": " 641k/641k [00:00&lt;00:00, 1.09MB/s]"
          }
        },
        "3526fa6568314f1580423d98f973e199": {
          "model_module": "@jupyter-widgets/controls",
          "model_module_version": "1.5.0",
          "model_name": "DescriptionStyleModel",
          "state": {
            "_model_module": "@jupyter-widgets/controls",
            "_model_module_version": "1.5.0",
            "_model_name": "DescriptionStyleModel",
            "_view_count": null,
            "_view_module": "@jupyter-widgets/base",
            "_view_module_version": "1.2.0",
            "_view_name": "StyleView",
            "description_width": ""
          }
        },
        "46bfaf8524794c5aa38c0adee6854bb0": {
          "model_module": "@jupyter-widgets/controls",
          "model_module_version": "1.5.0",
          "model_name": "FloatProgressModel",
          "state": {
            "_dom_classes": [],
            "_model_module": "@jupyter-widgets/controls",
            "_model_module_version": "1.5.0",
            "_model_name": "FloatProgressModel",
            "_view_count": null,
            "_view_module": "@jupyter-widgets/controls",
            "_view_module_version": "1.5.0",
            "_view_name": "ProgressView",
            "bar_style": "success",
            "description": "",
            "description_tooltip": null,
            "layout": "IPY_MODEL_e075d1d7393d47d2b3a68398a3609b30",
            "max": 640577,
            "min": 0,
            "orientation": "horizontal",
            "style": "IPY_MODEL_584ca839be0247c69fda83a08b0c4ed4",
            "value": 640577
          }
        },
        "4991ba61ad074b0d957ecd6a3a8de7fe": {
          "model_module": "@jupyter-widgets/controls",
          "model_module_version": "1.5.0",
          "model_name": "HTMLModel",
          "state": {
            "_dom_classes": [],
            "_model_module": "@jupyter-widgets/controls",
            "_model_module_version": "1.5.0",
            "_model_name": "HTMLModel",
            "_view_count": null,
            "_view_module": "@jupyter-widgets/controls",
            "_view_module_version": "1.5.0",
            "_view_name": "HTMLView",
            "description": "",
            "description_tooltip": null,
            "layout": "IPY_MODEL_9c98ab475e1643c5aae0fabf58dbc097",
            "placeholder": "​",
            "style": "IPY_MODEL_db87b1ddc28e462ebb92e4252e016848",
            "value": " 11.3M/11.3M [00:00&lt;00:00, 24.3MB/s]"
          }
        },
        "584ca839be0247c69fda83a08b0c4ed4": {
          "model_module": "@jupyter-widgets/controls",
          "model_module_version": "1.5.0",
          "model_name": "ProgressStyleModel",
          "state": {
            "_model_module": "@jupyter-widgets/controls",
            "_model_module_version": "1.5.0",
            "_model_name": "ProgressStyleModel",
            "_view_count": null,
            "_view_module": "@jupyter-widgets/base",
            "_view_module_version": "1.2.0",
            "_view_name": "StyleView",
            "bar_color": null,
            "description_width": ""
          }
        },
        "74980f6b1d7a486fb322382f91dfe4a3": {
          "model_module": "@jupyter-widgets/base",
          "model_module_version": "1.2.0",
          "model_name": "LayoutModel",
          "state": {
            "_model_module": "@jupyter-widgets/base",
            "_model_module_version": "1.2.0",
            "_model_name": "LayoutModel",
            "_view_count": null,
            "_view_module": "@jupyter-widgets/base",
            "_view_module_version": "1.2.0",
            "_view_name": "LayoutView",
            "align_content": null,
            "align_items": null,
            "align_self": null,
            "border": null,
            "bottom": null,
            "display": null,
            "flex": null,
            "flex_flow": null,
            "grid_area": null,
            "grid_auto_columns": null,
            "grid_auto_flow": null,
            "grid_auto_rows": null,
            "grid_column": null,
            "grid_gap": null,
            "grid_row": null,
            "grid_template_areas": null,
            "grid_template_columns": null,
            "grid_template_rows": null,
            "height": null,
            "justify_content": null,
            "justify_items": null,
            "left": null,
            "margin": null,
            "max_height": null,
            "max_width": null,
            "min_height": null,
            "min_width": null,
            "object_fit": null,
            "object_position": null,
            "order": null,
            "overflow": null,
            "overflow_x": null,
            "overflow_y": null,
            "padding": null,
            "right": null,
            "top": null,
            "visibility": null,
            "width": null
          }
        },
        "75266aab257b404a86d2b7080c4b2497": {
          "model_module": "@jupyter-widgets/base",
          "model_module_version": "1.2.0",
          "model_name": "LayoutModel",
          "state": {
            "_model_module": "@jupyter-widgets/base",
            "_model_module_version": "1.2.0",
            "_model_name": "LayoutModel",
            "_view_count": null,
            "_view_module": "@jupyter-widgets/base",
            "_view_module_version": "1.2.0",
            "_view_name": "LayoutView",
            "align_content": null,
            "align_items": null,
            "align_self": null,
            "border": null,
            "bottom": null,
            "display": null,
            "flex": null,
            "flex_flow": null,
            "grid_area": null,
            "grid_auto_columns": null,
            "grid_auto_flow": null,
            "grid_auto_rows": null,
            "grid_column": null,
            "grid_gap": null,
            "grid_row": null,
            "grid_template_areas": null,
            "grid_template_columns": null,
            "grid_template_rows": null,
            "height": null,
            "justify_content": null,
            "justify_items": null,
            "left": null,
            "margin": null,
            "max_height": null,
            "max_width": null,
            "min_height": null,
            "min_width": null,
            "object_fit": null,
            "object_position": null,
            "order": null,
            "overflow": null,
            "overflow_x": null,
            "overflow_y": null,
            "padding": null,
            "right": null,
            "top": null,
            "visibility": null,
            "width": null
          }
        },
        "7bb942b07f6040b09e8e6b8b2e6fe79c": {
          "model_module": "@jupyter-widgets/base",
          "model_module_version": "1.2.0",
          "model_name": "LayoutModel",
          "state": {
            "_model_module": "@jupyter-widgets/base",
            "_model_module_version": "1.2.0",
            "_model_name": "LayoutModel",
            "_view_count": null,
            "_view_module": "@jupyter-widgets/base",
            "_view_module_version": "1.2.0",
            "_view_name": "LayoutView",
            "align_content": null,
            "align_items": null,
            "align_self": null,
            "border": null,
            "bottom": null,
            "display": null,
            "flex": null,
            "flex_flow": null,
            "grid_area": null,
            "grid_auto_columns": null,
            "grid_auto_flow": null,
            "grid_auto_rows": null,
            "grid_column": null,
            "grid_gap": null,
            "grid_row": null,
            "grid_template_areas": null,
            "grid_template_columns": null,
            "grid_template_rows": null,
            "height": null,
            "justify_content": null,
            "justify_items": null,
            "left": null,
            "margin": null,
            "max_height": null,
            "max_width": null,
            "min_height": null,
            "min_width": null,
            "object_fit": null,
            "object_position": null,
            "order": null,
            "overflow": null,
            "overflow_x": null,
            "overflow_y": null,
            "padding": null,
            "right": null,
            "top": null,
            "visibility": null,
            "width": null
          }
        },
        "84bb89d6ede047ce8d99a30bf15c2911": {
          "model_module": "@jupyter-widgets/controls",
          "model_module_version": "1.5.0",
          "model_name": "HBoxModel",
          "state": {
            "_dom_classes": [],
            "_model_module": "@jupyter-widgets/controls",
            "_model_module_version": "1.5.0",
            "_model_name": "HBoxModel",
            "_view_count": null,
            "_view_module": "@jupyter-widgets/controls",
            "_view_module_version": "1.5.0",
            "_view_name": "HBoxView",
            "box_style": "",
            "children": [
              "IPY_MODEL_f7d31bd7579b493aa210c1d9d8fe43bc",
              "IPY_MODEL_e84e42ff668d41a597ff4b98b62c553c",
              "IPY_MODEL_4991ba61ad074b0d957ecd6a3a8de7fe"
            ],
            "layout": "IPY_MODEL_b13cc60e34ae4258a5b019e941a7b9a1"
          }
        },
        "987b2a5a3b8549029e9567ae9b917c68": {
          "model_module": "@jupyter-widgets/controls",
          "model_module_version": "1.5.0",
          "model_name": "ProgressStyleModel",
          "state": {
            "_model_module": "@jupyter-widgets/controls",
            "_model_module_version": "1.5.0",
            "_model_name": "ProgressStyleModel",
            "_view_count": null,
            "_view_module": "@jupyter-widgets/base",
            "_view_module_version": "1.2.0",
            "_view_name": "StyleView",
            "bar_color": null,
            "description_width": ""
          }
        },
        "99a3d7f80eb04e6b94180f9e79e81515": {
          "model_module": "@jupyter-widgets/controls",
          "model_module_version": "1.5.0",
          "model_name": "FloatProgressModel",
          "state": {
            "_dom_classes": [],
            "_model_module": "@jupyter-widgets/controls",
            "_model_module_version": "1.5.0",
            "_model_name": "FloatProgressModel",
            "_view_count": null,
            "_view_module": "@jupyter-widgets/controls",
            "_view_module_version": "1.5.0",
            "_view_name": "ProgressView",
            "bar_style": "success",
            "description": "",
            "description_tooltip": null,
            "layout": "IPY_MODEL_b723fa21cf554e4eb04a0c7c94e64190",
            "max": 28918,
            "min": 0,
            "orientation": "horizontal",
            "style": "IPY_MODEL_987b2a5a3b8549029e9567ae9b917c68",
            "value": 28918
          }
        },
        "9a4dd6222c47400397d937080a365556": {
          "model_module": "@jupyter-widgets/controls",
          "model_module_version": "1.5.0",
          "model_name": "HTMLModel",
          "state": {
            "_dom_classes": [],
            "_model_module": "@jupyter-widgets/controls",
            "_model_module_version": "1.5.0",
            "_model_name": "HTMLModel",
            "_view_count": null,
            "_view_module": "@jupyter-widgets/controls",
            "_view_module_version": "1.5.0",
            "_view_name": "HTMLView",
            "description": "",
            "description_tooltip": null,
            "layout": "IPY_MODEL_ed3f1d5f4da844b2b180f68ccfb44205",
            "placeholder": "​",
            "style": "IPY_MODEL_b195b76e3fdb4bfaa5738ae22eda5853",
            "value": " 193k/? [00:00&lt;00:00, 2.16MB/s]"
          }
        },
        "9c98ab475e1643c5aae0fabf58dbc097": {
          "model_module": "@jupyter-widgets/base",
          "model_module_version": "1.2.0",
          "model_name": "LayoutModel",
          "state": {
            "_model_module": "@jupyter-widgets/base",
            "_model_module_version": "1.2.0",
            "_model_name": "LayoutModel",
            "_view_count": null,
            "_view_module": "@jupyter-widgets/base",
            "_view_module_version": "1.2.0",
            "_view_name": "LayoutView",
            "align_content": null,
            "align_items": null,
            "align_self": null,
            "border": null,
            "bottom": null,
            "display": null,
            "flex": null,
            "flex_flow": null,
            "grid_area": null,
            "grid_auto_columns": null,
            "grid_auto_flow": null,
            "grid_auto_rows": null,
            "grid_column": null,
            "grid_gap": null,
            "grid_row": null,
            "grid_template_areas": null,
            "grid_template_columns": null,
            "grid_template_rows": null,
            "height": null,
            "justify_content": null,
            "justify_items": null,
            "left": null,
            "margin": null,
            "max_height": null,
            "max_width": null,
            "min_height": null,
            "min_width": null,
            "object_fit": null,
            "object_position": null,
            "order": null,
            "overflow": null,
            "overflow_x": null,
            "overflow_y": null,
            "padding": null,
            "right": null,
            "top": null,
            "visibility": null,
            "width": null
          }
        },
        "b13cc60e34ae4258a5b019e941a7b9a1": {
          "model_module": "@jupyter-widgets/base",
          "model_module_version": "1.2.0",
          "model_name": "LayoutModel",
          "state": {
            "_model_module": "@jupyter-widgets/base",
            "_model_module_version": "1.2.0",
            "_model_name": "LayoutModel",
            "_view_count": null,
            "_view_module": "@jupyter-widgets/base",
            "_view_module_version": "1.2.0",
            "_view_name": "LayoutView",
            "align_content": null,
            "align_items": null,
            "align_self": null,
            "border": null,
            "bottom": null,
            "display": null,
            "flex": null,
            "flex_flow": null,
            "grid_area": null,
            "grid_auto_columns": null,
            "grid_auto_flow": null,
            "grid_auto_rows": null,
            "grid_column": null,
            "grid_gap": null,
            "grid_row": null,
            "grid_template_areas": null,
            "grid_template_columns": null,
            "grid_template_rows": null,
            "height": null,
            "justify_content": null,
            "justify_items": null,
            "left": null,
            "margin": null,
            "max_height": null,
            "max_width": null,
            "min_height": null,
            "min_width": null,
            "object_fit": null,
            "object_position": null,
            "order": null,
            "overflow": null,
            "overflow_x": null,
            "overflow_y": null,
            "padding": null,
            "right": null,
            "top": null,
            "visibility": null,
            "width": null
          }
        },
        "b195b76e3fdb4bfaa5738ae22eda5853": {
          "model_module": "@jupyter-widgets/controls",
          "model_module_version": "1.5.0",
          "model_name": "DescriptionStyleModel",
          "state": {
            "_model_module": "@jupyter-widgets/controls",
            "_model_module_version": "1.5.0",
            "_model_name": "DescriptionStyleModel",
            "_view_count": null,
            "_view_module": "@jupyter-widgets/base",
            "_view_module_version": "1.2.0",
            "_view_name": "StyleView",
            "description_width": ""
          }
        },
        "b723fa21cf554e4eb04a0c7c94e64190": {
          "model_module": "@jupyter-widgets/base",
          "model_module_version": "1.2.0",
          "model_name": "LayoutModel",
          "state": {
            "_model_module": "@jupyter-widgets/base",
            "_model_module_version": "1.2.0",
            "_model_name": "LayoutModel",
            "_view_count": null,
            "_view_module": "@jupyter-widgets/base",
            "_view_module_version": "1.2.0",
            "_view_name": "LayoutView",
            "align_content": null,
            "align_items": null,
            "align_self": null,
            "border": null,
            "bottom": null,
            "display": null,
            "flex": null,
            "flex_flow": null,
            "grid_area": null,
            "grid_auto_columns": null,
            "grid_auto_flow": null,
            "grid_auto_rows": null,
            "grid_column": null,
            "grid_gap": null,
            "grid_row": null,
            "grid_template_areas": null,
            "grid_template_columns": null,
            "grid_template_rows": null,
            "height": null,
            "justify_content": null,
            "justify_items": null,
            "left": null,
            "margin": null,
            "max_height": null,
            "max_width": null,
            "min_height": null,
            "min_width": null,
            "object_fit": null,
            "object_position": null,
            "order": null,
            "overflow": null,
            "overflow_x": null,
            "overflow_y": null,
            "padding": null,
            "right": null,
            "top": null,
            "visibility": null,
            "width": null
          }
        },
        "b8ac9af454444f25aa9eb4e59e34492c": {
          "model_module": "@jupyter-widgets/controls",
          "model_module_version": "1.5.0",
          "model_name": "HBoxModel",
          "state": {
            "_dom_classes": [],
            "_model_module": "@jupyter-widgets/controls",
            "_model_module_version": "1.5.0",
            "_model_name": "HBoxModel",
            "_view_count": null,
            "_view_module": "@jupyter-widgets/controls",
            "_view_module_version": "1.5.0",
            "_view_name": "HBoxView",
            "box_style": "",
            "children": [
              "IPY_MODEL_20cf05b1c0ba489eb844b450e9682408",
              "IPY_MODEL_99a3d7f80eb04e6b94180f9e79e81515",
              "IPY_MODEL_9a4dd6222c47400397d937080a365556"
            ],
            "layout": "IPY_MODEL_d9d04d030855440eaba077346944d830"
          }
        },
        "c7467be6ed894efa90a363715b29ceaf": {
          "model_module": "@jupyter-widgets/base",
          "model_module_version": "1.2.0",
          "model_name": "LayoutModel",
          "state": {
            "_model_module": "@jupyter-widgets/base",
            "_model_module_version": "1.2.0",
            "_model_name": "LayoutModel",
            "_view_count": null,
            "_view_module": "@jupyter-widgets/base",
            "_view_module_version": "1.2.0",
            "_view_name": "LayoutView",
            "align_content": null,
            "align_items": null,
            "align_self": null,
            "border": null,
            "bottom": null,
            "display": null,
            "flex": null,
            "flex_flow": null,
            "grid_area": null,
            "grid_auto_columns": null,
            "grid_auto_flow": null,
            "grid_auto_rows": null,
            "grid_column": null,
            "grid_gap": null,
            "grid_row": null,
            "grid_template_areas": null,
            "grid_template_columns": null,
            "grid_template_rows": null,
            "height": null,
            "justify_content": null,
            "justify_items": null,
            "left": null,
            "margin": null,
            "max_height": null,
            "max_width": null,
            "min_height": null,
            "min_width": null,
            "object_fit": null,
            "object_position": null,
            "order": null,
            "overflow": null,
            "overflow_x": null,
            "overflow_y": null,
            "padding": null,
            "right": null,
            "top": null,
            "visibility": null,
            "width": null
          }
        },
        "c936ecdfe73247f4a4467a71cc626b96": {
          "model_module": "@jupyter-widgets/base",
          "model_module_version": "1.2.0",
          "model_name": "LayoutModel",
          "state": {
            "_model_module": "@jupyter-widgets/base",
            "_model_module_version": "1.2.0",
            "_model_name": "LayoutModel",
            "_view_count": null,
            "_view_module": "@jupyter-widgets/base",
            "_view_module_version": "1.2.0",
            "_view_name": "LayoutView",
            "align_content": null,
            "align_items": null,
            "align_self": null,
            "border": null,
            "bottom": null,
            "display": null,
            "flex": null,
            "flex_flow": null,
            "grid_area": null,
            "grid_auto_columns": null,
            "grid_auto_flow": null,
            "grid_auto_rows": null,
            "grid_column": null,
            "grid_gap": null,
            "grid_row": null,
            "grid_template_areas": null,
            "grid_template_columns": null,
            "grid_template_rows": null,
            "height": null,
            "justify_content": null,
            "justify_items": null,
            "left": null,
            "margin": null,
            "max_height": null,
            "max_width": null,
            "min_height": null,
            "min_width": null,
            "object_fit": null,
            "object_position": null,
            "order": null,
            "overflow": null,
            "overflow_x": null,
            "overflow_y": null,
            "padding": null,
            "right": null,
            "top": null,
            "visibility": null,
            "width": null
          }
        },
        "d1e27f99135142baa930b6f5f3f9d3b5": {
          "model_module": "@jupyter-widgets/controls",
          "model_module_version": "1.5.0",
          "model_name": "DescriptionStyleModel",
          "state": {
            "_model_module": "@jupyter-widgets/controls",
            "_model_module_version": "1.5.0",
            "_model_name": "DescriptionStyleModel",
            "_view_count": null,
            "_view_module": "@jupyter-widgets/base",
            "_view_module_version": "1.2.0",
            "_view_name": "StyleView",
            "description_width": ""
          }
        },
        "d5aade0832464394a7f9c6b727eea2cb": {
          "model_module": "@jupyter-widgets/controls",
          "model_module_version": "1.5.0",
          "model_name": "HBoxModel",
          "state": {
            "_dom_classes": [],
            "_model_module": "@jupyter-widgets/controls",
            "_model_module_version": "1.5.0",
            "_model_name": "HBoxModel",
            "_view_count": null,
            "_view_module": "@jupyter-widgets/controls",
            "_view_module_version": "1.5.0",
            "_view_name": "HBoxView",
            "box_style": "",
            "children": [
              "IPY_MODEL_18925dfceefb4c4b8de6ad973b2ae298",
              "IPY_MODEL_46bfaf8524794c5aa38c0adee6854bb0",
              "IPY_MODEL_336dc8365c4a4906ab08388ba347c30f"
            ],
            "layout": "IPY_MODEL_2c69e701f79146238fe6f16aa2024a05"
          }
        },
        "d9d04d030855440eaba077346944d830": {
          "model_module": "@jupyter-widgets/base",
          "model_module_version": "1.2.0",
          "model_name": "LayoutModel",
          "state": {
            "_model_module": "@jupyter-widgets/base",
            "_model_module_version": "1.2.0",
            "_model_name": "LayoutModel",
            "_view_count": null,
            "_view_module": "@jupyter-widgets/base",
            "_view_module_version": "1.2.0",
            "_view_name": "LayoutView",
            "align_content": null,
            "align_items": null,
            "align_self": null,
            "border": null,
            "bottom": null,
            "display": null,
            "flex": null,
            "flex_flow": null,
            "grid_area": null,
            "grid_auto_columns": null,
            "grid_auto_flow": null,
            "grid_auto_rows": null,
            "grid_column": null,
            "grid_gap": null,
            "grid_row": null,
            "grid_template_areas": null,
            "grid_template_columns": null,
            "grid_template_rows": null,
            "height": null,
            "justify_content": null,
            "justify_items": null,
            "left": null,
            "margin": null,
            "max_height": null,
            "max_width": null,
            "min_height": null,
            "min_width": null,
            "object_fit": null,
            "object_position": null,
            "order": null,
            "overflow": null,
            "overflow_x": null,
            "overflow_y": null,
            "padding": null,
            "right": null,
            "top": null,
            "visibility": null,
            "width": null
          }
        },
        "db480d10bebe458d85b70485e629f85a": {
          "model_module": "@jupyter-widgets/controls",
          "model_module_version": "1.5.0",
          "model_name": "ProgressStyleModel",
          "state": {
            "_model_module": "@jupyter-widgets/controls",
            "_model_module_version": "1.5.0",
            "_model_name": "ProgressStyleModel",
            "_view_count": null,
            "_view_module": "@jupyter-widgets/base",
            "_view_module_version": "1.2.0",
            "_view_name": "StyleView",
            "bar_color": null,
            "description_width": ""
          }
        },
        "db87b1ddc28e462ebb92e4252e016848": {
          "model_module": "@jupyter-widgets/controls",
          "model_module_version": "1.5.0",
          "model_name": "DescriptionStyleModel",
          "state": {
            "_model_module": "@jupyter-widgets/controls",
            "_model_module_version": "1.5.0",
            "_model_name": "DescriptionStyleModel",
            "_view_count": null,
            "_view_module": "@jupyter-widgets/base",
            "_view_module_version": "1.2.0",
            "_view_name": "StyleView",
            "description_width": ""
          }
        },
        "e075d1d7393d47d2b3a68398a3609b30": {
          "model_module": "@jupyter-widgets/base",
          "model_module_version": "1.2.0",
          "model_name": "LayoutModel",
          "state": {
            "_model_module": "@jupyter-widgets/base",
            "_model_module_version": "1.2.0",
            "_model_name": "LayoutModel",
            "_view_count": null,
            "_view_module": "@jupyter-widgets/base",
            "_view_module_version": "1.2.0",
            "_view_name": "LayoutView",
            "align_content": null,
            "align_items": null,
            "align_self": null,
            "border": null,
            "bottom": null,
            "display": null,
            "flex": null,
            "flex_flow": null,
            "grid_area": null,
            "grid_auto_columns": null,
            "grid_auto_flow": null,
            "grid_auto_rows": null,
            "grid_column": null,
            "grid_gap": null,
            "grid_row": null,
            "grid_template_areas": null,
            "grid_template_columns": null,
            "grid_template_rows": null,
            "height": null,
            "justify_content": null,
            "justify_items": null,
            "left": null,
            "margin": null,
            "max_height": null,
            "max_width": null,
            "min_height": null,
            "min_width": null,
            "object_fit": null,
            "object_position": null,
            "order": null,
            "overflow": null,
            "overflow_x": null,
            "overflow_y": null,
            "padding": null,
            "right": null,
            "top": null,
            "visibility": null,
            "width": null
          }
        },
        "e84e42ff668d41a597ff4b98b62c553c": {
          "model_module": "@jupyter-widgets/controls",
          "model_module_version": "1.5.0",
          "model_name": "FloatProgressModel",
          "state": {
            "_dom_classes": [],
            "_model_module": "@jupyter-widgets/controls",
            "_model_module_version": "1.5.0",
            "_model_name": "FloatProgressModel",
            "_view_count": null,
            "_view_module": "@jupyter-widgets/controls",
            "_view_module_version": "1.5.0",
            "_view_name": "ProgressView",
            "bar_style": "success",
            "description": "",
            "description_tooltip": null,
            "layout": "IPY_MODEL_74980f6b1d7a486fb322382f91dfe4a3",
            "max": 11305665,
            "min": 0,
            "orientation": "horizontal",
            "style": "IPY_MODEL_db480d10bebe458d85b70485e629f85a",
            "value": 11305665
          }
        },
        "ed3f1d5f4da844b2b180f68ccfb44205": {
          "model_module": "@jupyter-widgets/base",
          "model_module_version": "1.2.0",
          "model_name": "LayoutModel",
          "state": {
            "_model_module": "@jupyter-widgets/base",
            "_model_module_version": "1.2.0",
            "_model_name": "LayoutModel",
            "_view_count": null,
            "_view_module": "@jupyter-widgets/base",
            "_view_module_version": "1.2.0",
            "_view_name": "LayoutView",
            "align_content": null,
            "align_items": null,
            "align_self": null,
            "border": null,
            "bottom": null,
            "display": null,
            "flex": null,
            "flex_flow": null,
            "grid_area": null,
            "grid_auto_columns": null,
            "grid_auto_flow": null,
            "grid_auto_rows": null,
            "grid_column": null,
            "grid_gap": null,
            "grid_row": null,
            "grid_template_areas": null,
            "grid_template_columns": null,
            "grid_template_rows": null,
            "height": null,
            "justify_content": null,
            "justify_items": null,
            "left": null,
            "margin": null,
            "max_height": null,
            "max_width": null,
            "min_height": null,
            "min_width": null,
            "object_fit": null,
            "object_position": null,
            "order": null,
            "overflow": null,
            "overflow_x": null,
            "overflow_y": null,
            "padding": null,
            "right": null,
            "top": null,
            "visibility": null,
            "width": null
          }
        },
        "f7d31bd7579b493aa210c1d9d8fe43bc": {
          "model_module": "@jupyter-widgets/controls",
          "model_module_version": "1.5.0",
          "model_name": "HTMLModel",
          "state": {
            "_dom_classes": [],
            "_model_module": "@jupyter-widgets/controls",
            "_model_module_version": "1.5.0",
            "_model_name": "HTMLModel",
            "_view_count": null,
            "_view_module": "@jupyter-widgets/controls",
            "_view_module_version": "1.5.0",
            "_view_name": "HTMLView",
            "description": "",
            "description_tooltip": null,
            "layout": "IPY_MODEL_c7467be6ed894efa90a363715b29ceaf",
            "placeholder": "​",
            "style": "IPY_MODEL_d1e27f99135142baa930b6f5f3f9d3b5",
            "value": "Downloading https://huggingface.co/stanfordnlp/stanza-ru/resolve/v1.4.1/models/lemma/syntagrus.pt: 100%"
          }
        }
      }
    }
  },
  "nbformat": 4,
  "nbformat_minor": 5
}
