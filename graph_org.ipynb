{
  "cells": [
    {
      "cell_type": "markdown",
      "metadata": {
        "id": "view-in-github",
        "colab_type": "text"
      },
      "source": [
        "<a href=\"https://colab.research.google.com/github/Somertonman/hackathon_2023/blob/main/graph_org.ipynb\" target=\"_parent\"><img src=\"https://colab.research.google.com/assets/colab-badge.svg\" alt=\"Open In Colab\"/></a>"
      ]
    },
    {
      "cell_type": "markdown",
      "id": "c39153f4",
      "metadata": {
        "id": "c39153f4"
      },
      "source": [
        "# Imports"
      ]
    },
    {
      "cell_type": "code",
      "execution_count": 2,
      "id": "VEJJkrDAY4ey",
      "metadata": {
        "id": "VEJJkrDAY4ey",
        "outputId": "560fc189-7de6-45d9-abf1-382fcd82b074",
        "colab": {
          "base_uri": "https://localhost:8080/"
        }
      },
      "outputs": [
        {
          "output_type": "stream",
          "name": "stdout",
          "text": [
            "Looking in indexes: https://pypi.org/simple, https://us-python.pkg.dev/colab-wheels/public/simple/\n",
            "Collecting pymorphy2\n",
            "  Downloading pymorphy2-0.9.1-py3-none-any.whl (55 kB)\n",
            "\u001b[?25l     \u001b[90m━━━━━━━━━━━━━━━━━━━━━━━━━━━━━━━━━━━━━━━━\u001b[0m \u001b[32m0.0/55.5 KB\u001b[0m \u001b[31m?\u001b[0m eta \u001b[36m-:--:--\u001b[0m\r\u001b[2K     \u001b[90m━━━━━━━━━━━━━━━━━━━━━━━━━━━━━━━━━━━━━━━━\u001b[0m \u001b[32m55.5/55.5 KB\u001b[0m \u001b[31m2.8 MB/s\u001b[0m eta \u001b[36m0:00:00\u001b[0m\n",
            "\u001b[?25hCollecting docopt>=0.6\n",
            "  Downloading docopt-0.6.2.tar.gz (25 kB)\n",
            "  Preparing metadata (setup.py) ... \u001b[?25l\u001b[?25hdone\n",
            "Collecting pymorphy2-dicts-ru<3.0,>=2.4\n",
            "  Downloading pymorphy2_dicts_ru-2.4.417127.4579844-py2.py3-none-any.whl (8.2 MB)\n",
            "\u001b[2K     \u001b[90m━━━━━━━━━━━━━━━━━━━━━━━━━━━━━━━━━━━━━━━━\u001b[0m \u001b[32m8.2/8.2 MB\u001b[0m \u001b[31m69.1 MB/s\u001b[0m eta \u001b[36m0:00:00\u001b[0m\n",
            "\u001b[?25hCollecting dawg-python>=0.7.1\n",
            "  Downloading DAWG_Python-0.7.2-py2.py3-none-any.whl (11 kB)\n",
            "Building wheels for collected packages: docopt\n",
            "  Building wheel for docopt (setup.py) ... \u001b[?25l\u001b[?25hdone\n",
            "  Created wheel for docopt: filename=docopt-0.6.2-py2.py3-none-any.whl size=13723 sha256=8fd0c5a1cd269539b2d470b28d80127afb58560fb2ed12fa95618efbb18bdf70\n",
            "  Stored in directory: /root/.cache/pip/wheels/56/ea/58/ead137b087d9e326852a851351d1debf4ada529b6ac0ec4e8c\n",
            "Successfully built docopt\n",
            "Installing collected packages: pymorphy2-dicts-ru, docopt, dawg-python, pymorphy2\n",
            "Successfully installed dawg-python-0.7.2 docopt-0.6.2 pymorphy2-0.9.1 pymorphy2-dicts-ru-2.4.417127.4579844\n"
          ]
        }
      ],
      "source": [
        "!pip install pymorphy2\n",
        "import pymorphy2"
      ]
    },
    {
      "cell_type": "code",
      "source": [
        "#%%capture\n",
        "!pip install python-docx docx"
      ],
      "metadata": {
        "id": "1p3VzcLRjifD",
        "colab": {
          "base_uri": "https://localhost:8080/"
        },
        "outputId": "ed9703ff-5e9f-49d3-a5b7-cbd2e40cb217"
      },
      "id": "1p3VzcLRjifD",
      "execution_count": 3,
      "outputs": [
        {
          "output_type": "stream",
          "name": "stdout",
          "text": [
            "Looking in indexes: https://pypi.org/simple, https://us-python.pkg.dev/colab-wheels/public/simple/\n",
            "Collecting python-docx\n",
            "  Downloading python-docx-0.8.11.tar.gz (5.6 MB)\n",
            "\u001b[2K     \u001b[90m━━━━━━━━━━━━━━━━━━━━━━━━━━━━━━━━━━━━━━━━\u001b[0m \u001b[32m5.6/5.6 MB\u001b[0m \u001b[31m43.4 MB/s\u001b[0m eta \u001b[36m0:00:00\u001b[0m\n",
            "\u001b[?25h  Preparing metadata (setup.py) ... \u001b[?25l\u001b[?25hdone\n",
            "Collecting docx\n",
            "  Downloading docx-0.2.4.tar.gz (54 kB)\n",
            "\u001b[2K     \u001b[90m━━━━━━━━━━━━━━━━━━━━━━━━━━━━━━━━━━━━━━━━\u001b[0m \u001b[32m54.9/54.9 KB\u001b[0m \u001b[31m4.5 MB/s\u001b[0m eta \u001b[36m0:00:00\u001b[0m\n",
            "\u001b[?25h  Preparing metadata (setup.py) ... \u001b[?25l\u001b[?25hdone\n",
            "Requirement already satisfied: lxml>=2.3.2 in /usr/local/lib/python3.8/dist-packages (from python-docx) (4.9.2)\n",
            "Requirement already satisfied: Pillow>=2.0 in /usr/local/lib/python3.8/dist-packages (from docx) (7.1.2)\n",
            "Building wheels for collected packages: python-docx, docx\n",
            "  Building wheel for python-docx (setup.py) ... \u001b[?25l\u001b[?25hdone\n",
            "  Created wheel for python-docx: filename=python_docx-0.8.11-py3-none-any.whl size=184505 sha256=38e43e9735ed244e8a0ab3b8cce8db1ab2ed2e94ce26259ce1b709f2ad14d1b1\n",
            "  Stored in directory: /root/.cache/pip/wheels/32/b8/b2/c4c2b95765e615fe139b0b17b5ea7c0e1b6519b0a9ec8fb34d\n",
            "  Building wheel for docx (setup.py) ... \u001b[?25l\u001b[?25hdone\n",
            "  Created wheel for docx: filename=docx-0.2.4-py3-none-any.whl size=53924 sha256=623b307983a792c5fee14dad695d881a0644be365af9d97d0db186134db52c58\n",
            "  Stored in directory: /root/.cache/pip/wheels/78/ae/2e/5ce789557ca59281a463dabe9d6522e429be240322148e5379\n",
            "Successfully built python-docx docx\n",
            "Installing collected packages: python-docx, docx\n",
            "Successfully installed docx-0.2.4 python-docx-0.8.11\n"
          ]
        }
      ]
    },
    {
      "cell_type": "code",
      "source": [
        "!pip install transformers sacremoses\n",
        "from transformers import pipeline\n",
        "\n",
        "qa_pipeline = pipeline(\"question-answering\", \"timpal0l/mdeberta-v3-base-squad2\")"
      ],
      "metadata": {
        "id": "5y6q0Yk5lab7",
        "colab": {
          "base_uri": "https://localhost:8080/",
          "height": 0,
          "referenced_widgets": [
            "1f31d38096384aecb1b34b0ddedbce81",
            "c64f8c7f5d3f486bb6e021589a57415c",
            "5d7c6fd556e3469682dd8ae1a0369f68",
            "a567515a487f415e84149fe59e7fb3b2",
            "fd59f1d499d4456d84cf80daf9cbc6c8",
            "aafb5582e9c742b98e5b939b92aa3334",
            "f814cb630ed745e582150e59e6ae0e03",
            "a00144174bb6482382be692af76bce85",
            "54481977f09946e9b29459269ff6f936",
            "55df4094881e427eac7f75a1b1e0610f",
            "c149026f89b647ffb6275b4f9d8ff7d2",
            "4cf5c4154dbe470b84454007e9c01b34",
            "1acd7b8b3b3640f8ba98b4427c09cfea",
            "94224cea470842f0a48fd32121034231",
            "b8ef7788789848e2b51b287ad2a11dc3",
            "a6edb47c4b42469a8565488780099535",
            "513f684658f24f45ad68b3574d419bfb",
            "d3458a5955894f43ac10bff51a1f7291",
            "1d0e40e34622479bb7f9f460df793da8",
            "cad1de742dcd457085ee42152392451c",
            "0eb39288f9d641ab8122f80dc0636480",
            "d54849a56d4048c4904b17cf2a296a99",
            "3327cc80124240de979de1ac3da2079b",
            "897d8100871340c19e291bc1b05d9aad",
            "ab5a49a9f76040c282ee85e05ab31bdd",
            "fbb3779786ce42938779370af176f887",
            "74bae64b0db04fb3a1da2c17fc273334",
            "1aa911600709474fb547454d229e2866",
            "5fc7001115dc410eb97031eeb66e0c70",
            "3b29e871ad894b7a960cbcd71b9bcc54",
            "1f2e7080f63d439394393a3e560294e9",
            "ec8c76419a9349b2b76cbd5092f9710b",
            "a55a5b4d3d944a1ebb3608e77f665604",
            "2298f1ec95684472a0b04f623723fb23",
            "fa76b92a55c64f4dbb81424e4e83195b",
            "d3bf01bdfbae48399863d4449cbc9c5c",
            "8fedcb5ac0c14daa98e12f9c199b1b81",
            "02ba5b64474a44b9b7446bc29f3890aa",
            "f52a49896a564eb58c46e4c86e3d5567",
            "ca67f4ec85c84ac0a315b919ea90b0d8",
            "6d2b2c085c1f43d0bbedc40eeb5ac228",
            "fc44991e707f403e8f7e0d246bbb26be",
            "94e9126cfd8d40a58b377723f5b3a7ef",
            "85d5eb8847d042a2a2d1e51c77ac57e5",
            "23e29c633aed480e93818c652c4fcb7b",
            "d189bfd4a1594c02bcdb1f7cda1ad6c2",
            "b4f7cbaa2f4d465fa0cd9268aa825c40",
            "549ff707ee6e41699761ccc4d6b438a9",
            "8cee163bc22e409bb6f522da4e6cb365",
            "f93ffe9203dd4bcfb7cbc3689a7414c8",
            "4cb3651988ca4504bac5e7c0a60acaa9",
            "bf0516c432584255968a1b69e0f8dfdf",
            "cf188b674f3f484d91319cf3673943fd",
            "3ddfcc362f0448cda1b2ef537db6cdcf",
            "4b8e12f7b5304634a87139d692e5ad83",
            "553683b286f24b0faaacf60ec680515d",
            "81abced3d01142d39dd2f61eb3a94135",
            "9df36a7caccf44669bde2de1cc23f577",
            "f7299821a6fb4c37afdc175122b8bbb6",
            "500a3f0bd7ab480895b0821cdf56abea",
            "3021954778f74818a6b8b03f7865c396",
            "1ac02b6766ab47bdb66b978358e778a7",
            "07942d12f1854e1d95ab25e68044c1c9",
            "404d43ab9cf5415a9fd254e9fedf379a",
            "0d7259f0ccb44c1384a4cb9805e20aab",
            "ea4829c40d5948efba96f3051760d41a"
          ]
        },
        "outputId": "1328053a-b6a0-43dc-9541-6032505e82d5"
      },
      "id": "5y6q0Yk5lab7",
      "execution_count": 4,
      "outputs": [
        {
          "output_type": "stream",
          "name": "stdout",
          "text": [
            "Looking in indexes: https://pypi.org/simple, https://us-python.pkg.dev/colab-wheels/public/simple/\n",
            "Collecting transformers\n",
            "  Downloading transformers-4.25.1-py3-none-any.whl (5.8 MB)\n",
            "\u001b[2K     \u001b[90m━━━━━━━━━━━━━━━━━━━━━━━━━━━━━━━━━━━━━━━━\u001b[0m \u001b[32m5.8/5.8 MB\u001b[0m \u001b[31m31.2 MB/s\u001b[0m eta \u001b[36m0:00:00\u001b[0m\n",
            "\u001b[?25hCollecting sacremoses\n",
            "  Downloading sacremoses-0.0.53.tar.gz (880 kB)\n",
            "\u001b[2K     \u001b[90m━━━━━━━━━━━━━━━━━━━━━━━━━━━━━━━━━━━━━━\u001b[0m \u001b[32m880.6/880.6 KB\u001b[0m \u001b[31m46.8 MB/s\u001b[0m eta \u001b[36m0:00:00\u001b[0m\n",
            "\u001b[?25h  Preparing metadata (setup.py) ... \u001b[?25l\u001b[?25hdone\n",
            "Requirement already satisfied: regex!=2019.12.17 in /usr/local/lib/python3.8/dist-packages (from transformers) (2022.6.2)\n",
            "Requirement already satisfied: pyyaml>=5.1 in /usr/local/lib/python3.8/dist-packages (from transformers) (6.0)\n",
            "Collecting tokenizers!=0.11.3,<0.14,>=0.11.1\n",
            "  Downloading tokenizers-0.13.2-cp38-cp38-manylinux_2_17_x86_64.manylinux2014_x86_64.whl (7.6 MB)\n",
            "\u001b[2K     \u001b[90m━━━━━━━━━━━━━━━━━━━━━━━━━━━━━━━━━━━━━━━━\u001b[0m \u001b[32m7.6/7.6 MB\u001b[0m \u001b[31m59.7 MB/s\u001b[0m eta \u001b[36m0:00:00\u001b[0m\n",
            "\u001b[?25hRequirement already satisfied: filelock in /usr/local/lib/python3.8/dist-packages (from transformers) (3.9.0)\n",
            "Collecting huggingface-hub<1.0,>=0.10.0\n",
            "  Downloading huggingface_hub-0.11.1-py3-none-any.whl (182 kB)\n",
            "\u001b[2K     \u001b[90m━━━━━━━━━━━━━━━━━━━━━━━━━━━━━━━━━━━━━━\u001b[0m \u001b[32m182.4/182.4 KB\u001b[0m \u001b[31m20.2 MB/s\u001b[0m eta \u001b[36m0:00:00\u001b[0m\n",
            "\u001b[?25hRequirement already satisfied: requests in /usr/local/lib/python3.8/dist-packages (from transformers) (2.25.1)\n",
            "Requirement already satisfied: packaging>=20.0 in /usr/local/lib/python3.8/dist-packages (from transformers) (21.3)\n",
            "Requirement already satisfied: numpy>=1.17 in /usr/local/lib/python3.8/dist-packages (from transformers) (1.21.6)\n",
            "Requirement already satisfied: tqdm>=4.27 in /usr/local/lib/python3.8/dist-packages (from transformers) (4.64.1)\n",
            "Requirement already satisfied: six in /usr/local/lib/python3.8/dist-packages (from sacremoses) (1.15.0)\n",
            "Requirement already satisfied: click in /usr/local/lib/python3.8/dist-packages (from sacremoses) (7.1.2)\n",
            "Requirement already satisfied: joblib in /usr/local/lib/python3.8/dist-packages (from sacremoses) (1.2.0)\n",
            "Requirement already satisfied: typing-extensions>=3.7.4.3 in /usr/local/lib/python3.8/dist-packages (from huggingface-hub<1.0,>=0.10.0->transformers) (4.4.0)\n",
            "Requirement already satisfied: pyparsing!=3.0.5,>=2.0.2 in /usr/local/lib/python3.8/dist-packages (from packaging>=20.0->transformers) (3.0.9)\n",
            "Requirement already satisfied: urllib3<1.27,>=1.21.1 in /usr/local/lib/python3.8/dist-packages (from requests->transformers) (1.24.3)\n",
            "Requirement already satisfied: certifi>=2017.4.17 in /usr/local/lib/python3.8/dist-packages (from requests->transformers) (2022.12.7)\n",
            "Requirement already satisfied: chardet<5,>=3.0.2 in /usr/local/lib/python3.8/dist-packages (from requests->transformers) (4.0.0)\n",
            "Requirement already satisfied: idna<3,>=2.5 in /usr/local/lib/python3.8/dist-packages (from requests->transformers) (2.10)\n",
            "Building wheels for collected packages: sacremoses\n",
            "  Building wheel for sacremoses (setup.py) ... \u001b[?25l\u001b[?25hdone\n",
            "  Created wheel for sacremoses: filename=sacremoses-0.0.53-py3-none-any.whl size=895260 sha256=c42df65f527f6550fb6949d997c1aa146e4c7e11c0a8ab91bd280d1e0b401b14\n",
            "  Stored in directory: /root/.cache/pip/wheels/82/ab/9b/c15899bf659ba74f623ac776e861cf2eb8608c1825ddec66a4\n",
            "Successfully built sacremoses\n",
            "Installing collected packages: tokenizers, sacremoses, huggingface-hub, transformers\n",
            "Successfully installed huggingface-hub-0.11.1 sacremoses-0.0.53 tokenizers-0.13.2 transformers-4.25.1\n"
          ]
        },
        {
          "output_type": "display_data",
          "data": {
            "text/plain": [
              "Downloading:   0%|          | 0.00/879 [00:00<?, ?B/s]"
            ],
            "application/vnd.jupyter.widget-view+json": {
              "version_major": 2,
              "version_minor": 0,
              "model_id": "1f31d38096384aecb1b34b0ddedbce81"
            }
          },
          "metadata": {}
        },
        {
          "output_type": "display_data",
          "data": {
            "text/plain": [
              "Downloading:   0%|          | 0.00/1.11G [00:00<?, ?B/s]"
            ],
            "application/vnd.jupyter.widget-view+json": {
              "version_major": 2,
              "version_minor": 0,
              "model_id": "4cf5c4154dbe470b84454007e9c01b34"
            }
          },
          "metadata": {}
        },
        {
          "output_type": "display_data",
          "data": {
            "text/plain": [
              "Downloading:   0%|          | 0.00/453 [00:00<?, ?B/s]"
            ],
            "application/vnd.jupyter.widget-view+json": {
              "version_major": 2,
              "version_minor": 0,
              "model_id": "3327cc80124240de979de1ac3da2079b"
            }
          },
          "metadata": {}
        },
        {
          "output_type": "display_data",
          "data": {
            "text/plain": [
              "Downloading:   0%|          | 0.00/16.3M [00:00<?, ?B/s]"
            ],
            "application/vnd.jupyter.widget-view+json": {
              "version_major": 2,
              "version_minor": 0,
              "model_id": "2298f1ec95684472a0b04f623723fb23"
            }
          },
          "metadata": {}
        },
        {
          "output_type": "display_data",
          "data": {
            "text/plain": [
              "Downloading:   0%|          | 0.00/23.0 [00:00<?, ?B/s]"
            ],
            "application/vnd.jupyter.widget-view+json": {
              "version_major": 2,
              "version_minor": 0,
              "model_id": "23e29c633aed480e93818c652c4fcb7b"
            }
          },
          "metadata": {}
        },
        {
          "output_type": "display_data",
          "data": {
            "text/plain": [
              "Downloading:   0%|          | 0.00/173 [00:00<?, ?B/s]"
            ],
            "application/vnd.jupyter.widget-view+json": {
              "version_major": 2,
              "version_minor": 0,
              "model_id": "553683b286f24b0faaacf60ec680515d"
            }
          },
          "metadata": {}
        }
      ]
    },
    {
      "cell_type": "code",
      "execution_count": 6,
      "id": "9a31b4b0",
      "metadata": {
        "id": "9a31b4b0"
      },
      "outputs": [],
      "source": [
        "import pandas as pd\n",
        "import spacy\n",
        "from tqdm import tqdm\n",
        "import warnings\n",
        "\n",
        "warnings.simplefilter(action='ignore', category=FutureWarning)\n",
        "pd.options.mode.chained_assignment = None"
      ]
    },
    {
      "cell_type": "code",
      "source": [
        "!python -m spacy download ru_core_news_lg"
      ],
      "metadata": {
        "id": "KNigiiana0-0",
        "outputId": "1173c462-820e-43ce-d8af-f02e7bb930b7",
        "colab": {
          "base_uri": "https://localhost:8080/"
        }
      },
      "id": "KNigiiana0-0",
      "execution_count": 7,
      "outputs": [
        {
          "output_type": "stream",
          "name": "stdout",
          "text": [
            "/usr/local/lib/python3.8/dist-packages/torch/cuda/__init__.py:497: UserWarning: Can't initialize NVML\n",
            "  warnings.warn(\"Can't initialize NVML\")\n",
            "2023-01-23 06:48:16.819580: E tensorflow/stream_executor/cuda/cuda_driver.cc:271] failed call to cuInit: CUDA_ERROR_NO_DEVICE: no CUDA-capable device is detected\n",
            "Looking in indexes: https://pypi.org/simple, https://us-python.pkg.dev/colab-wheels/public/simple/\n",
            "Collecting ru-core-news-lg==3.4.0\n",
            "  Downloading https://github.com/explosion/spacy-models/releases/download/ru_core_news_lg-3.4.0/ru_core_news_lg-3.4.0-py3-none-any.whl (513.4 MB)\n",
            "\u001b[2K     \u001b[90m━━━━━━━━━━━━━━━━━━━━━━━━━━━━━━━━━━━━━━━\u001b[0m \u001b[32m513.4/513.4 MB\u001b[0m \u001b[31m2.1 MB/s\u001b[0m eta \u001b[36m0:00:00\u001b[0m\n",
            "\u001b[?25hRequirement already satisfied: spacy<3.5.0,>=3.4.0 in /usr/local/lib/python3.8/dist-packages (from ru-core-news-lg==3.4.0) (3.4.4)\n",
            "Requirement already satisfied: pymorphy2>=0.9 in /usr/local/lib/python3.8/dist-packages (from ru-core-news-lg==3.4.0) (0.9.1)\n",
            "Requirement already satisfied: pymorphy2-dicts-ru<3.0,>=2.4 in /usr/local/lib/python3.8/dist-packages (from pymorphy2>=0.9->ru-core-news-lg==3.4.0) (2.4.417127.4579844)\n",
            "Requirement already satisfied: dawg-python>=0.7.1 in /usr/local/lib/python3.8/dist-packages (from pymorphy2>=0.9->ru-core-news-lg==3.4.0) (0.7.2)\n",
            "Requirement already satisfied: docopt>=0.6 in /usr/local/lib/python3.8/dist-packages (from pymorphy2>=0.9->ru-core-news-lg==3.4.0) (0.6.2)\n",
            "Requirement already satisfied: jinja2 in /usr/local/lib/python3.8/dist-packages (from spacy<3.5.0,>=3.4.0->ru-core-news-lg==3.4.0) (2.11.3)\n",
            "Requirement already satisfied: spacy-legacy<3.1.0,>=3.0.10 in /usr/local/lib/python3.8/dist-packages (from spacy<3.5.0,>=3.4.0->ru-core-news-lg==3.4.0) (3.0.11)\n",
            "Requirement already satisfied: cymem<2.1.0,>=2.0.2 in /usr/local/lib/python3.8/dist-packages (from spacy<3.5.0,>=3.4.0->ru-core-news-lg==3.4.0) (2.0.7)\n",
            "Requirement already satisfied: pathy>=0.3.5 in /usr/local/lib/python3.8/dist-packages (from spacy<3.5.0,>=3.4.0->ru-core-news-lg==3.4.0) (0.10.1)\n",
            "Requirement already satisfied: tqdm<5.0.0,>=4.38.0 in /usr/local/lib/python3.8/dist-packages (from spacy<3.5.0,>=3.4.0->ru-core-news-lg==3.4.0) (4.64.1)\n",
            "Requirement already satisfied: smart-open<7.0.0,>=5.2.1 in /usr/local/lib/python3.8/dist-packages (from spacy<3.5.0,>=3.4.0->ru-core-news-lg==3.4.0) (6.3.0)\n",
            "Requirement already satisfied: wasabi<1.1.0,>=0.9.1 in /usr/local/lib/python3.8/dist-packages (from spacy<3.5.0,>=3.4.0->ru-core-news-lg==3.4.0) (0.10.1)\n",
            "Requirement already satisfied: spacy-loggers<2.0.0,>=1.0.0 in /usr/local/lib/python3.8/dist-packages (from spacy<3.5.0,>=3.4.0->ru-core-news-lg==3.4.0) (1.0.4)\n",
            "Requirement already satisfied: setuptools in /usr/local/lib/python3.8/dist-packages (from spacy<3.5.0,>=3.4.0->ru-core-news-lg==3.4.0) (57.4.0)\n",
            "Requirement already satisfied: langcodes<4.0.0,>=3.2.0 in /usr/local/lib/python3.8/dist-packages (from spacy<3.5.0,>=3.4.0->ru-core-news-lg==3.4.0) (3.3.0)\n",
            "Requirement already satisfied: srsly<3.0.0,>=2.4.3 in /usr/local/lib/python3.8/dist-packages (from spacy<3.5.0,>=3.4.0->ru-core-news-lg==3.4.0) (2.4.5)\n",
            "Requirement already satisfied: murmurhash<1.1.0,>=0.28.0 in /usr/local/lib/python3.8/dist-packages (from spacy<3.5.0,>=3.4.0->ru-core-news-lg==3.4.0) (1.0.9)\n",
            "Requirement already satisfied: numpy>=1.15.0 in /usr/local/lib/python3.8/dist-packages (from spacy<3.5.0,>=3.4.0->ru-core-news-lg==3.4.0) (1.21.6)\n",
            "Requirement already satisfied: preshed<3.1.0,>=3.0.2 in /usr/local/lib/python3.8/dist-packages (from spacy<3.5.0,>=3.4.0->ru-core-news-lg==3.4.0) (3.0.8)\n",
            "Requirement already satisfied: packaging>=20.0 in /usr/local/lib/python3.8/dist-packages (from spacy<3.5.0,>=3.4.0->ru-core-news-lg==3.4.0) (21.3)\n",
            "Requirement already satisfied: pydantic!=1.8,!=1.8.1,<1.11.0,>=1.7.4 in /usr/local/lib/python3.8/dist-packages (from spacy<3.5.0,>=3.4.0->ru-core-news-lg==3.4.0) (1.10.4)\n",
            "Requirement already satisfied: thinc<8.2.0,>=8.1.0 in /usr/local/lib/python3.8/dist-packages (from spacy<3.5.0,>=3.4.0->ru-core-news-lg==3.4.0) (8.1.6)\n",
            "Requirement already satisfied: requests<3.0.0,>=2.13.0 in /usr/local/lib/python3.8/dist-packages (from spacy<3.5.0,>=3.4.0->ru-core-news-lg==3.4.0) (2.25.1)\n",
            "Requirement already satisfied: catalogue<2.1.0,>=2.0.6 in /usr/local/lib/python3.8/dist-packages (from spacy<3.5.0,>=3.4.0->ru-core-news-lg==3.4.0) (2.0.8)\n",
            "Requirement already satisfied: typer<0.8.0,>=0.3.0 in /usr/local/lib/python3.8/dist-packages (from spacy<3.5.0,>=3.4.0->ru-core-news-lg==3.4.0) (0.7.0)\n",
            "Requirement already satisfied: pyparsing!=3.0.5,>=2.0.2 in /usr/local/lib/python3.8/dist-packages (from packaging>=20.0->spacy<3.5.0,>=3.4.0->ru-core-news-lg==3.4.0) (3.0.9)\n",
            "Requirement already satisfied: typing-extensions>=4.2.0 in /usr/local/lib/python3.8/dist-packages (from pydantic!=1.8,!=1.8.1,<1.11.0,>=1.7.4->spacy<3.5.0,>=3.4.0->ru-core-news-lg==3.4.0) (4.4.0)\n",
            "Requirement already satisfied: chardet<5,>=3.0.2 in /usr/local/lib/python3.8/dist-packages (from requests<3.0.0,>=2.13.0->spacy<3.5.0,>=3.4.0->ru-core-news-lg==3.4.0) (4.0.0)\n",
            "Requirement already satisfied: urllib3<1.27,>=1.21.1 in /usr/local/lib/python3.8/dist-packages (from requests<3.0.0,>=2.13.0->spacy<3.5.0,>=3.4.0->ru-core-news-lg==3.4.0) (1.24.3)\n",
            "Requirement already satisfied: certifi>=2017.4.17 in /usr/local/lib/python3.8/dist-packages (from requests<3.0.0,>=2.13.0->spacy<3.5.0,>=3.4.0->ru-core-news-lg==3.4.0) (2022.12.7)\n",
            "Requirement already satisfied: idna<3,>=2.5 in /usr/local/lib/python3.8/dist-packages (from requests<3.0.0,>=2.13.0->spacy<3.5.0,>=3.4.0->ru-core-news-lg==3.4.0) (2.10)\n",
            "Requirement already satisfied: blis<0.8.0,>=0.7.8 in /usr/local/lib/python3.8/dist-packages (from thinc<8.2.0,>=8.1.0->spacy<3.5.0,>=3.4.0->ru-core-news-lg==3.4.0) (0.7.9)\n",
            "Requirement already satisfied: confection<1.0.0,>=0.0.1 in /usr/local/lib/python3.8/dist-packages (from thinc<8.2.0,>=8.1.0->spacy<3.5.0,>=3.4.0->ru-core-news-lg==3.4.0) (0.0.3)\n",
            "Requirement already satisfied: click<9.0.0,>=7.1.1 in /usr/local/lib/python3.8/dist-packages (from typer<0.8.0,>=0.3.0->spacy<3.5.0,>=3.4.0->ru-core-news-lg==3.4.0) (7.1.2)\n",
            "Requirement already satisfied: MarkupSafe>=0.23 in /usr/local/lib/python3.8/dist-packages (from jinja2->spacy<3.5.0,>=3.4.0->ru-core-news-lg==3.4.0) (2.0.1)\n",
            "Installing collected packages: ru-core-news-lg\n",
            "Successfully installed ru-core-news-lg-3.4.0\n",
            "\u001b[38;5;2m✔ Download and installation successful\u001b[0m\n",
            "You can now load the package via spacy.load('ru_core_news_lg')\n"
          ]
        }
      ]
    },
    {
      "cell_type": "markdown",
      "id": "527af5e1",
      "metadata": {
        "id": "527af5e1"
      },
      "source": [
        "# Data source"
      ]
    },
    {
      "cell_type": "code",
      "source": [
        "!gdown 1SXKfdEY0Z8L-zR3St4d2zB_vVeyUdBps"
      ],
      "metadata": {
        "id": "auzU5yFpQJ6p"
      },
      "id": "auzU5yFpQJ6p",
      "execution_count": null,
      "outputs": []
    },
    {
      "cell_type": "code",
      "execution_count": 10,
      "id": "5d4554ae",
      "metadata": {
        "id": "5d4554ae",
        "outputId": "723d1994-f1d6-436f-cf50-f20d804b7a7c",
        "colab": {
          "base_uri": "https://localhost:8080/",
          "height": 0
        }
      },
      "outputs": [
        {
          "output_type": "execute_result",
          "data": {
            "text/plain": [
              "   Unnamed: 0  id task_num                                          task_text  \\\n",
              "0           0   0    Task1        Закупить книги. Срок завершения: 19 апр 15.   \n",
              "1           1   1    Task1  Провести анализ поставщиков для замены вышедше...   \n",
              "2           2   1    Task2  Выполнить ремонт кабеля сети передачи данных м...   \n",
              "3           3   1    Task3  Создать и настроить виртуальную машину в соотв...   \n",
              "4           4   2    Task1  Провести рефакторинг программного обеспечения ...   \n",
              "\n",
              "                                  dept  \\\n",
              "0  Административно-хозяйственный отдел   \n",
              "1                            Служба ИТ   \n",
              "2                            Служба ИТ   \n",
              "3                            Служба ИТ   \n",
              "4              Отдел разработки систем   \n",
              "\n",
              "                                            position                     name  \n",
              "0   специалиста первой категории административно-...            Кравцову И.Е.  \n",
              "1            специалиста третьей категории Службы ИТ      Кима Юрия Ивановича  \n",
              "2                          системного администратора          Сергеева Андрея  \n",
              "3                     специалистом третьей категории   Кимом Юрием Ивановичем  \n",
              "4              Контроль над исполнением распоряжения        Абаимовым Симоном  "
            ],
            "text/html": [
              "\n",
              "  <div id=\"df-2d9c7a5a-cefc-4be5-a6bf-086408a04967\">\n",
              "    <div class=\"colab-df-container\">\n",
              "      <div>\n",
              "<style scoped>\n",
              "    .dataframe tbody tr th:only-of-type {\n",
              "        vertical-align: middle;\n",
              "    }\n",
              "\n",
              "    .dataframe tbody tr th {\n",
              "        vertical-align: top;\n",
              "    }\n",
              "\n",
              "    .dataframe thead th {\n",
              "        text-align: right;\n",
              "    }\n",
              "</style>\n",
              "<table border=\"1\" class=\"dataframe\">\n",
              "  <thead>\n",
              "    <tr style=\"text-align: right;\">\n",
              "      <th></th>\n",
              "      <th>Unnamed: 0</th>\n",
              "      <th>id</th>\n",
              "      <th>task_num</th>\n",
              "      <th>task_text</th>\n",
              "      <th>dept</th>\n",
              "      <th>position</th>\n",
              "      <th>name</th>\n",
              "    </tr>\n",
              "  </thead>\n",
              "  <tbody>\n",
              "    <tr>\n",
              "      <th>0</th>\n",
              "      <td>0</td>\n",
              "      <td>0</td>\n",
              "      <td>Task1</td>\n",
              "      <td>Закупить книги. Срок завершения: 19 апр 15.</td>\n",
              "      <td>Административно-хозяйственный отдел</td>\n",
              "      <td>специалиста первой категории административно-...</td>\n",
              "      <td>Кравцову И.Е.</td>\n",
              "    </tr>\n",
              "    <tr>\n",
              "      <th>1</th>\n",
              "      <td>1</td>\n",
              "      <td>1</td>\n",
              "      <td>Task1</td>\n",
              "      <td>Провести анализ поставщиков для замены вышедше...</td>\n",
              "      <td>Служба ИТ</td>\n",
              "      <td>специалиста третьей категории Службы ИТ</td>\n",
              "      <td>Кима Юрия Ивановича</td>\n",
              "    </tr>\n",
              "    <tr>\n",
              "      <th>2</th>\n",
              "      <td>2</td>\n",
              "      <td>1</td>\n",
              "      <td>Task2</td>\n",
              "      <td>Выполнить ремонт кабеля сети передачи данных м...</td>\n",
              "      <td>Служба ИТ</td>\n",
              "      <td>системного администратора</td>\n",
              "      <td>Сергеева Андрея</td>\n",
              "    </tr>\n",
              "    <tr>\n",
              "      <th>3</th>\n",
              "      <td>3</td>\n",
              "      <td>1</td>\n",
              "      <td>Task3</td>\n",
              "      <td>Создать и настроить виртуальную машину в соотв...</td>\n",
              "      <td>Служба ИТ</td>\n",
              "      <td>специалистом третьей категории</td>\n",
              "      <td>Кимом Юрием Ивановичем</td>\n",
              "    </tr>\n",
              "    <tr>\n",
              "      <th>4</th>\n",
              "      <td>4</td>\n",
              "      <td>2</td>\n",
              "      <td>Task1</td>\n",
              "      <td>Провести рефакторинг программного обеспечения ...</td>\n",
              "      <td>Отдел разработки систем</td>\n",
              "      <td>Контроль над исполнением распоряжения</td>\n",
              "      <td>Абаимовым Симоном</td>\n",
              "    </tr>\n",
              "  </tbody>\n",
              "</table>\n",
              "</div>\n",
              "      <button class=\"colab-df-convert\" onclick=\"convertToInteractive('df-2d9c7a5a-cefc-4be5-a6bf-086408a04967')\"\n",
              "              title=\"Convert this dataframe to an interactive table.\"\n",
              "              style=\"display:none;\">\n",
              "        \n",
              "  <svg xmlns=\"http://www.w3.org/2000/svg\" height=\"24px\"viewBox=\"0 0 24 24\"\n",
              "       width=\"24px\">\n",
              "    <path d=\"M0 0h24v24H0V0z\" fill=\"none\"/>\n",
              "    <path d=\"M18.56 5.44l.94 2.06.94-2.06 2.06-.94-2.06-.94-.94-2.06-.94 2.06-2.06.94zm-11 1L8.5 8.5l.94-2.06 2.06-.94-2.06-.94L8.5 2.5l-.94 2.06-2.06.94zm10 10l.94 2.06.94-2.06 2.06-.94-2.06-.94-.94-2.06-.94 2.06-2.06.94z\"/><path d=\"M17.41 7.96l-1.37-1.37c-.4-.4-.92-.59-1.43-.59-.52 0-1.04.2-1.43.59L10.3 9.45l-7.72 7.72c-.78.78-.78 2.05 0 2.83L4 21.41c.39.39.9.59 1.41.59.51 0 1.02-.2 1.41-.59l7.78-7.78 2.81-2.81c.8-.78.8-2.07 0-2.86zM5.41 20L4 18.59l7.72-7.72 1.47 1.35L5.41 20z\"/>\n",
              "  </svg>\n",
              "      </button>\n",
              "      \n",
              "  <style>\n",
              "    .colab-df-container {\n",
              "      display:flex;\n",
              "      flex-wrap:wrap;\n",
              "      gap: 12px;\n",
              "    }\n",
              "\n",
              "    .colab-df-convert {\n",
              "      background-color: #E8F0FE;\n",
              "      border: none;\n",
              "      border-radius: 50%;\n",
              "      cursor: pointer;\n",
              "      display: none;\n",
              "      fill: #1967D2;\n",
              "      height: 32px;\n",
              "      padding: 0 0 0 0;\n",
              "      width: 32px;\n",
              "    }\n",
              "\n",
              "    .colab-df-convert:hover {\n",
              "      background-color: #E2EBFA;\n",
              "      box-shadow: 0px 1px 2px rgba(60, 64, 67, 0.3), 0px 1px 3px 1px rgba(60, 64, 67, 0.15);\n",
              "      fill: #174EA6;\n",
              "    }\n",
              "\n",
              "    [theme=dark] .colab-df-convert {\n",
              "      background-color: #3B4455;\n",
              "      fill: #D2E3FC;\n",
              "    }\n",
              "\n",
              "    [theme=dark] .colab-df-convert:hover {\n",
              "      background-color: #434B5C;\n",
              "      box-shadow: 0px 1px 3px 1px rgba(0, 0, 0, 0.15);\n",
              "      filter: drop-shadow(0px 1px 2px rgba(0, 0, 0, 0.3));\n",
              "      fill: #FFFFFF;\n",
              "    }\n",
              "  </style>\n",
              "\n",
              "      <script>\n",
              "        const buttonEl =\n",
              "          document.querySelector('#df-2d9c7a5a-cefc-4be5-a6bf-086408a04967 button.colab-df-convert');\n",
              "        buttonEl.style.display =\n",
              "          google.colab.kernel.accessAllowed ? 'block' : 'none';\n",
              "\n",
              "        async function convertToInteractive(key) {\n",
              "          const element = document.querySelector('#df-2d9c7a5a-cefc-4be5-a6bf-086408a04967');\n",
              "          const dataTable =\n",
              "            await google.colab.kernel.invokeFunction('convertToInteractive',\n",
              "                                                     [key], {});\n",
              "          if (!dataTable) return;\n",
              "\n",
              "          const docLinkHtml = 'Like what you see? Visit the ' +\n",
              "            '<a target=\"_blank\" href=https://colab.research.google.com/notebooks/data_table.ipynb>data table notebook</a>'\n",
              "            + ' to learn more about interactive tables.';\n",
              "          element.innerHTML = '';\n",
              "          dataTable['output_type'] = 'display_data';\n",
              "          await google.colab.output.renderOutput(dataTable, element);\n",
              "          const docLink = document.createElement('div');\n",
              "          docLink.innerHTML = docLinkHtml;\n",
              "          element.appendChild(docLink);\n",
              "        }\n",
              "      </script>\n",
              "    </div>\n",
              "  </div>\n",
              "  "
            ]
          },
          "metadata": {},
          "execution_count": 10
        }
      ],
      "source": [
        "df = pd.read_csv('fin_dataset.csv')\n",
        "df = df.query('name != \"себя\"').reset_index().drop(columns='index')\n",
        "#df = df[['id', 'task_num',\n",
        "#       'task_text', 'dept', 'task_responsibles_people', 'task_deadline',\n",
        "#       'position', 'name', 'global_deadline', 'Tasks']]\n",
        "df.head()"
      ]
    },
    {
      "cell_type": "code",
      "execution_count": 11,
      "id": "w1rUtoadiM9w",
      "metadata": {
        "id": "w1rUtoadiM9w"
      },
      "outputs": [],
      "source": [
        "from nltk.stem.snowball import SnowballStemmer\n",
        "stemmer = SnowballStemmer(\"russian\") \n",
        "\n",
        "def Convert(string): \n",
        "    li = list(string.split(\" \")) \n",
        "    return li \n",
        "\n",
        "def stem(text):\n",
        "  my_words = Convert(text)\n",
        "  l = []\n",
        "  for word in my_words:\n",
        "    if word != \"специалист\":\n",
        "        l.append(stemmer.stem(word))\n",
        "  return \" \".join(l)"
      ]
    },
    {
      "cell_type": "code",
      "execution_count": 13,
      "id": "14__ts94ccH5",
      "metadata": {
        "id": "14__ts94ccH5"
      },
      "outputs": [],
      "source": [
        "df['position'] = df.apply(lambda x: stem(x['position']), axis=1)"
      ]
    },
    {
      "cell_type": "code",
      "execution_count": 14,
      "id": "AOSHLnhjiw11",
      "metadata": {
        "colab": {
          "base_uri": "https://localhost:8080/"
        },
        "id": "AOSHLnhjiw11",
        "outputId": "69f31dd0-00b4-42e2-bba5-772057e38c51"
      },
      "outputs": [
        {
          "output_type": "execute_result",
          "data": {
            "text/plain": [
              "0         специалист перв категор административно-хозяй...\n",
              "1                         специалист трет категор служб ит\n",
              "2                                    системн администратор\n",
              "3                                  специалист трет категор\n",
              "4                          контрол над исполнен распоряжен\n",
              "                               ...                        \n",
              "50448                              специалист перв категор\n",
              "50449                                администратор баз дан\n",
              "50450                              специалист втор категор\n",
              "50451                     руководител отдел разработк сист\n",
              "50452                                тимлид проектн команд\n",
              "Name: position, Length: 50453, dtype: object"
            ]
          },
          "metadata": {},
          "execution_count": 14
        }
      ],
      "source": [
        "df['position']"
      ]
    },
    {
      "cell_type": "markdown",
      "source": [
        "#spaCy (запускать не обязательно)"
      ],
      "metadata": {
        "id": "60uhlIW0cBWb"
      },
      "id": "60uhlIW0cBWb"
    },
    {
      "cell_type": "code",
      "source": [
        "# https://drive.google.com/file/d/1GIak7jmxhucwpr4VAJxEniinMwOmObPv/view?usp=sharing\n",
        "!gdown 1GIak7jmxhucwpr4VAJxEniinMwOmObPv"
      ],
      "metadata": {
        "id": "bnxVXfL_Z2O9",
        "outputId": "09d5dcd8-7a95-4fcf-ba9a-8cb2351ac2bf",
        "colab": {
          "base_uri": "https://localhost:8080/"
        }
      },
      "id": "bnxVXfL_Z2O9",
      "execution_count": null,
      "outputs": [
        {
          "output_type": "stream",
          "name": "stdout",
          "text": [
            "Downloading...\n",
            "From: https://drive.google.com/uc?id=1GIak7jmxhucwpr4VAJxEniinMwOmObPv\n",
            "To: /content/json.tar\n",
            "\r  0% 0.00/56.1M [00:00<?, ?B/s]\r 48% 26.7M/56.1M [00:00<00:00, 265MB/s]\r 95% 53.5M/56.1M [00:00<00:00, 256MB/s]\r100% 56.1M/56.1M [00:00<00:00, 259MB/s]\n"
          ]
        }
      ]
    },
    {
      "cell_type": "code",
      "source": [
        "!mkdir json_dataset\n",
        "!tar -xvf  '/content/json.tar' -C '/content/json_dataset'"
      ],
      "metadata": {
        "id": "esSNfbpKaC-r"
      },
      "id": "esSNfbpKaC-r",
      "execution_count": null,
      "outputs": []
    },
    {
      "cell_type": "code",
      "source": [
        "def parse_file(file_name, num):\n",
        "  df = pd.read_json(file_name).reset_index()\n",
        "\n",
        "  df['id'] = num\n",
        "\n",
        "  df = df.query('index not in (\"Global_deadline\", \"Global_supervisor\")')\n",
        "  df['task_text'] = df.apply(lambda x: x['Tasks']['task_text'], axis = 1)\n",
        "  df['task_responsibles_people'] = df.apply(lambda x: x['Tasks']['task_responsibles_people'], axis = 1)\n",
        "  df['task_responsibles_groups'] = df.apply(lambda x: x['Tasks']['task_responsibles_groups'], axis = 1)\n",
        "\n",
        "  df = df[['id', 'index', 'task_responsibles_groups', 'task_responsibles_people']]\n",
        "  return df.rename(columns={'index':'task_num', 'task_responsibles_groups':'dept'})"
      ],
      "metadata": {
        "id": "bgVPe3UTaGcQ"
      },
      "id": "bgVPe3UTaGcQ",
      "execution_count": null,
      "outputs": []
    },
    {
      "cell_type": "code",
      "source": [
        "df_emp = parse_file('/content/json_dataset/json/0.json', 0)\n",
        "\n",
        "for i in tqdm(range (1, 10000)):\n",
        "  file_name = f\"/content/json_dataset/json/{i}.json\"\n",
        "  df_one = parse_file(file_name, i)\n",
        "  df_emp = pd.concat([df_emp, df_one])\n",
        "\n",
        "df_emp['task_responsibles_people'] = df_emp['task_responsibles_people'].str.lower()\n",
        "df_emp = df_emp.reset_index().drop(columns=['index'])\n",
        "df_emp.head()"
      ],
      "metadata": {
        "id": "AZQCPECJaJQ2",
        "outputId": "0f5bb1c1-c379-4e0a-9d21-21e258a40233",
        "colab": {
          "base_uri": "https://localhost:8080/",
          "height": 221
        }
      },
      "id": "AZQCPECJaJQ2",
      "execution_count": null,
      "outputs": [
        {
          "output_type": "stream",
          "name": "stderr",
          "text": [
            "100%|██████████| 9999/9999 [02:52<00:00, 58.08it/s]\n"
          ]
        },
        {
          "output_type": "execute_result",
          "data": {
            "text/plain": [
              "   id task_num                                 dept  \\\n",
              "0   0    Task1  Административно-хозяйственный отдел   \n",
              "1   1    Task1                            Служба ИТ   \n",
              "2   1    Task2                            Служба ИТ   \n",
              "3   1    Task3                            Служба ИТ   \n",
              "4   2    Task1              Отдел разработки систем   \n",
              "\n",
              "                            task_responsibles_people  \n",
              "0  ответственность за исполнение распоряжения воз...  \n",
              "1  ответственность за исполнение распоряжения воз...  \n",
              "2  контроль над выполнением приказа возложить на ...  \n",
              "3  контроль над исполнением распоряжения оставить...  \n",
              "4  контроль над исполнением распоряжения оставить...  "
            ],
            "text/html": [
              "\n",
              "  <div id=\"df-43fe713b-718c-46cf-912c-0fd7bc10f10d\">\n",
              "    <div class=\"colab-df-container\">\n",
              "      <div>\n",
              "<style scoped>\n",
              "    .dataframe tbody tr th:only-of-type {\n",
              "        vertical-align: middle;\n",
              "    }\n",
              "\n",
              "    .dataframe tbody tr th {\n",
              "        vertical-align: top;\n",
              "    }\n",
              "\n",
              "    .dataframe thead th {\n",
              "        text-align: right;\n",
              "    }\n",
              "</style>\n",
              "<table border=\"1\" class=\"dataframe\">\n",
              "  <thead>\n",
              "    <tr style=\"text-align: right;\">\n",
              "      <th></th>\n",
              "      <th>id</th>\n",
              "      <th>task_num</th>\n",
              "      <th>dept</th>\n",
              "      <th>task_responsibles_people</th>\n",
              "    </tr>\n",
              "  </thead>\n",
              "  <tbody>\n",
              "    <tr>\n",
              "      <th>0</th>\n",
              "      <td>0</td>\n",
              "      <td>Task1</td>\n",
              "      <td>Административно-хозяйственный отдел</td>\n",
              "      <td>ответственность за исполнение распоряжения воз...</td>\n",
              "    </tr>\n",
              "    <tr>\n",
              "      <th>1</th>\n",
              "      <td>1</td>\n",
              "      <td>Task1</td>\n",
              "      <td>Служба ИТ</td>\n",
              "      <td>ответственность за исполнение распоряжения воз...</td>\n",
              "    </tr>\n",
              "    <tr>\n",
              "      <th>2</th>\n",
              "      <td>1</td>\n",
              "      <td>Task2</td>\n",
              "      <td>Служба ИТ</td>\n",
              "      <td>контроль над выполнением приказа возложить на ...</td>\n",
              "    </tr>\n",
              "    <tr>\n",
              "      <th>3</th>\n",
              "      <td>1</td>\n",
              "      <td>Task3</td>\n",
              "      <td>Служба ИТ</td>\n",
              "      <td>контроль над исполнением распоряжения оставить...</td>\n",
              "    </tr>\n",
              "    <tr>\n",
              "      <th>4</th>\n",
              "      <td>2</td>\n",
              "      <td>Task1</td>\n",
              "      <td>Отдел разработки систем</td>\n",
              "      <td>контроль над исполнением распоряжения оставить...</td>\n",
              "    </tr>\n",
              "  </tbody>\n",
              "</table>\n",
              "</div>\n",
              "      <button class=\"colab-df-convert\" onclick=\"convertToInteractive('df-43fe713b-718c-46cf-912c-0fd7bc10f10d')\"\n",
              "              title=\"Convert this dataframe to an interactive table.\"\n",
              "              style=\"display:none;\">\n",
              "        \n",
              "  <svg xmlns=\"http://www.w3.org/2000/svg\" height=\"24px\"viewBox=\"0 0 24 24\"\n",
              "       width=\"24px\">\n",
              "    <path d=\"M0 0h24v24H0V0z\" fill=\"none\"/>\n",
              "    <path d=\"M18.56 5.44l.94 2.06.94-2.06 2.06-.94-2.06-.94-.94-2.06-.94 2.06-2.06.94zm-11 1L8.5 8.5l.94-2.06 2.06-.94-2.06-.94L8.5 2.5l-.94 2.06-2.06.94zm10 10l.94 2.06.94-2.06 2.06-.94-2.06-.94-.94-2.06-.94 2.06-2.06.94z\"/><path d=\"M17.41 7.96l-1.37-1.37c-.4-.4-.92-.59-1.43-.59-.52 0-1.04.2-1.43.59L10.3 9.45l-7.72 7.72c-.78.78-.78 2.05 0 2.83L4 21.41c.39.39.9.59 1.41.59.51 0 1.02-.2 1.41-.59l7.78-7.78 2.81-2.81c.8-.78.8-2.07 0-2.86zM5.41 20L4 18.59l7.72-7.72 1.47 1.35L5.41 20z\"/>\n",
              "  </svg>\n",
              "      </button>\n",
              "      \n",
              "  <style>\n",
              "    .colab-df-container {\n",
              "      display:flex;\n",
              "      flex-wrap:wrap;\n",
              "      gap: 12px;\n",
              "    }\n",
              "\n",
              "    .colab-df-convert {\n",
              "      background-color: #E8F0FE;\n",
              "      border: none;\n",
              "      border-radius: 50%;\n",
              "      cursor: pointer;\n",
              "      display: none;\n",
              "      fill: #1967D2;\n",
              "      height: 32px;\n",
              "      padding: 0 0 0 0;\n",
              "      width: 32px;\n",
              "    }\n",
              "\n",
              "    .colab-df-convert:hover {\n",
              "      background-color: #E2EBFA;\n",
              "      box-shadow: 0px 1px 2px rgba(60, 64, 67, 0.3), 0px 1px 3px 1px rgba(60, 64, 67, 0.15);\n",
              "      fill: #174EA6;\n",
              "    }\n",
              "\n",
              "    [theme=dark] .colab-df-convert {\n",
              "      background-color: #3B4455;\n",
              "      fill: #D2E3FC;\n",
              "    }\n",
              "\n",
              "    [theme=dark] .colab-df-convert:hover {\n",
              "      background-color: #434B5C;\n",
              "      box-shadow: 0px 1px 3px 1px rgba(0, 0, 0, 0.15);\n",
              "      filter: drop-shadow(0px 1px 2px rgba(0, 0, 0, 0.3));\n",
              "      fill: #FFFFFF;\n",
              "    }\n",
              "  </style>\n",
              "\n",
              "      <script>\n",
              "        const buttonEl =\n",
              "          document.querySelector('#df-43fe713b-718c-46cf-912c-0fd7bc10f10d button.colab-df-convert');\n",
              "        buttonEl.style.display =\n",
              "          google.colab.kernel.accessAllowed ? 'block' : 'none';\n",
              "\n",
              "        async function convertToInteractive(key) {\n",
              "          const element = document.querySelector('#df-43fe713b-718c-46cf-912c-0fd7bc10f10d');\n",
              "          const dataTable =\n",
              "            await google.colab.kernel.invokeFunction('convertToInteractive',\n",
              "                                                     [key], {});\n",
              "          if (!dataTable) return;\n",
              "\n",
              "          const docLinkHtml = 'Like what you see? Visit the ' +\n",
              "            '<a target=\"_blank\" href=https://colab.research.google.com/notebooks/data_table.ipynb>data table notebook</a>'\n",
              "            + ' to learn more about interactive tables.';\n",
              "          element.innerHTML = '';\n",
              "          dataTable['output_type'] = 'display_data';\n",
              "          await google.colab.output.renderOutput(dataTable, element);\n",
              "          const docLink = document.createElement('div');\n",
              "          docLink.innerHTML = docLinkHtml;\n",
              "          element.appendChild(docLink);\n",
              "        }\n",
              "      </script>\n",
              "    </div>\n",
              "  </div>\n",
              "  "
            ]
          },
          "metadata": {},
          "execution_count": 11
        }
      ]
    },
    {
      "cell_type": "code",
      "source": [
        "df_emp_n = df_emp.head(100)"
      ],
      "metadata": {
        "id": "IWwcDBLEcKv9"
      },
      "id": "IWwcDBLEcKv9",
      "execution_count": null,
      "outputs": []
    },
    {
      "cell_type": "code",
      "source": [
        "nlp = spacy.load(\"ru_core_news_lg\")"
      ],
      "metadata": {
        "id": "-TZt7RKkdugG"
      },
      "id": "-TZt7RKkdugG",
      "execution_count": null,
      "outputs": []
    },
    {
      "cell_type": "code",
      "source": [
        "df_emp_n['name'] =  df_emp_n.apply(lambda x : ' '.join([ent.text for ent in nlp(x.task_responsibles_people).ents]), axis = 1)\n",
        "df_emp_n.head()"
      ],
      "metadata": {
        "id": "MZ3dHtIeae5B",
        "outputId": "39211b3c-0fe5-463f-ffec-1e77b8f95ea3",
        "colab": {
          "base_uri": "https://localhost:8080/",
          "height": 204
        }
      },
      "id": "MZ3dHtIeae5B",
      "execution_count": null,
      "outputs": [
        {
          "output_type": "execute_result",
          "data": {
            "text/plain": [
              "   id task_num                                 dept  \\\n",
              "0   0    Task1  Административно-хозяйственный отдел   \n",
              "1   1    Task1                            Служба ИТ   \n",
              "2   1    Task2                            Служба ИТ   \n",
              "3   1    Task3                            Служба ИТ   \n",
              "4   2    Task1              Отдел разработки систем   \n",
              "\n",
              "                            task_responsibles_people               name  \n",
              "0  ответственность за исполнение распоряжения воз...      кравцову и.е.  \n",
              "1  ответственность за исполнение распоряжения воз...                 ит  \n",
              "2  контроль над выполнением приказа возложить на ...    сергеева андрея  \n",
              "3  контроль над исполнением распоряжения оставить...                 ит  \n",
              "4  контроль над исполнением распоряжения оставить...  абаимовым симоном  "
            ],
            "text/html": [
              "\n",
              "  <div id=\"df-6c838177-2d53-4058-adc5-6475f44ede25\">\n",
              "    <div class=\"colab-df-container\">\n",
              "      <div>\n",
              "<style scoped>\n",
              "    .dataframe tbody tr th:only-of-type {\n",
              "        vertical-align: middle;\n",
              "    }\n",
              "\n",
              "    .dataframe tbody tr th {\n",
              "        vertical-align: top;\n",
              "    }\n",
              "\n",
              "    .dataframe thead th {\n",
              "        text-align: right;\n",
              "    }\n",
              "</style>\n",
              "<table border=\"1\" class=\"dataframe\">\n",
              "  <thead>\n",
              "    <tr style=\"text-align: right;\">\n",
              "      <th></th>\n",
              "      <th>id</th>\n",
              "      <th>task_num</th>\n",
              "      <th>dept</th>\n",
              "      <th>task_responsibles_people</th>\n",
              "      <th>name</th>\n",
              "    </tr>\n",
              "  </thead>\n",
              "  <tbody>\n",
              "    <tr>\n",
              "      <th>0</th>\n",
              "      <td>0</td>\n",
              "      <td>Task1</td>\n",
              "      <td>Административно-хозяйственный отдел</td>\n",
              "      <td>ответственность за исполнение распоряжения воз...</td>\n",
              "      <td>кравцову и.е.</td>\n",
              "    </tr>\n",
              "    <tr>\n",
              "      <th>1</th>\n",
              "      <td>1</td>\n",
              "      <td>Task1</td>\n",
              "      <td>Служба ИТ</td>\n",
              "      <td>ответственность за исполнение распоряжения воз...</td>\n",
              "      <td>ит</td>\n",
              "    </tr>\n",
              "    <tr>\n",
              "      <th>2</th>\n",
              "      <td>1</td>\n",
              "      <td>Task2</td>\n",
              "      <td>Служба ИТ</td>\n",
              "      <td>контроль над выполнением приказа возложить на ...</td>\n",
              "      <td>сергеева андрея</td>\n",
              "    </tr>\n",
              "    <tr>\n",
              "      <th>3</th>\n",
              "      <td>1</td>\n",
              "      <td>Task3</td>\n",
              "      <td>Служба ИТ</td>\n",
              "      <td>контроль над исполнением распоряжения оставить...</td>\n",
              "      <td>ит</td>\n",
              "    </tr>\n",
              "    <tr>\n",
              "      <th>4</th>\n",
              "      <td>2</td>\n",
              "      <td>Task1</td>\n",
              "      <td>Отдел разработки систем</td>\n",
              "      <td>контроль над исполнением распоряжения оставить...</td>\n",
              "      <td>абаимовым симоном</td>\n",
              "    </tr>\n",
              "  </tbody>\n",
              "</table>\n",
              "</div>\n",
              "      <button class=\"colab-df-convert\" onclick=\"convertToInteractive('df-6c838177-2d53-4058-adc5-6475f44ede25')\"\n",
              "              title=\"Convert this dataframe to an interactive table.\"\n",
              "              style=\"display:none;\">\n",
              "        \n",
              "  <svg xmlns=\"http://www.w3.org/2000/svg\" height=\"24px\"viewBox=\"0 0 24 24\"\n",
              "       width=\"24px\">\n",
              "    <path d=\"M0 0h24v24H0V0z\" fill=\"none\"/>\n",
              "    <path d=\"M18.56 5.44l.94 2.06.94-2.06 2.06-.94-2.06-.94-.94-2.06-.94 2.06-2.06.94zm-11 1L8.5 8.5l.94-2.06 2.06-.94-2.06-.94L8.5 2.5l-.94 2.06-2.06.94zm10 10l.94 2.06.94-2.06 2.06-.94-2.06-.94-.94-2.06-.94 2.06-2.06.94z\"/><path d=\"M17.41 7.96l-1.37-1.37c-.4-.4-.92-.59-1.43-.59-.52 0-1.04.2-1.43.59L10.3 9.45l-7.72 7.72c-.78.78-.78 2.05 0 2.83L4 21.41c.39.39.9.59 1.41.59.51 0 1.02-.2 1.41-.59l7.78-7.78 2.81-2.81c.8-.78.8-2.07 0-2.86zM5.41 20L4 18.59l7.72-7.72 1.47 1.35L5.41 20z\"/>\n",
              "  </svg>\n",
              "      </button>\n",
              "      \n",
              "  <style>\n",
              "    .colab-df-container {\n",
              "      display:flex;\n",
              "      flex-wrap:wrap;\n",
              "      gap: 12px;\n",
              "    }\n",
              "\n",
              "    .colab-df-convert {\n",
              "      background-color: #E8F0FE;\n",
              "      border: none;\n",
              "      border-radius: 50%;\n",
              "      cursor: pointer;\n",
              "      display: none;\n",
              "      fill: #1967D2;\n",
              "      height: 32px;\n",
              "      padding: 0 0 0 0;\n",
              "      width: 32px;\n",
              "    }\n",
              "\n",
              "    .colab-df-convert:hover {\n",
              "      background-color: #E2EBFA;\n",
              "      box-shadow: 0px 1px 2px rgba(60, 64, 67, 0.3), 0px 1px 3px 1px rgba(60, 64, 67, 0.15);\n",
              "      fill: #174EA6;\n",
              "    }\n",
              "\n",
              "    [theme=dark] .colab-df-convert {\n",
              "      background-color: #3B4455;\n",
              "      fill: #D2E3FC;\n",
              "    }\n",
              "\n",
              "    [theme=dark] .colab-df-convert:hover {\n",
              "      background-color: #434B5C;\n",
              "      box-shadow: 0px 1px 3px 1px rgba(0, 0, 0, 0.15);\n",
              "      filter: drop-shadow(0px 1px 2px rgba(0, 0, 0, 0.3));\n",
              "      fill: #FFFFFF;\n",
              "    }\n",
              "  </style>\n",
              "\n",
              "      <script>\n",
              "        const buttonEl =\n",
              "          document.querySelector('#df-6c838177-2d53-4058-adc5-6475f44ede25 button.colab-df-convert');\n",
              "        buttonEl.style.display =\n",
              "          google.colab.kernel.accessAllowed ? 'block' : 'none';\n",
              "\n",
              "        async function convertToInteractive(key) {\n",
              "          const element = document.querySelector('#df-6c838177-2d53-4058-adc5-6475f44ede25');\n",
              "          const dataTable =\n",
              "            await google.colab.kernel.invokeFunction('convertToInteractive',\n",
              "                                                     [key], {});\n",
              "          if (!dataTable) return;\n",
              "\n",
              "          const docLinkHtml = 'Like what you see? Visit the ' +\n",
              "            '<a target=\"_blank\" href=https://colab.research.google.com/notebooks/data_table.ipynb>data table notebook</a>'\n",
              "            + ' to learn more about interactive tables.';\n",
              "          element.innerHTML = '';\n",
              "          dataTable['output_type'] = 'display_data';\n",
              "          await google.colab.output.renderOutput(dataTable, element);\n",
              "          const docLink = document.createElement('div');\n",
              "          docLink.innerHTML = docLinkHtml;\n",
              "          element.appendChild(docLink);\n",
              "        }\n",
              "      </script>\n",
              "    </div>\n",
              "  </div>\n",
              "  "
            ]
          },
          "metadata": {},
          "execution_count": 15
        }
      ]
    },
    {
      "cell_type": "markdown",
      "id": "85df8a29",
      "metadata": {
        "id": "85df8a29"
      },
      "source": [
        "# Data cleaning"
      ]
    },
    {
      "cell_type": "code",
      "execution_count": 15,
      "id": "62eeb8d4",
      "metadata": {
        "id": "62eeb8d4"
      },
      "outputs": [],
      "source": [
        "df.fillna(0, inplace = True)\n",
        "df.replace('None', 0, inplace = True)\n"
      ]
    },
    {
      "cell_type": "markdown",
      "id": "192be579",
      "metadata": {
        "id": "192be579"
      },
      "source": [
        "# EDA"
      ]
    },
    {
      "cell_type": "code",
      "execution_count": 16,
      "id": "5f2164aa",
      "metadata": {
        "colab": {
          "base_uri": "https://localhost:8080/"
        },
        "id": "5f2164aa",
        "outputId": "a625ecfb-f39d-49d0-a841-3315e17f6b8c"
      },
      "outputs": [
        {
          "output_type": "stream",
          "name": "stdout",
          "text": [
            "Number of docs: 9999\n",
            "Number of depts in the company: 8\n",
            "Number of employees in the company: 95\n",
            "Number of positions in the company total: 62\n"
          ]
        }
      ],
      "source": [
        "# some basic stats\n",
        "\n",
        "documents = df['id'].unique()\n",
        "departments = df['dept'].unique()\n",
        "employees = df['name'].unique()\n",
        "positions = df['position'].unique()\n",
        "\n",
        "\n",
        "print('Number of docs:', len(documents))\n",
        "print('Number of depts in the company:', len(departments) )\n",
        "print('Number of employees in the company:', len(employees))\n",
        "print('Number of positions in the company total:', len(positions))"
      ]
    },
    {
      "cell_type": "markdown",
      "id": "5f3d4912",
      "metadata": {
        "id": "5f3d4912"
      },
      "source": [
        "## Company departments"
      ]
    },
    {
      "cell_type": "code",
      "execution_count": 17,
      "id": "bb98f635",
      "metadata": {
        "id": "bb98f635",
        "outputId": "23599f6b-42f3-4e1d-d6ea-9f777913b3e1",
        "colab": {
          "base_uri": "https://localhost:8080/"
        }
      },
      "outputs": [
        {
          "output_type": "stream",
          "name": "stdout",
          "text": [
            "['Административно-хозяйственный отдел' 'Служба ИТ'\n",
            " 'Отдел разработки систем' 'Бухгалтерия' 'Отдел проектирования'\n",
            " 'Отдел архитектуры' 'Отдел эксплуатации' 'Отдел тестирования']\n"
          ]
        }
      ],
      "source": [
        "print(departments)"
      ]
    },
    {
      "cell_type": "markdown",
      "id": "061ab42f",
      "metadata": {
        "id": "061ab42f"
      },
      "source": [
        "## Employees"
      ]
    },
    {
      "cell_type": "code",
      "execution_count": 18,
      "id": "c2122e01",
      "metadata": {
        "id": "c2122e01",
        "outputId": "c68e8520-5cec-4bff-d182-80ce2b0889e7",
        "colab": {
          "base_uri": "https://localhost:8080/"
        }
      },
      "outputs": [
        {
          "output_type": "stream",
          "name": "stdout",
          "text": [
            "[' Кравцову И.Е.' ' Кима Юрия Ивановича' ' Сергеева Андрея'\n",
            " ' Кимом Юрием Ивановичем' ' Абаимовым Симоном' ' Абаимова Симона'\n",
            " ' Абашкина Ореста' ' Абалкина Зураба' ' Андреевым С.Е.' ' Андреева С.Е.'\n",
            " ' собой' ' Александрова А.С.' ' Смирнову О.А.' ' Шихова'\n",
            " ' Семеновым И.А.' ' Семенова И.А.' ' Шихова Р.П.' ' Семенову М.С.'\n",
            " ' Попова А.А.' ' Абакулова Петра' ' Абалакова Севастьяна' ' Попова И.И.'\n",
            " ' Шиховым Р.П.' ' Коптелова Е.В' ' С.С.Галкина'\n",
            " ' Сергееву Алену Ивановну' ' Слесарева А.В' ' Абатуровым Борисом'\n",
            " ' Миронова К.А.' ' Абатурова Бориса' ' Симонова Н.С.'\n",
            " ' Абаковым Алексеем' ' Никишина С.Е.' ' Абашичева Алексея'\n",
            " ' Поспелову Н.А.' ' Миронову Т.П.' ' Миронову' ' Мироновой' ' Семенову'\n",
            " ' Никишиным С.Е.' ' Поповым И.И.' ' Кравцовой' ' Семеновой'\n",
            " ' Ведерникова И.С.' ' Жукова А.В' ' Точнова' ' Ивановым А.А.'\n",
            " ' Жуковым А.В' ' Иванова А.А.' ' Р.Е.Артюхина'\n",
            " ' Александрова Александра Ивановича' ' Абалаковым Севастьяном'\n",
            " ' Абалдуева Олега' ' Петрова В.М.' ' Никитину Ирину Петровну'\n",
            " ' Андреева К.С.' ' Абакуловым Петром' ' Абалакина Михаила'\n",
            " ' Р.Е.Артюхиным' ' Сергеевой Аленой Ивановной' ' Смирновой О.А.'\n",
            " ' Петрова' ' Поспеловой Н.А.' ' Абакумова Глеба' ' Абакова Алексея'\n",
            " ' Никитиной Ириной Петровной' ' Сергеевым Андреем' ' Поповым А.А.'\n",
            " ' Абалакиным Михаилом' ' Петровым В.М.' ' С.С.Галкиным'\n",
            " ' Александровым А.С.' ' Абалдуевым Олегом' ' Симоновым Н.С.' ' Львова'\n",
            " ' Абашичевым Алексеем' ' Абалкиным Зурабом' ' Анненкова' ' Спецова А.В'\n",
            " ' Львовым А.М.' ' Анненкова И.С.' ' Абакумовым Глебом'\n",
            " ' Ведерниковым И.С.' ' Коптеловым Е.В' ' Анненковым И.С.' ' Янина И.А.'\n",
            " ' Абашкиным Орестом' ' Львова А.М.' ' Точновым С.О.' ' Яниным И.А.'\n",
            " ' Спецовым А.В' ' Александровым Александром Ивановичем' ' Мироновым К.А.'\n",
            " ' Андреевым К.С.' ' Слесаревым А.В']\n"
          ]
        }
      ],
      "source": [
        "print(employees)"
      ]
    },
    {
      "cell_type": "code",
      "source": [
        "emp_dictionary = { emp : emp for emp in employees }\n",
        "emp_dictionary['янина и.а.'] = 'янин и.а.'\n",
        "emp_dictionary['ким юрий иванович'] = 'ким ю.и.'\n",
        "emp_dictionary['абаимов симона'] = 'абаимов с.'\n",
        "emp_dictionary['абаимов симон'] = 'абаимов с.'\n",
        "emp_dictionary['сергеев андрей'] = 'сергеев а.'\n",
        "emp_dictionary['абашкин орест'] = 'абашкин о.'\n",
        "emp_dictionary['абалкин зураб'] = 'абалкин з.'\n",
        "emp_dictionary['абатуров борис'] = 'абатуров б.'\n",
        "emp_dictionary['симоново н.с.'] = 'симонов н.с.'\n",
        "emp_dictionary['абаковый алексей'] = 'абаков а.'\n",
        "emp_dictionary['абашичев алексей'] = 'абашичев а.'\n",
        "emp_dictionary['с.с.галкин'] = 'галкин c.c.'\n",
        "emp_dictionary['сергеев ален иванович'] = 'сергеева а.и.'\n",
        "emp_dictionary['семёнов'] = 'семёнов и.а.'\n",
        "emp_dictionary['кравцов'] = 'кравцов и.е.'\n",
        "emp_dictionary['шихов'] = 'шихов р.п.'\n",
        "emp_dictionary['абакуловый пётр'] = 'абакулов п.'\n",
        "emp_dictionary['абалаково севастьян'] = 'абалаков с.'\n",
        "emp_dictionary['артюхин'] = 'артюхин р.е.'\n",
        "emp_dictionary['александров александр иванович'] = 'александров а.и.'\n",
        "emp_dictionary['абалаковый севастьян'] = 'абалаков с.'\n",
        "emp_dictionary['абалдуев олег'] = 'абалдуев о.'\n",
        "emp_dictionary['никитин ирина петрович'] = 'никитина и.п.'\n",
        "emp_dictionary['абалакин михаил'] = 'абалакин м.'\n",
        "emp_dictionary['сергеев алёна иванович'] = 'сергеева а.и.'\n",
        "emp_dictionary['петров'] = 'петров в.м.'\n",
        "emp_dictionary['львов'] = 'львов а.м.'\n",
        "emp_dictionary['абаков алексей'] = 'абаков а.'\n",
        "emp_dictionary['анненков'] = 'анненков и.с.'\n",
        "emp_dictionary['точновый'] = 'точнов с.о.'\n",
        "emp_dictionary['спецова а.в'] = 'спецов а.в'\n",
        "emp_dictionary['миронов'] = 'миронов т.п'\n",
        "emp_dictionary['семёнов'] = 'миронов и.а'\n",
        "emp_dictionary['коптеловый е.в'] = 'коптелов е.в'\n",
        "emp_dictionary['точновое с.о.'] = 'точнов с.о.'\n",
        "emp_dictionary['р.е.артюхин'] = 'артюхин р.е.'"
      ],
      "metadata": {
        "id": "pz2qpKM9bOOu"
      },
      "id": "pz2qpKM9bOOu",
      "execution_count": 19,
      "outputs": []
    },
    {
      "cell_type": "code",
      "source": [
        "df['name'] = df['name'].map(emp_dictionary)"
      ],
      "metadata": {
        "id": "NXZyIcPebPqe"
      },
      "id": "NXZyIcPebPqe",
      "execution_count": 20,
      "outputs": []
    },
    {
      "cell_type": "markdown",
      "id": "1f49a4cf",
      "metadata": {
        "id": "1f49a4cf"
      },
      "source": [
        "# Graph"
      ]
    },
    {
      "cell_type": "code",
      "execution_count": 21,
      "id": "be4a60d4",
      "metadata": {
        "colab": {
          "base_uri": "https://localhost:8080/",
          "height": 0
        },
        "id": "be4a60d4",
        "outputId": "9827a9b5-b5ec-42a1-ef27-8a7a3dc8f447"
      },
      "outputs": [
        {
          "output_type": "display_data",
          "data": {
            "text/plain": [
              "<Figure size 432x288 with 1 Axes>"
            ],
            "image/png": "[encoded data removed]"
          },
          "metadata": {}
        }
      ],
      "source": [
        "import networkx as nx\n",
        "import matplotlib.pyplot as plt\n",
        "\n",
        "DG = nx.DiGraph()\n",
        "\n",
        "comp_name = 'COMPANY'\n",
        "\n",
        "for i in list(departments):\n",
        "    DG.add_edge(comp_name, i)\n",
        "    \n",
        "\n",
        "nx.draw(DG)\n"
      ]
    },
    {
      "cell_type": "code",
      "source": [
        "!gdown 1PvIMSFrs7D7rdmObf-x5J90U4Y-sJeud\n",
        "# Download manually corrected .csv\n",
        "df = pd.read_csv('/content/normal_position.csv')\n",
        "df = df[['normal_name', 'normal_position', 'dept']].rename(columns={'normal_name':'name', 'normal_position':'position'})\n",
        "departments = df['dept'].unique()\n",
        "employees = df['name'].unique()\n",
        "positions = df['position'].unique()"
      ],
      "metadata": {
        "id": "eebH6msCN9N1",
        "outputId": "c2ad6ddc-a150-41b2-8013-917b5bb8906d",
        "colab": {
          "base_uri": "https://localhost:8080/"
        }
      },
      "id": "eebH6msCN9N1",
      "execution_count": 71,
      "outputs": [
        {
          "output_type": "stream",
          "name": "stdout",
          "text": [
            "Downloading...\n",
            "From: https://drive.google.com/uc?id=1PvIMSFrs7D7rdmObf-x5J90U4Y-sJeud\n",
            "To: /content/normal_position.csv\n",
            "\r  0% 0.00/26.5k [00:00<?, ?B/s]\r100% 26.5k/26.5k [00:00<00:00, 12.5MB/s]\n"
          ]
        }
      ]
    },
    {
      "cell_type": "markdown",
      "id": "dac8fe04",
      "metadata": {
        "id": "dac8fe04"
      },
      "source": [
        "## Multilevel graph"
      ]
    },
    {
      "cell_type": "code",
      "execution_count": 72,
      "id": "b5640b68",
      "metadata": {
        "colab": {
          "base_uri": "https://localhost:8080/",
          "height": 0
        },
        "id": "b5640b68",
        "outputId": "b5cbe06f-987c-4b8e-cfc5-5b7bb73c3487"
      },
      "outputs": [
        {
          "output_type": "stream",
          "name": "stderr",
          "text": [
            "100%|██████████| 120/120 [00:00<00:00, 544.77it/s]\n",
            "100%|██████████| 120/120 [00:00<00:00, 640.33it/s]\n",
            "100%|██████████| 120/120 [00:00<00:00, 546.47it/s]\n",
            "100%|██████████| 120/120 [00:00<00:00, 634.75it/s]\n",
            "100%|██████████| 120/120 [00:00<00:00, 554.17it/s]\n",
            "100%|██████████| 120/120 [00:00<00:00, 598.06it/s]\n",
            "100%|██████████| 120/120 [00:00<00:00, 608.28it/s]\n",
            "100%|██████████| 120/120 [00:00<00:00, 589.66it/s]\n"
          ]
        },
        {
          "output_type": "display_data",
          "data": {
            "text/plain": [
              "<Figure size 2160x2160 with 1 Axes>"
            ],
            "image/png": "[encoded data removed]"
          },
          "metadata": {}
        }
      ],
      "source": [
        "# create a graph object\n",
        "G = nx.Graph()\n",
        "\n",
        "comp_name = 'COMPANY'\n",
        "\n",
        "for z in list(departments):\n",
        "    G.add_edge(comp_name, z)\n",
        "    # iterate through the rows of the DataFrame\n",
        "    for i, row in tqdm(df.iterrows(), total=len(df)):\n",
        "        # add task_responsibles_groups node\n",
        "        dept = row[\"dept\"]\n",
        "        G.add_node(dept, size=df[\"dept\"].value_counts()[dept])\n",
        "        # add position node\n",
        "        position = row[\"position\"]\n",
        "        G.add_node(position, size=df[\"position\"].value_counts()[position])\n",
        "        # add name node\n",
        "        name = row[\"name\"]\n",
        "        G.add_node(name, size=df[\"name\"].value_counts()[name])\n",
        "        # add edges between task_responsibles_groups and position\n",
        "        G.add_edge(dept, position)\n",
        "        # add edges between position and name\n",
        "        G.add_edge(position, name)\n",
        "\n",
        "# draw the graph\n",
        "import matplotlib.pyplot as plt\n",
        "\n",
        "plt.figure(figsize=(30,30))\n",
        "pos = nx.spring_layout(G) # spring layout to calculate node positions\n",
        "\n",
        "# create a list of node sizes\n",
        "node_sizes = []\n",
        "for node in G.nodes():\n",
        "    node_sizes.append(G.degree(node)*50)\n",
        "\n",
        "# create a list of node colors\n",
        "node_colors = []\n",
        "for node in G.nodes():\n",
        "    if node in departments:\n",
        "        node_colors.append(\"orange\")\n",
        "    elif node in df[\"position\"].unique():\n",
        "        node_colors.append(\"green\")\n",
        "    elif node in df[\"name\"].unique():\n",
        "        node_colors.append(\"purple\")\n",
        "    else:\n",
        "        node_colors.append(\"red\")\n",
        "\n",
        "# create a list of edge colors\n",
        "edge_colors = []\n",
        "for edge in G.edges():\n",
        "    if edge[0] in departments:\n",
        "        edge_colors.append(\"orange\")\n",
        "    elif edge[0] in df[\"position\"].unique():\n",
        "        edge_colors.append(\"green\")\n",
        "    elif edge[0] in df[\"name\"].unique():\n",
        "        edge_colors.append(\"purple\")\n",
        "    else:\n",
        "        edge_colors.append(\"red\")\n",
        "\n",
        "nx.draw(G, pos, with_labels=True, node_color=node_colors, node_size=node_sizes, edge_color=edge_colors)\n"
      ]
    },
    {
      "cell_type": "markdown",
      "source": [
        "# Document checker"
      ],
      "metadata": {
        "id": "SlUo_GtNHTH7"
      },
      "id": "SlUo_GtNHTH7"
    },
    {
      "cell_type": "code",
      "source": [
        "from google.colab import files\n",
        "\n",
        "uploaded = files.upload()"
      ],
      "metadata": {
        "id": "R_HiY8VEiMr5",
        "colab": {
          "base_uri": "https://localhost:8080/",
          "height": 246
        },
        "outputId": "1bf968c4-34e2-48e5-de5a-f1008bde2c79"
      },
      "id": "R_HiY8VEiMr5",
      "execution_count": 23,
      "outputs": [
        {
          "output_type": "display_data",
          "data": {
            "text/plain": [
              "<IPython.core.display.HTML object>"
            ],
            "text/html": [
              "\n",
              "     <input type=\"file\" id=\"files-90cac5e5-d827-494e-87b6-3ba6ecb148a1\" name=\"files[]\" multiple disabled\n",
              "        style=\"border:none\" />\n",
              "     <output id=\"result-90cac5e5-d827-494e-87b6-3ba6ecb148a1\">\n",
              "      Upload widget is only available when the cell has been executed in the\n",
              "      current browser session. Please rerun this cell to enable.\n",
              "      </output>\n",
              "      <script>// Copyright 2017 Google LLC\n",
              "//\n",
              "// Licensed under the Apache License, Version 2.0 (the \"License\");\n",
              "// you may not use this file except in compliance with the License.\n",
              "// You may obtain a copy of the License at\n",
              "//\n",
              "//      http://www.apache.org/licenses/LICENSE-2.0\n",
              "//\n",
              "// Unless required by applicable law or agreed to in writing, software\n",
              "// distributed under the License is distributed on an \"AS IS\" BASIS,\n",
              "// WITHOUT WARRANTIES OR CONDITIONS OF ANY KIND, either express or implied.\n",
              "// See the License for the specific language governing permissions and\n",
              "// limitations under the License.\n",
              "\n",
              "/**\n",
              " * @fileoverview Helpers for google.colab Python module.\n",
              " */\n",
              "(function(scope) {\n",
              "function span(text, styleAttributes = {}) {\n",
              "  const element = document.createElement('span');\n",
              "  element.textContent = text;\n",
              "  for (const key of Object.keys(styleAttributes)) {\n",
              "    element.style[key] = styleAttributes[key];\n",
              "  }\n",
              "  return element;\n",
              "}\n",
              "\n",
              "// Max number of bytes which will be uploaded at a time.\n",
              "const MAX_PAYLOAD_SIZE = 100 * 1024;\n",
              "\n",
              "function _uploadFiles(inputId, outputId) {\n",
              "  const steps = uploadFilesStep(inputId, outputId);\n",
              "  const outputElement = document.getElementById(outputId);\n",
              "  // Cache steps on the outputElement to make it available for the next call\n",
              "  // to uploadFilesContinue from Python.\n",
              "  outputElement.steps = steps;\n",
              "\n",
              "  return _uploadFilesContinue(outputId);\n",
              "}\n",
              "\n",
              "// This is roughly an async generator (not supported in the browser yet),\n",
              "// where there are multiple asynchronous steps and the Python side is going\n",
              "// to poll for completion of each step.\n",
              "// This uses a Promise to block the python side on completion of each step,\n",
              "// then passes the result of the previous step as the input to the next step.\n",
              "function _uploadFilesContinue(outputId) {\n",
              "  const outputElement = document.getElementById(outputId);\n",
              "  const steps = outputElement.steps;\n",
              "\n",
              "  const next = steps.next(outputElement.lastPromiseValue);\n",
              "  return Promise.resolve(next.value.promise).then((value) => {\n",
              "    // Cache the last promise value to make it available to the next\n",
              "    // step of the generator.\n",
              "    outputElement.lastPromiseValue = value;\n",
              "    return next.value.response;\n",
              "  });\n",
              "}\n",
              "\n",
              "/**\n",
              " * Generator function which is called between each async step of the upload\n",
              " * process.\n",
              " * @param {string} inputId Element ID of the input file picker element.\n",
              " * @param {string} outputId Element ID of the output display.\n",
              " * @return {!Iterable<!Object>} Iterable of next steps.\n",
              " */\n",
              "function* uploadFilesStep(inputId, outputId) {\n",
              "  const inputElement = document.getElementById(inputId);\n",
              "  inputElement.disabled = false;\n",
              "\n",
              "  const outputElement = document.getElementById(outputId);\n",
              "  outputElement.innerHTML = '';\n",
              "\n",
              "  const pickedPromise = new Promise((resolve) => {\n",
              "    inputElement.addEventListener('change', (e) => {\n",
              "      resolve(e.target.files);\n",
              "    });\n",
              "  });\n",
              "\n",
              "  const cancel = document.createElement('button');\n",
              "  inputElement.parentElement.appendChild(cancel);\n",
              "  cancel.textContent = 'Cancel upload';\n",
              "  const cancelPromise = new Promise((resolve) => {\n",
              "    cancel.onclick = () => {\n",
              "      resolve(null);\n",
              "    };\n",
              "  });\n",
              "\n",
              "  // Wait for the user to pick the files.\n",
              "  const files = yield {\n",
              "    promise: Promise.race([pickedPromise, cancelPromise]),\n",
              "    response: {\n",
              "      action: 'starting',\n",
              "    }\n",
              "  };\n",
              "\n",
              "  cancel.remove();\n",
              "\n",
              "  // Disable the input element since further picks are not allowed.\n",
              "  inputElement.disabled = true;\n",
              "\n",
              "  if (!files) {\n",
              "    return {\n",
              "      response: {\n",
              "        action: 'complete',\n",
              "      }\n",
              "    };\n",
              "  }\n",
              "\n",
              "  for (const file of files) {\n",
              "    const li = document.createElement('li');\n",
              "    li.append(span(file.name, {fontWeight: 'bold'}));\n",
              "    li.append(span(\n",
              "        `(${file.type || 'n/a'}) - ${file.size} bytes, ` +\n",
              "        `last modified: ${\n",
              "            file.lastModifiedDate ? file.lastModifiedDate.toLocaleDateString() :\n",
              "                                    'n/a'} - `));\n",
              "    const percent = span('0% done');\n",
              "    li.appendChild(percent);\n",
              "\n",
              "    outputElement.appendChild(li);\n",
              "\n",
              "    const fileDataPromise = new Promise((resolve) => {\n",
              "      const reader = new FileReader();\n",
              "      reader.onload = (e) => {\n",
              "        resolve(e.target.result);\n",
              "      };\n",
              "      reader.readAsArrayBuffer(file);\n",
              "    });\n",
              "    // Wait for the data to be ready.\n",
              "    let fileData = yield {\n",
              "      promise: fileDataPromise,\n",
              "      response: {\n",
              "        action: 'continue',\n",
              "      }\n",
              "    };\n",
              "\n",
              "    // Use a chunked sending to avoid message size limits. See b/62115660.\n",
              "    let position = 0;\n",
              "    do {\n",
              "      const length = Math.min(fileData.byteLength - position, MAX_PAYLOAD_SIZE);\n",
              "      const chunk = new Uint8Array(fileData, position, length);\n",
              "      position += length;\n",
              "\n",
              "      const base64 = btoa(String.fromCharCode.apply(null, chunk));\n",
              "      yield {\n",
              "        response: {\n",
              "          action: 'append',\n",
              "          file: file.name,\n",
              "          data: base64,\n",
              "        },\n",
              "      };\n",
              "\n",
              "      let percentDone = fileData.byteLength === 0 ?\n",
              "          100 :\n",
              "          Math.round((position / fileData.byteLength) * 100);\n",
              "      percent.textContent = `${percentDone}% done`;\n",
              "\n",
              "    } while (position < fileData.byteLength);\n",
              "  }\n",
              "\n",
              "  // All done.\n",
              "  yield {\n",
              "    response: {\n",
              "      action: 'complete',\n",
              "    }\n",
              "  };\n",
              "}\n",
              "\n",
              "scope.google = scope.google || {};\n",
              "scope.google.colab = scope.google.colab || {};\n",
              "scope.google.colab._files = {\n",
              "  _uploadFiles,\n",
              "  _uploadFilesContinue,\n",
              "};\n",
              "})(self);\n",
              "</script> "
            ]
          },
          "metadata": {}
        },
        {
          "output_type": "stream",
          "name": "stdout",
          "text": [
            "Saving 9999.docx to 9999.docx\n",
            "Saving 9972.docx to 9972.docx\n",
            "Saving 9973.docx to 9973.docx\n",
            "Saving 9974.docx to 9974.docx\n",
            "Saving 9975.docx to 9975.docx\n",
            "Saving 9976.docx to 9976.docx\n"
          ]
        }
      ]
    },
    {
      "cell_type": "code",
      "source": [
        "!unzip /content/docx.zip"
      ],
      "metadata": {
        "id": "59laISUOHR_p"
      },
      "id": "59laISUOHR_p",
      "execution_count": null,
      "outputs": []
    },
    {
      "cell_type": "markdown",
      "id": "ptcA2CkYrhG5",
      "metadata": {
        "id": "ptcA2CkYrhG5"
      },
      "source": [
        "## Parsing text from docx files"
      ]
    },
    {
      "cell_type": "code",
      "execution_count": 89,
      "id": "Ztwq8wfMnRMU",
      "metadata": {
        "id": "Ztwq8wfMnRMU",
        "colab": {
          "base_uri": "https://localhost:8080/"
        },
        "outputId": "015b143b-7cf9-4c70-a724-4e76bbe0c5d4"
      },
      "outputs": [
        {
          "output_type": "stream",
          "name": "stdout",
          "text": [
            "\n",
            "ООО \"Мегасофт\"\n",
            "\n",
            "\n",
            "Приказ\n",
            "В связи с подготовкой производственных мероприятий, приказываю:\n",
            "i) Провести опытную эксплуатацию системы.\n",
            "Сроком окончания работ определить 12 августа 15.\n",
            "Обеспечение выполнения возложить на руководителя отдела эксплуатации Департамента внедрения и эксплуатации Точнова С.О.\n",
            "генеральный директор Созонов С.В.\n",
            "10 сентября 2015 года\n",
            "\n",
            "\n"
          ]
        }
      ],
      "source": [
        "from docx import Document\n",
        "import os\n",
        "import random\n",
        "\n",
        "def get_text(filename):\n",
        "    doc = Document(f'/content/{filename}')\n",
        "    fullText = []\n",
        "    for para in doc.paragraphs:\n",
        "        fullText.append(para.text)\n",
        "    return '\\n'.join(fullText)\n",
        "\n",
        "folder_path = '/content/'\n",
        "docx_files = [f for f in os.listdir(folder_path) if f.endswith('.docx')]\n",
        "random_file = random.choice(docx_files)\n",
        "\n",
        "text = get_text(random_file)\n",
        "if docx_files:\n",
        "    random_file = random.choice(docx_files)\n",
        "    text = get_text(random_file)\n",
        "    print(text)\n",
        "else:\n",
        "    print(\"No docx files found in the directory\")\n"
      ]
    },
    {
      "cell_type": "code",
      "source": [
        "def get_text(filename):\n",
        "    doc = Document(filename)\n",
        "    fullText = []\n",
        "    for para in doc.paragraphs:\n",
        "        fullText.append(para.text)\n",
        "    return '\\n'.join(fullText)\n",
        "\n",
        "directory = '/content/'\n",
        "\n",
        "# Create an empty dictionary to store the extracted text\n",
        "text_dict = {}\n",
        "\n",
        "# Loop through the files in the directory\n",
        "for filename in os.listdir(directory):\n",
        "    if filename.endswith('.docx'):\n",
        "        file_path = os.path.join(directory, filename)\n",
        "        text = get_text(file_path)\n",
        "        text_dict[filename] = text\n",
        "\n",
        "print(text_dict)"
      ],
      "metadata": {
        "id": "YvTsLSir4vXu",
        "outputId": "a6c54398-4d40-4f17-956c-dc7b140fa575",
        "colab": {
          "base_uri": "https://localhost:8080/"
        }
      },
      "id": "YvTsLSir4vXu",
      "execution_count": 90,
      "outputs": [
        {
          "output_type": "stream",
          "name": "stdout",
          "text": [
            "{'9973.docx': '\\nООО \"Мегасофт\"\\n\\n\\nПриказ\\nВ связи с окончанием проекта \"Внедрение системы знаний\" поручаю обеспечить выполнение задач:\\na)\\nПровести обучение сотрудников работе с системой.\\nСроком окончания работ определить 08 апреля 12.\\nКонтроль над выполнением настоящего распоряжения оставляю за собой\\n\\t○\\nОрганизовать поддержку интеграции системы со сторонним программным обеспечением.\\nСроком окончания работ определить 04 октября 2016 года.\\nОтветственным за исполнение настоящего приказа назначить руководителя отдела эксплуатации Департамента внедрения и эксплуатации Точнова С.О.\\nи.о. генерального директора Кравцов С.С.\\n17 октября 2018 года\\n\\n', '9972.docx': '\\nООО \"Мегасофт\"\\n\\n\\nПриказ\\nДля организации мероприятия \"День заказчика\" приказываю:\\n○\\nУстановить программное обеспечение MS Word на пользовательский компьютер.\\nСрок выполнения поручения: 24.02.15.\\nОбеспечение выполнения возложить на администратора вычислительной сети Абалдуева Олега\\nи.о. генерального директора Сердитый А.И.\\n07 марта 2016 года\\n\\n', '9999.docx': '\\nООО \"Мегасофт\"\\n\\n\\nПриказ\\nДля организации мероприятия \"День заказчика\" приказываю:\\n1) Установить дополнительные источники освещения в коридоре.\\nСроком окончания работ определить 18 янв 15.\\nОтветственность за исполнение распоряжения возложить на руководителя Административно-хозяйственного отдела С.С.Галкина\\n\\ti)\\nВыполнить ремонт замка дверей входной секции. Приступить к исполнению поручения до 04 ноя 15.\\nОбеспечение выполнения возложить на специалиста первой категории административно-хозяйственного отдела Кравцову И.Е.\\nгенеральный директор Созонов С.В.\\n12.07.14\\n\\n', '9974.docx': '\\nООО \"Мегасофт\"\\n\\n\\nПриказ\\nВ связи с подготовкой производственных мероприятий, приказываю:\\ni) Провести опытную эксплуатацию системы.\\nСроком окончания работ определить 12 августа 15.\\nОбеспечение выполнения возложить на руководителя отдела эксплуатации Департамента внедрения и эксплуатации Точнова С.О.\\nгенеральный директор Созонов С.В.\\n10 сентября 2015 года\\n\\n', '9976.docx': '\\nООО \"Мегасофт\"\\n\\n\\nПриказ\\nВ связи с подготовкой производственных мероприятий, приказываю:\\n1.\\nПровести анализ уязвимости используемых архитектурных решений и предложения по их устранению. Приступить к исполнению поручения до 18 ноя 22.\\nЗа контроль над исполнением распоряжения назначить ответственным архитектора программного обеспечения Абатурова Бориса\\n\\ti)\\nВыполнить стресс-тестирование и системы и предоставить отчет.\\nДата окончания: 13 декабря 2022 года.\\nОтветственным за исполнение настоящего приказа назначить руководителя отдела архитектуры Департамента разработки Андреева К.С.\\nи.о. генерального директора Сердитый А.И.\\n01.07.13\\n\\n', '9975.docx': '\\nООО \"Мегасофт\"\\n\\n\\nПриказ\\nДля организации мероприятия \"День заказчика\" приказываю:\\n1) Скорректировать функцию чтения конфигурационного файла, с учетом изменений в формате json.\\nСрок выполнения поручения: 20 авг 13.\\nЗа контроль и выполнение назначить ответственным специалиста третьей категории отдела разработки пользовательских интерфейсов Андреева С.Е.\\nи.о. генерального директора Сердитый А.И.\\n04.08.2013\\n\\n', '999111.docx': '\\nООО \"Мегасофт\"\\n\\n\\nПриказ\\nВ связи с окончанием проекта \"Внедрение системы знаний\" поручаю обеспечить выполнение задач:\\ni.\\nСкорректировать проектно-сметную документацию с учетом замечаний заказчика.\\nОпределить срок исполнения задачи вплоть до 04 мар 2012 г..\\nКонтроль над выполнением настоящего распоряжения оставляю за собой\\nii. Подготовить спецификацию необходимого аппаратного и программного обеспечения для проекта.\\nЗавершить выполнение к 19.04.2020.\\nОтветственность за исполнение распоряжения возложить на руководителя отдела проектирования Департамента разработки Шихова Р.П.\\niii. Организовать обучение сотрудников правилам проектирования систем.\\nСрок завершения: 16 дек 2020 г..\\nКонтроль над исполнением распоряжения оставить за руководитель отдела тестирования Львов А.М.\\n\\t○\\nСкорректировать проектно-сметную документацию с учетом замечаний заказчика. Завершить выполнение к 06.10.2017.\\nОбеспечение выполнения возложить на специалиста первой категории отдела проектирования Семенова И.А.\\niv.\\nВнести изменения в техническую документацию проекта. Установить срок выполнения задачи до 09 янв 2014 г..\\nОтветственность за исполнение распоряжения возложить на специалиста первой категории отдела проектирования Семенова И.А.\\nи.о. генерального директора Кравцов С.С.\\n10.02.18\\n\\n'}\n"
          ]
        }
      ]
    },
    {
      "cell_type": "code",
      "source": [
        "import random\n",
        "import spacy\n",
        "from spacy import displacy\n",
        "\n",
        "# Load the language model\n",
        "nlp = spacy.load(\"ru_core_news_lg\")\n",
        "\n",
        "# Select a random text from the dictionary\n",
        "random_text = random.choice(list(text_dict.values()))\n",
        "\n",
        "# Process the text and create a doc object\n",
        "doc = nlp(random_text)\n",
        "\n",
        "# Pass the doc object to displacy.render()\n",
        "displacy.render(doc, style='ent', jupyter=True)\n",
        "\n"
      ],
      "metadata": {
        "colab": {
          "base_uri": "https://localhost:8080/",
          "height": 297
        },
        "id": "ycS09LN91atR",
        "outputId": "baaa1c94-7206-4d9f-8377-6a6c800598c2"
      },
      "id": "ycS09LN91atR",
      "execution_count": 91,
      "outputs": [
        {
          "output_type": "display_data",
          "data": {
            "text/plain": [
              "<IPython.core.display.HTML object>"
            ],
            "text/html": [
              "<span class=\"tex2jax_ignore\"><div class=\"entities\" style=\"line-height: 2.5; direction: ltr\"></br>\n",
              "<mark class=\"entity\" style=\"background: #7aecec; padding: 0.45em 0.6em; margin: 0 0.25em; line-height: 1; border-radius: 0.35em;\">\n",
              "    ООО &quot;Мегасофт&quot;\n",
              "\n",
              "\n",
              "Приказ\n",
              "Для организации мероприятия &quot;День заказчика&quot;\n",
              "    <span style=\"font-size: 0.8em; font-weight: bold; line-height: 1; border-radius: 0.35em; vertical-align: middle; margin-left: 0.5rem\">ORG</span>\n",
              "</mark>\n",
              " приказываю:</br>1) Скорректировать функцию чтения конфигурационного файла, с учетом изменений в формате json.</br>Срок выполнения поручения: 20 авг 13.</br>За контроль и выполнение назначить ответственным специалиста третьей категории отдела разработки пользовательских интерфейсов \n",
              "<mark class=\"entity\" style=\"background: #ddd; padding: 0.45em 0.6em; margin: 0 0.25em; line-height: 1; border-radius: 0.35em;\">\n",
              "    Андреева С.Е.\n",
              "    <span style=\"font-size: 0.8em; font-weight: bold; line-height: 1; border-radius: 0.35em; vertical-align: middle; margin-left: 0.5rem\">PER</span>\n",
              "</mark>\n",
              "</br>и.о. генерального директора \n",
              "<mark class=\"entity\" style=\"background: #ff9561; padding: 0.45em 0.6em; margin: 0 0.25em; line-height: 1; border-radius: 0.35em;\">\n",
              "    Сердитый А.И.\n",
              "    <span style=\"font-size: 0.8em; font-weight: bold; line-height: 1; border-radius: 0.35em; vertical-align: middle; margin-left: 0.5rem\">LOC</span>\n",
              "</mark>\n",
              "</br>04.08.2013</br></br></div></span>"
            ]
          },
          "metadata": {}
        }
      ]
    },
    {
      "cell_type": "code",
      "source": [
        "def im_pad(text):\n",
        "  morph = pymorphy2.MorphAnalyzer()\n",
        "  words = text.split()\n",
        "  nominative_words = []\n",
        "  for word in words:\n",
        "    parsed_word = morph.parse(word)[0]\n",
        "    nominative_word = parsed_word.normal_form\n",
        "    nominative_words.append(nominative_word)\n",
        "  nominative_sentence = \" \".join(nominative_words)\n",
        "  return nominative_sentence"
      ],
      "metadata": {
        "id": "FJ6PnKH9oQsP"
      },
      "id": "FJ6PnKH9oQsP",
      "execution_count": 92,
      "outputs": []
    },
    {
      "cell_type": "code",
      "source": [
        "def name_to_initials(full_name):\n",
        "    if not full_name:\n",
        "        return \"\"\n",
        "    if '.' in full_name:\n",
        "        return full_name\n",
        "    name_parts = full_name.split()\n",
        "    lastname = name_parts[0]\n",
        "    initials = \"\".join([part[0] + \".\" for part in name_parts[1:]])\n",
        "    return lastname + \" \" + initials"
      ],
      "metadata": {
        "id": "RJd8gqyBqO5Z"
      },
      "id": "RJd8gqyBqO5Z",
      "execution_count": 93,
      "outputs": []
    },
    {
      "cell_type": "code",
      "source": [
        "df_docx = pd.DataFrame(columns=['Entity', 'Type', 'File_Name'])\n",
        "\n",
        "# Loop through the files in the dictionary\n",
        "for file_name, text in text_dict.items():\n",
        "    # Process the text and create a doc object\n",
        "    doc = nlp(text)\n",
        "    names = []\n",
        "    for ent in doc.ents:\n",
        "        if ent.label_ == \"PER\":\n",
        "            names.append(ent.text)\n",
        "    dict_emp = {}\n",
        "    for i in names:\n",
        "        dict_emp[name_to_initials(i.lower()).replace(\". \", \".\")] = im_pad(qa_pipeline(f\"Какая должность у {i}?\", text)['answer'])\n",
        "    for entity, type in dict_emp.items():\n",
        "        df_docx = df_docx.append({'Entity': entity, 'Type': type, 'File_Name': file_name}, ignore_index=True)\n",
        "\n",
        "# Get all unique file names\n",
        "file_names = list(set(df_docx['File_Name']))\n",
        "\n",
        "# Assign a random color to each file name\n",
        "color_map = {}\n",
        "\n",
        "for i in range(len(file_names)):\n",
        "    color = random.choice(['red', 'green', 'blue', 'purple', 'orange'])\n",
        "    if i > 0:\n",
        "        while color_map.get(file_names[i-1]) == color:\n",
        "            color = random.choice(['red', 'green', 'blue', 'purple', 'orange'])\n",
        "    color_map[file_names[i]] = color\n",
        "\n",
        "def highlight_file(dataframe):\n",
        "    df = pd.DataFrame('', index=dataframe.index, columns=dataframe.columns)\n",
        "    for file_name, color in color_map.items():\n",
        "        mask = dataframe['File_Name'] == file_name\n",
        "        df.loc[mask, :] = 'background-color: %s' % color\n",
        "    return df\n",
        "\n",
        "df_docx.style.apply(highlight_file, axis=None)\n"
      ],
      "metadata": {
        "id": "hzbYhTGs9_X_",
        "outputId": "383dabc6-8294-435c-b63d-c307611ade1c",
        "colab": {
          "base_uri": "https://localhost:8080/",
          "height": 488
        }
      },
      "id": "hzbYhTGs9_X_",
      "execution_count": 94,
      "outputs": [
        {
          "output_type": "execute_result",
          "data": {
            "text/plain": [
              "<pandas.io.formats.style.Styler at 0x7fd9b11263d0>"
            ],
            "text/html": [
              "<style type=\"text/css\">\n",
              "#T_8b2ec_row0_col0, #T_8b2ec_row0_col1, #T_8b2ec_row0_col2, #T_8b2ec_row1_col0, #T_8b2ec_row1_col1, #T_8b2ec_row1_col2, #T_8b2ec_row2_col0, #T_8b2ec_row2_col1, #T_8b2ec_row2_col2 {\n",
              "  background-color: blue;\n",
              "}\n",
              "#T_8b2ec_row3_col0, #T_8b2ec_row3_col1, #T_8b2ec_row3_col2, #T_8b2ec_row4_col0, #T_8b2ec_row4_col1, #T_8b2ec_row4_col2, #T_8b2ec_row5_col0, #T_8b2ec_row5_col1, #T_8b2ec_row5_col2 {\n",
              "  background-color: green;\n",
              "}\n",
              "#T_8b2ec_row6_col0, #T_8b2ec_row6_col1, #T_8b2ec_row6_col2, #T_8b2ec_row7_col0, #T_8b2ec_row7_col1, #T_8b2ec_row7_col2 {\n",
              "  background-color: red;\n",
              "}\n",
              "#T_8b2ec_row8_col0, #T_8b2ec_row8_col1, #T_8b2ec_row8_col2, #T_8b2ec_row10_col0, #T_8b2ec_row10_col1, #T_8b2ec_row10_col2, #T_8b2ec_row11_col0, #T_8b2ec_row11_col1, #T_8b2ec_row11_col2, #T_8b2ec_row12_col0, #T_8b2ec_row12_col1, #T_8b2ec_row12_col2, #T_8b2ec_row13_col0, #T_8b2ec_row13_col1, #T_8b2ec_row13_col2 {\n",
              "  background-color: purple;\n",
              "}\n",
              "#T_8b2ec_row9_col0, #T_8b2ec_row9_col1, #T_8b2ec_row9_col2 {\n",
              "  background-color: orange;\n",
              "}\n",
              "</style>\n",
              "<table id=\"T_8b2ec_\" class=\"dataframe\">\n",
              "  <thead>\n",
              "    <tr>\n",
              "      <th class=\"blank level0\" >&nbsp;</th>\n",
              "      <th class=\"col_heading level0 col0\" >Entity</th>\n",
              "      <th class=\"col_heading level0 col1\" >Type</th>\n",
              "      <th class=\"col_heading level0 col2\" >File_Name</th>\n",
              "    </tr>\n",
              "  </thead>\n",
              "  <tbody>\n",
              "    <tr>\n",
              "      <th id=\"T_8b2ec_level0_row0\" class=\"row_heading level0 row0\" >0</th>\n",
              "      <td id=\"T_8b2ec_row0_col0\" class=\"data row0 col0\" >точнова с.о.</td>\n",
              "      <td id=\"T_8b2ec_row0_col1\" class=\"data row0 col1\" >руководитель отдел эксплуатация</td>\n",
              "      <td id=\"T_8b2ec_row0_col2\" class=\"data row0 col2\" >9973.docx</td>\n",
              "    </tr>\n",
              "    <tr>\n",
              "      <th id=\"T_8b2ec_level0_row1\" class=\"row_heading level0 row1\" >1</th>\n",
              "      <td id=\"T_8b2ec_row1_col0\" class=\"data row1 col0\" >кравцов с.с.</td>\n",
              "      <td id=\"T_8b2ec_row1_col1\" class=\"data row1 col1\" >генеральный директор</td>\n",
              "      <td id=\"T_8b2ec_row1_col2\" class=\"data row1 col2\" >9973.docx</td>\n",
              "    </tr>\n",
              "    <tr>\n",
              "      <th id=\"T_8b2ec_level0_row2\" class=\"row_heading level0 row2\" >2</th>\n",
              "      <td id=\"T_8b2ec_row2_col0\" class=\"data row2 col0\" >абалдуева о.</td>\n",
              "      <td id=\"T_8b2ec_row2_col1\" class=\"data row2 col1\" >администратор вычислительный сеть</td>\n",
              "      <td id=\"T_8b2ec_row2_col2\" class=\"data row2 col2\" >9972.docx</td>\n",
              "    </tr>\n",
              "    <tr>\n",
              "      <th id=\"T_8b2ec_level0_row3\" class=\"row_heading level0 row3\" >3</th>\n",
              "      <td id=\"T_8b2ec_row3_col0\" class=\"data row3 col0\" >с.с.галкина</td>\n",
              "      <td id=\"T_8b2ec_row3_col1\" class=\"data row3 col1\" >руководитель административно-хозяйственный отдел</td>\n",
              "      <td id=\"T_8b2ec_row3_col2\" class=\"data row3 col2\" >9999.docx</td>\n",
              "    </tr>\n",
              "    <tr>\n",
              "      <th id=\"T_8b2ec_level0_row4\" class=\"row_heading level0 row4\" >4</th>\n",
              "      <td id=\"T_8b2ec_row4_col0\" class=\"data row4 col0\" >кравцову и.е.</td>\n",
              "      <td id=\"T_8b2ec_row4_col1\" class=\"data row4 col1\" >специалист первый категория административно-хозяйственный отдел</td>\n",
              "      <td id=\"T_8b2ec_row4_col2\" class=\"data row4 col2\" >9999.docx</td>\n",
              "    </tr>\n",
              "    <tr>\n",
              "      <th id=\"T_8b2ec_level0_row5\" class=\"row_heading level0 row5\" >5</th>\n",
              "      <td id=\"T_8b2ec_row5_col0\" class=\"data row5 col0\" >созонов с.в.</td>\n",
              "      <td id=\"T_8b2ec_row5_col1\" class=\"data row5 col1\" >генеральный директор</td>\n",
              "      <td id=\"T_8b2ec_row5_col2\" class=\"data row5 col2\" >9999.docx</td>\n",
              "    </tr>\n",
              "    <tr>\n",
              "      <th id=\"T_8b2ec_level0_row6\" class=\"row_heading level0 row6\" >6</th>\n",
              "      <td id=\"T_8b2ec_row6_col0\" class=\"data row6 col0\" >точнова с.о.</td>\n",
              "      <td id=\"T_8b2ec_row6_col1\" class=\"data row6 col1\" >руководитель отдел эксплуатация</td>\n",
              "      <td id=\"T_8b2ec_row6_col2\" class=\"data row6 col2\" >9974.docx</td>\n",
              "    </tr>\n",
              "    <tr>\n",
              "      <th id=\"T_8b2ec_level0_row7\" class=\"row_heading level0 row7\" >7</th>\n",
              "      <td id=\"T_8b2ec_row7_col0\" class=\"data row7 col0\" >созонов с.в.</td>\n",
              "      <td id=\"T_8b2ec_row7_col1\" class=\"data row7 col1\" >генеральный директор</td>\n",
              "      <td id=\"T_8b2ec_row7_col2\" class=\"data row7 col2\" >9974.docx</td>\n",
              "    </tr>\n",
              "    <tr>\n",
              "      <th id=\"T_8b2ec_level0_row8\" class=\"row_heading level0 row8\" >8</th>\n",
              "      <td id=\"T_8b2ec_row8_col0\" class=\"data row8 col0\" >абатурова б.i.</td>\n",
              "      <td id=\"T_8b2ec_row8_col1\" class=\"data row8 col1\" >архитектор программный обеспечение</td>\n",
              "      <td id=\"T_8b2ec_row8_col2\" class=\"data row8 col2\" >9976.docx</td>\n",
              "    </tr>\n",
              "    <tr>\n",
              "      <th id=\"T_8b2ec_level0_row9\" class=\"row_heading level0 row9\" >9</th>\n",
              "      <td id=\"T_8b2ec_row9_col0\" class=\"data row9 col0\" >андреева с.е.</td>\n",
              "      <td id=\"T_8b2ec_row9_col1\" class=\"data row9 col1\" >и.о. генеральный директор</td>\n",
              "      <td id=\"T_8b2ec_row9_col2\" class=\"data row9 col2\" >9975.docx</td>\n",
              "    </tr>\n",
              "    <tr>\n",
              "      <th id=\"T_8b2ec_level0_row10\" class=\"row_heading level0 row10\" >10</th>\n",
              "      <td id=\"T_8b2ec_row10_col0\" class=\"data row10 col0\" >львов а.м.</td>\n",
              "      <td id=\"T_8b2ec_row10_col1\" class=\"data row10 col1\" >руководитель отдел тестирование</td>\n",
              "      <td id=\"T_8b2ec_row10_col2\" class=\"data row10 col2\" >999111.docx</td>\n",
              "    </tr>\n",
              "    <tr>\n",
              "      <th id=\"T_8b2ec_level0_row11\" class=\"row_heading level0 row11\" >11</th>\n",
              "      <td id=\"T_8b2ec_row11_col0\" class=\"data row11 col0\" >семенова и.а.\n",
              "iv</td>\n",
              "      <td id=\"T_8b2ec_row11_col1\" class=\"data row11 col1\" >специалист первый категория отдел проектирование</td>\n",
              "      <td id=\"T_8b2ec_row11_col2\" class=\"data row11 col2\" >999111.docx</td>\n",
              "    </tr>\n",
              "    <tr>\n",
              "      <th id=\"T_8b2ec_level0_row12\" class=\"row_heading level0 row12\" >12</th>\n",
              "      <td id=\"T_8b2ec_row12_col0\" class=\"data row12 col0\" >семенова и.а.</td>\n",
              "      <td id=\"T_8b2ec_row12_col1\" class=\"data row12 col1\" >специалист первый категория отдел проектирование</td>\n",
              "      <td id=\"T_8b2ec_row12_col2\" class=\"data row12 col2\" >999111.docx</td>\n",
              "    </tr>\n",
              "    <tr>\n",
              "      <th id=\"T_8b2ec_level0_row13\" class=\"row_heading level0 row13\" >13</th>\n",
              "      <td id=\"T_8b2ec_row13_col0\" class=\"data row13 col0\" >кравцов с.с.</td>\n",
              "      <td id=\"T_8b2ec_row13_col1\" class=\"data row13 col1\" >и.о. генеральный директор</td>\n",
              "      <td id=\"T_8b2ec_row13_col2\" class=\"data row13 col2\" >999111.docx</td>\n",
              "    </tr>\n",
              "  </tbody>\n",
              "</table>\n"
            ]
          },
          "metadata": {},
          "execution_count": 94
        }
      ]
    },
    {
      "cell_type": "markdown",
      "source": [
        "### Check a given name and position on the graph"
      ],
      "metadata": {
        "id": "2Ky64WFFG7Nz"
      },
      "id": "2Ky64WFFG7Nz"
    },
    {
      "cell_type": "code",
      "source": [
        "# create a new column with default value \"Decline\"\n",
        "df_docx[\"Result\"] = \"Decline\"\n",
        "\n",
        "# function to check if the entity and type match the name and position nodes in the graph\n",
        "def match_check(row):\n",
        "    if row[\"Entity\"].lower() in [n.lower() for n in G.nodes() if \"name\" in n] and row[\"Type\"].lower() in [n.lower() for n in G.nodes() if \"position\" in n]:\n",
        "        return \"Accept\"\n",
        "    return \"Decline\"\n",
        "\n",
        "# apply the function to the DataFrame\n",
        "df_docx[\"Result\"] = df_docx.apply(match_check, axis=1)\n",
        "\n",
        "df_docx\n"
      ],
      "metadata": {
        "id": "yEfJ7Qh5R9TL"
      },
      "id": "yEfJ7Qh5R9TL",
      "execution_count": null,
      "outputs": []
    },
    {
      "cell_type": "code",
      "source": [
        "!pip install git+https://github.com/WojciechMula/pyahocorasick.git\n",
        "!pip install pyahocorasick"
      ],
      "metadata": {
        "id": "943xS-MjdJ1a",
        "outputId": "6c894926-6739-4b09-99a9-bdfecb0e8b02",
        "colab": {
          "base_uri": "https://localhost:8080/"
        }
      },
      "id": "943xS-MjdJ1a",
      "execution_count": 106,
      "outputs": [
        {
          "output_type": "stream",
          "name": "stdout",
          "text": [
            "Looking in indexes: https://pypi.org/simple, https://us-python.pkg.dev/colab-wheels/public/simple/\n",
            "Collecting git+https://github.com/WojciechMula/pyahocorasick.git\n",
            "  Cloning https://github.com/WojciechMula/pyahocorasick.git to /tmp/pip-req-build-e4ohhzas\n",
            "  Running command git clone --filter=blob:none --quiet https://github.com/WojciechMula/pyahocorasick.git /tmp/pip-req-build-e4ohhzas\n",
            "  Resolved https://github.com/WojciechMula/pyahocorasick.git to commit c98e999c7a5dcbcb8c16380a0ff96afb15065b17\n",
            "  Preparing metadata (setup.py) ... \u001b[?25l\u001b[?25hdone\n",
            "Looking in indexes: https://pypi.org/simple, https://us-python.pkg.dev/colab-wheels/public/simple/\n",
            "Requirement already satisfied: pyahocorasick in /usr/local/lib/python3.8/dist-packages (2.0.0)\n"
          ]
        }
      ]
    },
    {
      "cell_type": "code",
      "source": [
        "import ahocorasick\n",
        "\n",
        "# create an empty Automaton\n",
        "A = ahocorasick.Automaton()\n",
        "\n",
        "# insert the names of the nodes in the graph into the Automaton\n",
        "for node in G.nodes():\n",
        "    if \"name\" in node.lower() or \"position\" in node.lower():\n",
        "        A.add_word(node.lower(), node)\n",
        "\n",
        "# finalize the Automaton\n",
        "A.make_automaton()\n",
        "\n",
        "# create a new column with default value \"Decline\"\n",
        "df_docx[\"Result\"] = \"Decline\"\n",
        "\n",
        "# function to check if the entity and type match the name and position nodes in the graph\n",
        "def match_check(row):\n",
        "    for end_index, original_value in A.iter(row[\"Entity\"].lower()):\n",
        "        if end_index == len(row[\"Entity\"]) - 1:\n",
        "            return \"Accept\"\n",
        "    for end_index, original_value in A.iter(row[\"Type\"].lower()):\n",
        "        if end_index == len(row[\"Type\"]) - 1:\n",
        "            return \"Accept\"\n",
        "    return \"Decline\"\n",
        "\n",
        "# apply the function to the DataFrame\n",
        "df_docx[\"Result\"] = df_docx.apply(match_check, axis=1)\n"
      ],
      "metadata": {
        "id": "DOMZnHaRdIgu",
        "outputId": "3262fab8-1b49-4d5e-9e4e-3c574c057eb8",
        "colab": {
          "base_uri": "https://localhost:8080/",
          "height": 345
        }
      },
      "id": "DOMZnHaRdIgu",
      "execution_count": 107,
      "outputs": [
        {
          "output_type": "error",
          "ename": "AttributeError",
          "evalue": "ignored",
          "traceback": [
            "\u001b[0;31m---------------------------------------------------------------------------\u001b[0m",
            "\u001b[0;31mAttributeError\u001b[0m                            Traceback (most recent call last)",
            "\u001b[0;32m<ipython-input-107-123c0e9f2024>\u001b[0m in \u001b[0;36m<module>\u001b[0;34m\u001b[0m\n\u001b[1;32m     26\u001b[0m \u001b[0;34m\u001b[0m\u001b[0m\n\u001b[1;32m     27\u001b[0m \u001b[0;31m# apply the function to the DataFrame\u001b[0m\u001b[0;34m\u001b[0m\u001b[0;34m\u001b[0m\u001b[0;34m\u001b[0m\u001b[0m\n\u001b[0;32m---> 28\u001b[0;31m \u001b[0mdf_docx\u001b[0m\u001b[0;34m[\u001b[0m\u001b[0;34m\"Result\"\u001b[0m\u001b[0;34m]\u001b[0m \u001b[0;34m=\u001b[0m \u001b[0mdf_docx\u001b[0m\u001b[0;34m.\u001b[0m\u001b[0mapply\u001b[0m\u001b[0;34m(\u001b[0m\u001b[0mmatch_check\u001b[0m\u001b[0;34m,\u001b[0m \u001b[0maxis\u001b[0m\u001b[0;34m=\u001b[0m\u001b[0;36m1\u001b[0m\u001b[0;34m)\u001b[0m\u001b[0;34m\u001b[0m\u001b[0;34m\u001b[0m\u001b[0m\n\u001b[0m",
            "\u001b[0;32m/usr/local/lib/python3.8/dist-packages/pandas/core/frame.py\u001b[0m in \u001b[0;36mapply\u001b[0;34m(self, func, axis, raw, result_type, args, **kwargs)\u001b[0m\n\u001b[1;32m   8738\u001b[0m             \u001b[0mkwargs\u001b[0m\u001b[0;34m=\u001b[0m\u001b[0mkwargs\u001b[0m\u001b[0;34m,\u001b[0m\u001b[0;34m\u001b[0m\u001b[0;34m\u001b[0m\u001b[0m\n\u001b[1;32m   8739\u001b[0m         )\n\u001b[0;32m-> 8740\u001b[0;31m         \u001b[0;32mreturn\u001b[0m \u001b[0mop\u001b[0m\u001b[0;34m.\u001b[0m\u001b[0mapply\u001b[0m\u001b[0;34m(\u001b[0m\u001b[0;34m)\u001b[0m\u001b[0;34m\u001b[0m\u001b[0;34m\u001b[0m\u001b[0m\n\u001b[0m\u001b[1;32m   8741\u001b[0m \u001b[0;34m\u001b[0m\u001b[0m\n\u001b[1;32m   8742\u001b[0m     def applymap(\n",
            "\u001b[0;32m/usr/local/lib/python3.8/dist-packages/pandas/core/apply.py\u001b[0m in \u001b[0;36mapply\u001b[0;34m(self)\u001b[0m\n\u001b[1;32m    686\u001b[0m             \u001b[0;32mreturn\u001b[0m \u001b[0mself\u001b[0m\u001b[0;34m.\u001b[0m\u001b[0mapply_raw\u001b[0m\u001b[0;34m(\u001b[0m\u001b[0;34m)\u001b[0m\u001b[0;34m\u001b[0m\u001b[0;34m\u001b[0m\u001b[0m\n\u001b[1;32m    687\u001b[0m \u001b[0;34m\u001b[0m\u001b[0m\n\u001b[0;32m--> 688\u001b[0;31m         \u001b[0;32mreturn\u001b[0m \u001b[0mself\u001b[0m\u001b[0;34m.\u001b[0m\u001b[0mapply_standard\u001b[0m\u001b[0;34m(\u001b[0m\u001b[0;34m)\u001b[0m\u001b[0;34m\u001b[0m\u001b[0;34m\u001b[0m\u001b[0m\n\u001b[0m\u001b[1;32m    689\u001b[0m \u001b[0;34m\u001b[0m\u001b[0m\n\u001b[1;32m    690\u001b[0m     \u001b[0;32mdef\u001b[0m \u001b[0magg\u001b[0m\u001b[0;34m(\u001b[0m\u001b[0mself\u001b[0m\u001b[0;34m)\u001b[0m\u001b[0;34m:\u001b[0m\u001b[0;34m\u001b[0m\u001b[0;34m\u001b[0m\u001b[0m\n",
            "\u001b[0;32m/usr/local/lib/python3.8/dist-packages/pandas/core/apply.py\u001b[0m in \u001b[0;36mapply_standard\u001b[0;34m(self)\u001b[0m\n\u001b[1;32m    810\u001b[0m \u001b[0;34m\u001b[0m\u001b[0m\n\u001b[1;32m    811\u001b[0m     \u001b[0;32mdef\u001b[0m \u001b[0mapply_standard\u001b[0m\u001b[0;34m(\u001b[0m\u001b[0mself\u001b[0m\u001b[0;34m)\u001b[0m\u001b[0;34m:\u001b[0m\u001b[0;34m\u001b[0m\u001b[0;34m\u001b[0m\u001b[0m\n\u001b[0;32m--> 812\u001b[0;31m         \u001b[0mresults\u001b[0m\u001b[0;34m,\u001b[0m \u001b[0mres_index\u001b[0m \u001b[0;34m=\u001b[0m \u001b[0mself\u001b[0m\u001b[0;34m.\u001b[0m\u001b[0mapply_series_generator\u001b[0m\u001b[0;34m(\u001b[0m\u001b[0;34m)\u001b[0m\u001b[0;34m\u001b[0m\u001b[0;34m\u001b[0m\u001b[0m\n\u001b[0m\u001b[1;32m    813\u001b[0m \u001b[0;34m\u001b[0m\u001b[0m\n\u001b[1;32m    814\u001b[0m         \u001b[0;31m# wrap results\u001b[0m\u001b[0;34m\u001b[0m\u001b[0;34m\u001b[0m\u001b[0;34m\u001b[0m\u001b[0m\n",
            "\u001b[0;32m/usr/local/lib/python3.8/dist-packages/pandas/core/apply.py\u001b[0m in \u001b[0;36mapply_series_generator\u001b[0;34m(self)\u001b[0m\n\u001b[1;32m    826\u001b[0m             \u001b[0;32mfor\u001b[0m \u001b[0mi\u001b[0m\u001b[0;34m,\u001b[0m \u001b[0mv\u001b[0m \u001b[0;32min\u001b[0m \u001b[0menumerate\u001b[0m\u001b[0;34m(\u001b[0m\u001b[0mseries_gen\u001b[0m\u001b[0;34m)\u001b[0m\u001b[0;34m:\u001b[0m\u001b[0;34m\u001b[0m\u001b[0;34m\u001b[0m\u001b[0m\n\u001b[1;32m    827\u001b[0m                 \u001b[0;31m# ignore SettingWithCopy here in case the user mutates\u001b[0m\u001b[0;34m\u001b[0m\u001b[0;34m\u001b[0m\u001b[0;34m\u001b[0m\u001b[0m\n\u001b[0;32m--> 828\u001b[0;31m                 \u001b[0mresults\u001b[0m\u001b[0;34m[\u001b[0m\u001b[0mi\u001b[0m\u001b[0;34m]\u001b[0m \u001b[0;34m=\u001b[0m \u001b[0mself\u001b[0m\u001b[0;34m.\u001b[0m\u001b[0mf\u001b[0m\u001b[0;34m(\u001b[0m\u001b[0mv\u001b[0m\u001b[0;34m)\u001b[0m\u001b[0;34m\u001b[0m\u001b[0;34m\u001b[0m\u001b[0m\n\u001b[0m\u001b[1;32m    829\u001b[0m                 \u001b[0;32mif\u001b[0m \u001b[0misinstance\u001b[0m\u001b[0;34m(\u001b[0m\u001b[0mresults\u001b[0m\u001b[0;34m[\u001b[0m\u001b[0mi\u001b[0m\u001b[0;34m]\u001b[0m\u001b[0;34m,\u001b[0m \u001b[0mABCSeries\u001b[0m\u001b[0;34m)\u001b[0m\u001b[0;34m:\u001b[0m\u001b[0;34m\u001b[0m\u001b[0;34m\u001b[0m\u001b[0m\n\u001b[1;32m    830\u001b[0m                     \u001b[0;31m# If we have a view on v, we need to make a copy because\u001b[0m\u001b[0;34m\u001b[0m\u001b[0;34m\u001b[0m\u001b[0;34m\u001b[0m\u001b[0m\n",
            "\u001b[0;32m<ipython-input-107-123c0e9f2024>\u001b[0m in \u001b[0;36mmatch_check\u001b[0;34m(row)\u001b[0m\n\u001b[1;32m     17\u001b[0m \u001b[0;31m# function to check if the entity and type match the name and position nodes in the graph\u001b[0m\u001b[0;34m\u001b[0m\u001b[0;34m\u001b[0m\u001b[0;34m\u001b[0m\u001b[0m\n\u001b[1;32m     18\u001b[0m \u001b[0;32mdef\u001b[0m \u001b[0mmatch_check\u001b[0m\u001b[0;34m(\u001b[0m\u001b[0mrow\u001b[0m\u001b[0;34m)\u001b[0m\u001b[0;34m:\u001b[0m\u001b[0;34m\u001b[0m\u001b[0;34m\u001b[0m\u001b[0m\n\u001b[0;32m---> 19\u001b[0;31m     \u001b[0;32mfor\u001b[0m \u001b[0mend_index\u001b[0m\u001b[0;34m,\u001b[0m \u001b[0moriginal_value\u001b[0m \u001b[0;32min\u001b[0m \u001b[0mA\u001b[0m\u001b[0;34m.\u001b[0m\u001b[0miter\u001b[0m\u001b[0;34m(\u001b[0m\u001b[0mrow\u001b[0m\u001b[0;34m[\u001b[0m\u001b[0;34m\"Entity\"\u001b[0m\u001b[0;34m]\u001b[0m\u001b[0;34m.\u001b[0m\u001b[0mlower\u001b[0m\u001b[0;34m(\u001b[0m\u001b[0;34m)\u001b[0m\u001b[0;34m)\u001b[0m\u001b[0;34m:\u001b[0m\u001b[0;34m\u001b[0m\u001b[0;34m\u001b[0m\u001b[0m\n\u001b[0m\u001b[1;32m     20\u001b[0m         \u001b[0;32mif\u001b[0m \u001b[0mend_index\u001b[0m \u001b[0;34m==\u001b[0m \u001b[0mlen\u001b[0m\u001b[0;34m(\u001b[0m\u001b[0mrow\u001b[0m\u001b[0;34m[\u001b[0m\u001b[0;34m\"Entity\"\u001b[0m\u001b[0;34m]\u001b[0m\u001b[0;34m)\u001b[0m \u001b[0;34m-\u001b[0m \u001b[0;36m1\u001b[0m\u001b[0;34m:\u001b[0m\u001b[0;34m\u001b[0m\u001b[0;34m\u001b[0m\u001b[0m\n\u001b[1;32m     21\u001b[0m             \u001b[0;32mreturn\u001b[0m \u001b[0;34m\"Accept\"\u001b[0m\u001b[0;34m\u001b[0m\u001b[0;34m\u001b[0m\u001b[0m\n",
            "\u001b[0;31mAttributeError\u001b[0m: Not an Aho-Corasick automaton yet: call add_word to add some keys and call make_automaton to convert the trie to an automaton."
          ]
        }
      ]
    },
    {
      "cell_type": "code",
      "source": [
        "import pymorphy2\n",
        "def is_name_position_in_graph(G, name, position):\n",
        "    if not name and not position:\n",
        "        return False\n",
        "    morph = pymorphy2.MorphAnalyzer()\n",
        "    if name:\n",
        "        name_norm = morph.parse(name)[0].normal_form\n",
        "    if position:\n",
        "        position_norm = morph.parse(position)[0].normal_form\n",
        "\n",
        "    for node in G.nodes():\n",
        "        if name:\n",
        "            node_norm = morph.parse(node)[0].normal_form\n",
        "            if node_norm != name_norm:\n",
        "                continue\n",
        "        if position:\n",
        "            neighbors = G.neighbors(node)\n",
        "            for neighbor in neighbors:\n",
        "                neighbor_norm = morph.parse(neighbor)[0].normal_form\n",
        "                if neighbor_norm == position_norm:\n",
        "                    return True\n",
        "    return False\n"
      ],
      "metadata": {
        "id": "E93peyh5C6XF"
      },
      "id": "E93peyh5C6XF",
      "execution_count": 73,
      "outputs": []
    },
    {
      "cell_type": "code",
      "source": [
        "for i in range(len(list(dict_emp.values()))):\n",
        "    print(\"name: \", list(dict_emp)[i], \" | \",\n",
        "          \"position: \", list(dict_emp.values())[i], \" | \",\n",
        "          \"result: \", is_name_position_in_graph(G, list(dict_emp)[i], list(dict_emp.values())[i]))\n",
        "    # print(is_name_position_in_graph(G, list(dict_emp)[i], list(dict_emp.values())[i]))"
      ],
      "metadata": {
        "id": "OLpHVA4Sr6f_",
        "outputId": "b1154f2a-a2bf-4b84-bddc-9a1d0f48cd1f",
        "colab": {
          "base_uri": "https://localhost:8080/"
        }
      },
      "id": "OLpHVA4Sr6f_",
      "execution_count": 74,
      "outputs": [
        {
          "output_type": "stream",
          "name": "stdout",
          "text": [
            "name:  андреева с.е.  |  position:  и.о. генеральный директор  |  result:  False\n"
          ]
        }
      ]
    },
    {
      "cell_type": "code",
      "source": [
        "name = 'семёнов м.с.'\n",
        "position = 'главн бухгалтер'\n",
        "print(is_name_position_in_graph(G, name, position))"
      ],
      "metadata": {
        "colab": {
          "base_uri": "https://localhost:8080/"
        },
        "id": "Q7mbpijaDInu",
        "outputId": "15b075c9-3331-411a-8fb6-116b018e323c"
      },
      "id": "Q7mbpijaDInu",
      "execution_count": 103,
      "outputs": [
        {
          "output_type": "stream",
          "name": "stdout",
          "text": [
            "False\n"
          ]
        }
      ]
    },
    {
      "cell_type": "markdown",
      "id": "JHu0ZvkSkDG0",
      "metadata": {
        "id": "JHu0ZvkSkDG0"
      },
      "source": [
        "# Graph finding paths"
      ]
    },
    {
      "cell_type": "code",
      "execution_count": null,
      "id": "s_HfJXf0ekgM",
      "metadata": {
        "id": "s_HfJXf0ekgM"
      },
      "outputs": [],
      "source": [
        "results = []\n",
        "for n1 in G.nodes():\n",
        "    for n2 in G.nodes():\n",
        "        shortest_path = nx.single_source_dijkstra(G, source=n1, target=n2)\n",
        "        results.append(shortest_path)\n"
      ]
    },
    {
      "cell_type": "code",
      "execution_count": null,
      "id": "ChoM9092e7pS",
      "metadata": {
        "id": "ChoM9092e7pS",
        "outputId": "d2d05437-af08-4c2c-97a7-bc8291fb8a22",
        "colab": {
          "base_uri": "https://localhost:8080/"
        }
      },
      "outputs": [
        {
          "output_type": "stream",
          "name": "stdout",
          "text": [
            "(3, ['ведерников и.с.', 'втор категор отдел эксплуатац', 'Отдел эксплуатации', 'COMPANY'])\n"
          ]
        }
      ],
      "source": [
        "shortest_path = nx.single_source_dijkstra(G, source='ведерников и.с.', target='COMPANY')\n",
        "print(shortest_path)\n"
      ]
    },
    {
      "cell_type": "markdown",
      "id": "f0f7afa0",
      "metadata": {
        "id": "f0f7afa0"
      },
      "source": [
        "# Helper functions"
      ]
    },
    {
      "cell_type": "code",
      "execution_count": null,
      "id": "89379f1c",
      "metadata": {
        "id": "89379f1c",
        "outputId": "a1001a62-5e77-4ec9-80c0-a84e63736cc5",
        "colab": {
          "base_uri": "https://localhost:8080/"
        }
      },
      "outputs": [
        {
          "output_type": "stream",
          "name": "stdout",
          "text": [
            "(3, ['ведерников и.с.', 'втор категор отдел эксплуатац', 'Отдел эксплуатации', 'COMPANY'])\n"
          ]
        }
      ],
      "source": [
        "shortest_path = nx.single_source_dijkstra(G, source='ведерников и.с.', target='COMPANY')\n",
        "print(shortest_path)"
      ]
    },
    {
      "cell_type": "markdown",
      "id": "478ada9f",
      "metadata": {
        "id": "478ada9f"
      },
      "source": [
        "Is a given person works in the company"
      ]
    },
    {
      "cell_type": "code",
      "execution_count": null,
      "id": "cfbc0603",
      "metadata": {
        "id": "cfbc0603",
        "outputId": "419ddbe4-6fc9-419c-ef36-5b8c2661d9dd",
        "colab": {
          "base_uri": "https://localhost:8080/"
        }
      },
      "outputs": [
        {
          "output_type": "stream",
          "name": "stdout",
          "text": [
            "(3, ['COMPANY', 'Отдел разработки систем', 'втор категор', 'ведерников и.с.'])\n"
          ]
        },
        {
          "output_type": "execute_result",
          "data": {
            "text/plain": [
              "True"
            ]
          },
          "metadata": {},
          "execution_count": 77
        }
      ],
      "source": [
        "def is_employee(graph, company, name):\n",
        "  try:\n",
        "    shortest_path = nx.single_source_dijkstra(G, source=company, target=name)\n",
        "    print(shortest_path)\n",
        "    if shortest_path[0] == 3 and shortest_path[1][-1] == name:\n",
        "      return True\n",
        "    else:\n",
        "      return False\n",
        "  except:\n",
        "    return False\n",
        "\n",
        "is_employee(G, 'COMPANY', 'ведерников и.с.')"
      ]
    },
    {
      "cell_type": "code",
      "execution_count": null,
      "id": "96cb8c26",
      "metadata": {
        "id": "96cb8c26",
        "outputId": "390d7469-9b59-486e-eb62-0364d481d3ca",
        "colab": {
          "base_uri": "https://localhost:8080/"
        }
      },
      "outputs": [
        {
          "output_type": "stream",
          "name": "stdout",
          "text": [
            "(3, ['COMPANY', 'Отдел архитектуры', 'архитектор программн обеспечен', 'абатуров б.'])\n"
          ]
        },
        {
          "output_type": "execute_result",
          "data": {
            "text/plain": [
              "True"
            ]
          },
          "metadata": {},
          "execution_count": 81
        }
      ],
      "source": [
        "is_employee(G, 'COMPANY', 'абатуров б.')"
      ]
    },
    {
      "cell_type": "code",
      "source": [
        "is_employee(G, 'COMPANY', 'обатуров б.')"
      ],
      "metadata": {
        "id": "H4JadYERxwBE",
        "outputId": "434da62a-a41b-4d6c-ad5a-842e3f734ff8",
        "colab": {
          "base_uri": "https://localhost:8080/"
        }
      },
      "id": "H4JadYERxwBE",
      "execution_count": null,
      "outputs": [
        {
          "output_type": "execute_result",
          "data": {
            "text/plain": [
              "False"
            ]
          },
          "metadata": {},
          "execution_count": 82
        }
      ]
    },
    {
      "cell_type": "markdown",
      "id": "85f59704",
      "metadata": {
        "id": "85f59704"
      },
      "source": [
        "Is a given person works in the company"
      ]
    }
  ],
  "metadata": {
    "colab": {
      "provenance": [],
      "include_colab_link": true
    },
    "kernelspec": {
      "display_name": "Python 3 (ipykernel)",
      "language": "python",
      "name": "python3"
    },
    "language_info": {
      "codemirror_mode": {
        "name": "ipython",
        "version": 3
      },
      "file_extension": ".py",
      "mimetype": "text/x-python",
      "name": "python",
      "nbconvert_exporter": "python",
      "pygments_lexer": "ipython3",
      "version": "3.10.0rc2"
    },
    "widgets": {
      "application/vnd.jupyter.widget-state+json": {
        "1f31d38096384aecb1b34b0ddedbce81": {
          "model_module": "@jupyter-widgets/controls",
          "model_name": "HBoxModel",
          "model_module_version": "1.5.0",
          "state": {
            "_dom_classes": [],
            "_model_module": "@jupyter-widgets/controls",
            "_model_module_version": "1.5.0",
            "_model_name": "HBoxModel",
            "_view_count": null,
            "_view_module": "@jupyter-widgets/controls",
            "_view_module_version": "1.5.0",
            "_view_name": "HBoxView",
            "box_style": "",
            "children": [
              "IPY_MODEL_c64f8c7f5d3f486bb6e021589a57415c",
              "IPY_MODEL_5d7c6fd556e3469682dd8ae1a0369f68",
              "IPY_MODEL_a567515a487f415e84149fe59e7fb3b2"
            ],
            "layout": "IPY_MODEL_fd59f1d499d4456d84cf80daf9cbc6c8"
          }
        },
        "c64f8c7f5d3f486bb6e021589a57415c": {
          "model_module": "@jupyter-widgets/controls",
          "model_name": "HTMLModel",
          "model_module_version": "1.5.0",
          "state": {
            "_dom_classes": [],
            "_model_module": "@jupyter-widgets/controls",
            "_model_module_version": "1.5.0",
            "_model_name": "HTMLModel",
            "_view_count": null,
            "_view_module": "@jupyter-widgets/controls",
            "_view_module_version": "1.5.0",
            "_view_name": "HTMLView",
            "description": "",
            "description_tooltip": null,
            "layout": "IPY_MODEL_aafb5582e9c742b98e5b939b92aa3334",
            "placeholder": "​",
            "style": "IPY_MODEL_f814cb630ed745e582150e59e6ae0e03",
            "value": "Downloading: 100%"
          }
        },
        "5d7c6fd556e3469682dd8ae1a0369f68": {
          "model_module": "@jupyter-widgets/controls",
          "model_name": "FloatProgressModel",
          "model_module_version": "1.5.0",
          "state": {
            "_dom_classes": [],
            "_model_module": "@jupyter-widgets/controls",
            "_model_module_version": "1.5.0",
            "_model_name": "FloatProgressModel",
            "_view_count": null,
            "_view_module": "@jupyter-widgets/controls",
            "_view_module_version": "1.5.0",
            "_view_name": "ProgressView",
            "bar_style": "success",
            "description": "",
            "description_tooltip": null,
            "layout": "IPY_MODEL_a00144174bb6482382be692af76bce85",
            "max": 879,
            "min": 0,
            "orientation": "horizontal",
            "style": "IPY_MODEL_54481977f09946e9b29459269ff6f936",
            "value": 879
          }
        },
        "a567515a487f415e84149fe59e7fb3b2": {
          "model_module": "@jupyter-widgets/controls",
          "model_name": "HTMLModel",
          "model_module_version": "1.5.0",
          "state": {
            "_dom_classes": [],
            "_model_module": "@jupyter-widgets/controls",
            "_model_module_version": "1.5.0",
            "_model_name": "HTMLModel",
            "_view_count": null,
            "_view_module": "@jupyter-widgets/controls",
            "_view_module_version": "1.5.0",
            "_view_name": "HTMLView",
            "description": "",
            "description_tooltip": null,
            "layout": "IPY_MODEL_55df4094881e427eac7f75a1b1e0610f",
            "placeholder": "​",
            "style": "IPY_MODEL_c149026f89b647ffb6275b4f9d8ff7d2",
            "value": " 879/879 [00:00&lt;00:00, 48.6kB/s]"
          }
        },
        "fd59f1d499d4456d84cf80daf9cbc6c8": {
          "model_module": "@jupyter-widgets/base",
          "model_name": "LayoutModel",
          "model_module_version": "1.2.0",
          "state": {
            "_model_module": "@jupyter-widgets/base",
            "_model_module_version": "1.2.0",
            "_model_name": "LayoutModel",
            "_view_count": null,
            "_view_module": "@jupyter-widgets/base",
            "_view_module_version": "1.2.0",
            "_view_name": "LayoutView",
            "align_content": null,
            "align_items": null,
            "align_self": null,
            "border": null,
            "bottom": null,
            "display": null,
            "flex": null,
            "flex_flow": null,
            "grid_area": null,
            "grid_auto_columns": null,
            "grid_auto_flow": null,
            "grid_auto_rows": null,
            "grid_column": null,
            "grid_gap": null,
            "grid_row": null,
            "grid_template_areas": null,
            "grid_template_columns": null,
            "grid_template_rows": null,
            "height": null,
            "justify_content": null,
            "justify_items": null,
            "left": null,
            "margin": null,
            "max_height": null,
            "max_width": null,
            "min_height": null,
            "min_width": null,
            "object_fit": null,
            "object_position": null,
            "order": null,
            "overflow": null,
            "overflow_x": null,
            "overflow_y": null,
            "padding": null,
            "right": null,
            "top": null,
            "visibility": null,
            "width": null
          }
        },
        "aafb5582e9c742b98e5b939b92aa3334": {
          "model_module": "@jupyter-widgets/base",
          "model_name": "LayoutModel",
          "model_module_version": "1.2.0",
          "state": {
            "_model_module": "@jupyter-widgets/base",
            "_model_module_version": "1.2.0",
            "_model_name": "LayoutModel",
            "_view_count": null,
            "_view_module": "@jupyter-widgets/base",
            "_view_module_version": "1.2.0",
            "_view_name": "LayoutView",
            "align_content": null,
            "align_items": null,
            "align_self": null,
            "border": null,
            "bottom": null,
            "display": null,
            "flex": null,
            "flex_flow": null,
            "grid_area": null,
            "grid_auto_columns": null,
            "grid_auto_flow": null,
            "grid_auto_rows": null,
            "grid_column": null,
            "grid_gap": null,
            "grid_row": null,
            "grid_template_areas": null,
            "grid_template_columns": null,
            "grid_template_rows": null,
            "height": null,
            "justify_content": null,
            "justify_items": null,
            "left": null,
            "margin": null,
            "max_height": null,
            "max_width": null,
            "min_height": null,
            "min_width": null,
            "object_fit": null,
            "object_position": null,
            "order": null,
            "overflow": null,
            "overflow_x": null,
            "overflow_y": null,
            "padding": null,
            "right": null,
            "top": null,
            "visibility": null,
            "width": null
          }
        },
        "f814cb630ed745e582150e59e6ae0e03": {
          "model_module": "@jupyter-widgets/controls",
          "model_name": "DescriptionStyleModel",
          "model_module_version": "1.5.0",
          "state": {
            "_model_module": "@jupyter-widgets/controls",
            "_model_module_version": "1.5.0",
            "_model_name": "DescriptionStyleModel",
            "_view_count": null,
            "_view_module": "@jupyter-widgets/base",
            "_view_module_version": "1.2.0",
            "_view_name": "StyleView",
            "description_width": ""
          }
        },
        "a00144174bb6482382be692af76bce85": {
          "model_module": "@jupyter-widgets/base",
          "model_name": "LayoutModel",
          "model_module_version": "1.2.0",
          "state": {
            "_model_module": "@jupyter-widgets/base",
            "_model_module_version": "1.2.0",
            "_model_name": "LayoutModel",
            "_view_count": null,
            "_view_module": "@jupyter-widgets/base",
            "_view_module_version": "1.2.0",
            "_view_name": "LayoutView",
            "align_content": null,
            "align_items": null,
            "align_self": null,
            "border": null,
            "bottom": null,
            "display": null,
            "flex": null,
            "flex_flow": null,
            "grid_area": null,
            "grid_auto_columns": null,
            "grid_auto_flow": null,
            "grid_auto_rows": null,
            "grid_column": null,
            "grid_gap": null,
            "grid_row": null,
            "grid_template_areas": null,
            "grid_template_columns": null,
            "grid_template_rows": null,
            "height": null,
            "justify_content": null,
            "justify_items": null,
            "left": null,
            "margin": null,
            "max_height": null,
            "max_width": null,
            "min_height": null,
            "min_width": null,
            "object_fit": null,
            "object_position": null,
            "order": null,
            "overflow": null,
            "overflow_x": null,
            "overflow_y": null,
            "padding": null,
            "right": null,
            "top": null,
            "visibility": null,
            "width": null
          }
        },
        "54481977f09946e9b29459269ff6f936": {
          "model_module": "@jupyter-widgets/controls",
          "model_name": "ProgressStyleModel",
          "model_module_version": "1.5.0",
          "state": {
            "_model_module": "@jupyter-widgets/controls",
            "_model_module_version": "1.5.0",
            "_model_name": "ProgressStyleModel",
            "_view_count": null,
            "_view_module": "@jupyter-widgets/base",
            "_view_module_version": "1.2.0",
            "_view_name": "StyleView",
            "bar_color": null,
            "description_width": ""
          }
        },
        "55df4094881e427eac7f75a1b1e0610f": {
          "model_module": "@jupyter-widgets/base",
          "model_name": "LayoutModel",
          "model_module_version": "1.2.0",
          "state": {
            "_model_module": "@jupyter-widgets/base",
            "_model_module_version": "1.2.0",
            "_model_name": "LayoutModel",
            "_view_count": null,
            "_view_module": "@jupyter-widgets/base",
            "_view_module_version": "1.2.0",
            "_view_name": "LayoutView",
            "align_content": null,
            "align_items": null,
            "align_self": null,
            "border": null,
            "bottom": null,
            "display": null,
            "flex": null,
            "flex_flow": null,
            "grid_area": null,
            "grid_auto_columns": null,
            "grid_auto_flow": null,
            "grid_auto_rows": null,
            "grid_column": null,
            "grid_gap": null,
            "grid_row": null,
            "grid_template_areas": null,
            "grid_template_columns": null,
            "grid_template_rows": null,
            "height": null,
            "justify_content": null,
            "justify_items": null,
            "left": null,
            "margin": null,
            "max_height": null,
            "max_width": null,
            "min_height": null,
            "min_width": null,
            "object_fit": null,
            "object_position": null,
            "order": null,
            "overflow": null,
            "overflow_x": null,
            "overflow_y": null,
            "padding": null,
            "right": null,
            "top": null,
            "visibility": null,
            "width": null
          }
        },
        "c149026f89b647ffb6275b4f9d8ff7d2": {
          "model_module": "@jupyter-widgets/controls",
          "model_name": "DescriptionStyleModel",
          "model_module_version": "1.5.0",
          "state": {
            "_model_module": "@jupyter-widgets/controls",
            "_model_module_version": "1.5.0",
            "_model_name": "DescriptionStyleModel",
            "_view_count": null,
            "_view_module": "@jupyter-widgets/base",
            "_view_module_version": "1.2.0",
            "_view_name": "StyleView",
            "description_width": ""
          }
        },
        "4cf5c4154dbe470b84454007e9c01b34": {
          "model_module": "@jupyter-widgets/controls",
          "model_name": "HBoxModel",
          "model_module_version": "1.5.0",
          "state": {
            "_dom_classes": [],
            "_model_module": "@jupyter-widgets/controls",
            "_model_module_version": "1.5.0",
            "_model_name": "HBoxModel",
            "_view_count": null,
            "_view_module": "@jupyter-widgets/controls",
            "_view_module_version": "1.5.0",
            "_view_name": "HBoxView",
            "box_style": "",
            "children": [
              "IPY_MODEL_1acd7b8b3b3640f8ba98b4427c09cfea",
              "IPY_MODEL_94224cea470842f0a48fd32121034231",
              "IPY_MODEL_b8ef7788789848e2b51b287ad2a11dc3"
            ],
            "layout": "IPY_MODEL_a6edb47c4b42469a8565488780099535"
          }
        },
        "1acd7b8b3b3640f8ba98b4427c09cfea": {
          "model_module": "@jupyter-widgets/controls",
          "model_name": "HTMLModel",
          "model_module_version": "1.5.0",
          "state": {
            "_dom_classes": [],
            "_model_module": "@jupyter-widgets/controls",
            "_model_module_version": "1.5.0",
            "_model_name": "HTMLModel",
            "_view_count": null,
            "_view_module": "@jupyter-widgets/controls",
            "_view_module_version": "1.5.0",
            "_view_name": "HTMLView",
            "description": "",
            "description_tooltip": null,
            "layout": "IPY_MODEL_513f684658f24f45ad68b3574d419bfb",
            "placeholder": "​",
            "style": "IPY_MODEL_d3458a5955894f43ac10bff51a1f7291",
            "value": "Downloading: 100%"
          }
        },
        "94224cea470842f0a48fd32121034231": {
          "model_module": "@jupyter-widgets/controls",
          "model_name": "FloatProgressModel",
          "model_module_version": "1.5.0",
          "state": {
            "_dom_classes": [],
            "_model_module": "@jupyter-widgets/controls",
            "_model_module_version": "1.5.0",
            "_model_name": "FloatProgressModel",
            "_view_count": null,
            "_view_module": "@jupyter-widgets/controls",
            "_view_module_version": "1.5.0",
            "_view_name": "ProgressView",
            "bar_style": "success",
            "description": "",
            "description_tooltip": null,
            "layout": "IPY_MODEL_1d0e40e34622479bb7f9f460df793da8",
            "max": 1112951793,
            "min": 0,
            "orientation": "horizontal",
            "style": "IPY_MODEL_cad1de742dcd457085ee42152392451c",
            "value": 1112951793
          }
        },
        "b8ef7788789848e2b51b287ad2a11dc3": {
          "model_module": "@jupyter-widgets/controls",
          "model_name": "HTMLModel",
          "model_module_version": "1.5.0",
          "state": {
            "_dom_classes": [],
            "_model_module": "@jupyter-widgets/controls",
            "_model_module_version": "1.5.0",
            "_model_name": "HTMLModel",
            "_view_count": null,
            "_view_module": "@jupyter-widgets/controls",
            "_view_module_version": "1.5.0",
            "_view_name": "HTMLView",
            "description": "",
            "description_tooltip": null,
            "layout": "IPY_MODEL_0eb39288f9d641ab8122f80dc0636480",
            "placeholder": "​",
            "style": "IPY_MODEL_d54849a56d4048c4904b17cf2a296a99",
            "value": " 1.11G/1.11G [00:15&lt;00:00, 75.0MB/s]"
          }
        },
        "a6edb47c4b42469a8565488780099535": {
          "model_module": "@jupyter-widgets/base",
          "model_name": "LayoutModel",
          "model_module_version": "1.2.0",
          "state": {
            "_model_module": "@jupyter-widgets/base",
            "_model_module_version": "1.2.0",
            "_model_name": "LayoutModel",
            "_view_count": null,
            "_view_module": "@jupyter-widgets/base",
            "_view_module_version": "1.2.0",
            "_view_name": "LayoutView",
            "align_content": null,
            "align_items": null,
            "align_self": null,
            "border": null,
            "bottom": null,
            "display": null,
            "flex": null,
            "flex_flow": null,
            "grid_area": null,
            "grid_auto_columns": null,
            "grid_auto_flow": null,
            "grid_auto_rows": null,
            "grid_column": null,
            "grid_gap": null,
            "grid_row": null,
            "grid_template_areas": null,
            "grid_template_columns": null,
            "grid_template_rows": null,
            "height": null,
            "justify_content": null,
            "justify_items": null,
            "left": null,
            "margin": null,
            "max_height": null,
            "max_width": null,
            "min_height": null,
            "min_width": null,
            "object_fit": null,
            "object_position": null,
            "order": null,
            "overflow": null,
            "overflow_x": null,
            "overflow_y": null,
            "padding": null,
            "right": null,
            "top": null,
            "visibility": null,
            "width": null
          }
        },
        "513f684658f24f45ad68b3574d419bfb": {
          "model_module": "@jupyter-widgets/base",
          "model_name": "LayoutModel",
          "model_module_version": "1.2.0",
          "state": {
            "_model_module": "@jupyter-widgets/base",
            "_model_module_version": "1.2.0",
            "_model_name": "LayoutModel",
            "_view_count": null,
            "_view_module": "@jupyter-widgets/base",
            "_view_module_version": "1.2.0",
            "_view_name": "LayoutView",
            "align_content": null,
            "align_items": null,
            "align_self": null,
            "border": null,
            "bottom": null,
            "display": null,
            "flex": null,
            "flex_flow": null,
            "grid_area": null,
            "grid_auto_columns": null,
            "grid_auto_flow": null,
            "grid_auto_rows": null,
            "grid_column": null,
            "grid_gap": null,
            "grid_row": null,
            "grid_template_areas": null,
            "grid_template_columns": null,
            "grid_template_rows": null,
            "height": null,
            "justify_content": null,
            "justify_items": null,
            "left": null,
            "margin": null,
            "max_height": null,
            "max_width": null,
            "min_height": null,
            "min_width": null,
            "object_fit": null,
            "object_position": null,
            "order": null,
            "overflow": null,
            "overflow_x": null,
            "overflow_y": null,
            "padding": null,
            "right": null,
            "top": null,
            "visibility": null,
            "width": null
          }
        },
        "d3458a5955894f43ac10bff51a1f7291": {
          "model_module": "@jupyter-widgets/controls",
          "model_name": "DescriptionStyleModel",
          "model_module_version": "1.5.0",
          "state": {
            "_model_module": "@jupyter-widgets/controls",
            "_model_module_version": "1.5.0",
            "_model_name": "DescriptionStyleModel",
            "_view_count": null,
            "_view_module": "@jupyter-widgets/base",
            "_view_module_version": "1.2.0",
            "_view_name": "StyleView",
            "description_width": ""
          }
        },
        "1d0e40e34622479bb7f9f460df793da8": {
          "model_module": "@jupyter-widgets/base",
          "model_name": "LayoutModel",
          "model_module_version": "1.2.0",
          "state": {
            "_model_module": "@jupyter-widgets/base",
            "_model_module_version": "1.2.0",
            "_model_name": "LayoutModel",
            "_view_count": null,
            "_view_module": "@jupyter-widgets/base",
            "_view_module_version": "1.2.0",
            "_view_name": "LayoutView",
            "align_content": null,
            "align_items": null,
            "align_self": null,
            "border": null,
            "bottom": null,
            "display": null,
            "flex": null,
            "flex_flow": null,
            "grid_area": null,
            "grid_auto_columns": null,
            "grid_auto_flow": null,
            "grid_auto_rows": null,
            "grid_column": null,
            "grid_gap": null,
            "grid_row": null,
            "grid_template_areas": null,
            "grid_template_columns": null,
            "grid_template_rows": null,
            "height": null,
            "justify_content": null,
            "justify_items": null,
            "left": null,
            "margin": null,
            "max_height": null,
            "max_width": null,
            "min_height": null,
            "min_width": null,
            "object_fit": null,
            "object_position": null,
            "order": null,
            "overflow": null,
            "overflow_x": null,
            "overflow_y": null,
            "padding": null,
            "right": null,
            "top": null,
            "visibility": null,
            "width": null
          }
        },
        "cad1de742dcd457085ee42152392451c": {
          "model_module": "@jupyter-widgets/controls",
          "model_name": "ProgressStyleModel",
          "model_module_version": "1.5.0",
          "state": {
            "_model_module": "@jupyter-widgets/controls",
            "_model_module_version": "1.5.0",
            "_model_name": "ProgressStyleModel",
            "_view_count": null,
            "_view_module": "@jupyter-widgets/base",
            "_view_module_version": "1.2.0",
            "_view_name": "StyleView",
            "bar_color": null,
            "description_width": ""
          }
        },
        "0eb39288f9d641ab8122f80dc0636480": {
          "model_module": "@jupyter-widgets/base",
          "model_name": "LayoutModel",
          "model_module_version": "1.2.0",
          "state": {
            "_model_module": "@jupyter-widgets/base",
            "_model_module_version": "1.2.0",
            "_model_name": "LayoutModel",
            "_view_count": null,
            "_view_module": "@jupyter-widgets/base",
            "_view_module_version": "1.2.0",
            "_view_name": "LayoutView",
            "align_content": null,
            "align_items": null,
            "align_self": null,
            "border": null,
            "bottom": null,
            "display": null,
            "flex": null,
            "flex_flow": null,
            "grid_area": null,
            "grid_auto_columns": null,
            "grid_auto_flow": null,
            "grid_auto_rows": null,
            "grid_column": null,
            "grid_gap": null,
            "grid_row": null,
            "grid_template_areas": null,
            "grid_template_columns": null,
            "grid_template_rows": null,
            "height": null,
            "justify_content": null,
            "justify_items": null,
            "left": null,
            "margin": null,
            "max_height": null,
            "max_width": null,
            "min_height": null,
            "min_width": null,
            "object_fit": null,
            "object_position": null,
            "order": null,
            "overflow": null,
            "overflow_x": null,
            "overflow_y": null,
            "padding": null,
            "right": null,
            "top": null,
            "visibility": null,
            "width": null
          }
        },
        "d54849a56d4048c4904b17cf2a296a99": {
          "model_module": "@jupyter-widgets/controls",
          "model_name": "DescriptionStyleModel",
          "model_module_version": "1.5.0",
          "state": {
            "_model_module": "@jupyter-widgets/controls",
            "_model_module_version": "1.5.0",
            "_model_name": "DescriptionStyleModel",
            "_view_count": null,
            "_view_module": "@jupyter-widgets/base",
            "_view_module_version": "1.2.0",
            "_view_name": "StyleView",
            "description_width": ""
          }
        },
        "3327cc80124240de979de1ac3da2079b": {
          "model_module": "@jupyter-widgets/controls",
          "model_name": "HBoxModel",
          "model_module_version": "1.5.0",
          "state": {
            "_dom_classes": [],
            "_model_module": "@jupyter-widgets/controls",
            "_model_module_version": "1.5.0",
            "_model_name": "HBoxModel",
            "_view_count": null,
            "_view_module": "@jupyter-widgets/controls",
            "_view_module_version": "1.5.0",
            "_view_name": "HBoxView",
            "box_style": "",
            "children": [
              "IPY_MODEL_897d8100871340c19e291bc1b05d9aad",
              "IPY_MODEL_ab5a49a9f76040c282ee85e05ab31bdd",
              "IPY_MODEL_fbb3779786ce42938779370af176f887"
            ],
            "layout": "IPY_MODEL_74bae64b0db04fb3a1da2c17fc273334"
          }
        },
        "897d8100871340c19e291bc1b05d9aad": {
          "model_module": "@jupyter-widgets/controls",
          "model_name": "HTMLModel",
          "model_module_version": "1.5.0",
          "state": {
            "_dom_classes": [],
            "_model_module": "@jupyter-widgets/controls",
            "_model_module_version": "1.5.0",
            "_model_name": "HTMLModel",
            "_view_count": null,
            "_view_module": "@jupyter-widgets/controls",
            "_view_module_version": "1.5.0",
            "_view_name": "HTMLView",
            "description": "",
            "description_tooltip": null,
            "layout": "IPY_MODEL_1aa911600709474fb547454d229e2866",
            "placeholder": "​",
            "style": "IPY_MODEL_5fc7001115dc410eb97031eeb66e0c70",
            "value": "Downloading: 100%"
          }
        },
        "ab5a49a9f76040c282ee85e05ab31bdd": {
          "model_module": "@jupyter-widgets/controls",
          "model_name": "FloatProgressModel",
          "model_module_version": "1.5.0",
          "state": {
            "_dom_classes": [],
            "_model_module": "@jupyter-widgets/controls",
            "_model_module_version": "1.5.0",
            "_model_name": "FloatProgressModel",
            "_view_count": null,
            "_view_module": "@jupyter-widgets/controls",
            "_view_module_version": "1.5.0",
            "_view_name": "ProgressView",
            "bar_style": "success",
            "description": "",
            "description_tooltip": null,
            "layout": "IPY_MODEL_3b29e871ad894b7a960cbcd71b9bcc54",
            "max": 453,
            "min": 0,
            "orientation": "horizontal",
            "style": "IPY_MODEL_1f2e7080f63d439394393a3e560294e9",
            "value": 453
          }
        },
        "fbb3779786ce42938779370af176f887": {
          "model_module": "@jupyter-widgets/controls",
          "model_name": "HTMLModel",
          "model_module_version": "1.5.0",
          "state": {
            "_dom_classes": [],
            "_model_module": "@jupyter-widgets/controls",
            "_model_module_version": "1.5.0",
            "_model_name": "HTMLModel",
            "_view_count": null,
            "_view_module": "@jupyter-widgets/controls",
            "_view_module_version": "1.5.0",
            "_view_name": "HTMLView",
            "description": "",
            "description_tooltip": null,
            "layout": "IPY_MODEL_ec8c76419a9349b2b76cbd5092f9710b",
            "placeholder": "​",
            "style": "IPY_MODEL_a55a5b4d3d944a1ebb3608e77f665604",
            "value": " 453/453 [00:00&lt;00:00, 27.0kB/s]"
          }
        },
        "74bae64b0db04fb3a1da2c17fc273334": {
          "model_module": "@jupyter-widgets/base",
          "model_name": "LayoutModel",
          "model_module_version": "1.2.0",
          "state": {
            "_model_module": "@jupyter-widgets/base",
            "_model_module_version": "1.2.0",
            "_model_name": "LayoutModel",
            "_view_count": null,
            "_view_module": "@jupyter-widgets/base",
            "_view_module_version": "1.2.0",
            "_view_name": "LayoutView",
            "align_content": null,
            "align_items": null,
            "align_self": null,
            "border": null,
            "bottom": null,
            "display": null,
            "flex": null,
            "flex_flow": null,
            "grid_area": null,
            "grid_auto_columns": null,
            "grid_auto_flow": null,
            "grid_auto_rows": null,
            "grid_column": null,
            "grid_gap": null,
            "grid_row": null,
            "grid_template_areas": null,
            "grid_template_columns": null,
            "grid_template_rows": null,
            "height": null,
            "justify_content": null,
            "justify_items": null,
            "left": null,
            "margin": null,
            "max_height": null,
            "max_width": null,
            "min_height": null,
            "min_width": null,
            "object_fit": null,
            "object_position": null,
            "order": null,
            "overflow": null,
            "overflow_x": null,
            "overflow_y": null,
            "padding": null,
            "right": null,
            "top": null,
            "visibility": null,
            "width": null
          }
        },
        "1aa911600709474fb547454d229e2866": {
          "model_module": "@jupyter-widgets/base",
          "model_name": "LayoutModel",
          "model_module_version": "1.2.0",
          "state": {
            "_model_module": "@jupyter-widgets/base",
            "_model_module_version": "1.2.0",
            "_model_name": "LayoutModel",
            "_view_count": null,
            "_view_module": "@jupyter-widgets/base",
            "_view_module_version": "1.2.0",
            "_view_name": "LayoutView",
            "align_content": null,
            "align_items": null,
            "align_self": null,
            "border": null,
            "bottom": null,
            "display": null,
            "flex": null,
            "flex_flow": null,
            "grid_area": null,
            "grid_auto_columns": null,
            "grid_auto_flow": null,
            "grid_auto_rows": null,
            "grid_column": null,
            "grid_gap": null,
            "grid_row": null,
            "grid_template_areas": null,
            "grid_template_columns": null,
            "grid_template_rows": null,
            "height": null,
            "justify_content": null,
            "justify_items": null,
            "left": null,
            "margin": null,
            "max_height": null,
            "max_width": null,
            "min_height": null,
            "min_width": null,
            "object_fit": null,
            "object_position": null,
            "order": null,
            "overflow": null,
            "overflow_x": null,
            "overflow_y": null,
            "padding": null,
            "right": null,
            "top": null,
            "visibility": null,
            "width": null
          }
        },
        "5fc7001115dc410eb97031eeb66e0c70": {
          "model_module": "@jupyter-widgets/controls",
          "model_name": "DescriptionStyleModel",
          "model_module_version": "1.5.0",
          "state": {
            "_model_module": "@jupyter-widgets/controls",
            "_model_module_version": "1.5.0",
            "_model_name": "DescriptionStyleModel",
            "_view_count": null,
            "_view_module": "@jupyter-widgets/base",
            "_view_module_version": "1.2.0",
            "_view_name": "StyleView",
            "description_width": ""
          }
        },
        "3b29e871ad894b7a960cbcd71b9bcc54": {
          "model_module": "@jupyter-widgets/base",
          "model_name": "LayoutModel",
          "model_module_version": "1.2.0",
          "state": {
            "_model_module": "@jupyter-widgets/base",
            "_model_module_version": "1.2.0",
            "_model_name": "LayoutModel",
            "_view_count": null,
            "_view_module": "@jupyter-widgets/base",
            "_view_module_version": "1.2.0",
            "_view_name": "LayoutView",
            "align_content": null,
            "align_items": null,
            "align_self": null,
            "border": null,
            "bottom": null,
            "display": null,
            "flex": null,
            "flex_flow": null,
            "grid_area": null,
            "grid_auto_columns": null,
            "grid_auto_flow": null,
            "grid_auto_rows": null,
            "grid_column": null,
            "grid_gap": null,
            "grid_row": null,
            "grid_template_areas": null,
            "grid_template_columns": null,
            "grid_template_rows": null,
            "height": null,
            "justify_content": null,
            "justify_items": null,
            "left": null,
            "margin": null,
            "max_height": null,
            "max_width": null,
            "min_height": null,
            "min_width": null,
            "object_fit": null,
            "object_position": null,
            "order": null,
            "overflow": null,
            "overflow_x": null,
            "overflow_y": null,
            "padding": null,
            "right": null,
            "top": null,
            "visibility": null,
            "width": null
          }
        },
        "1f2e7080f63d439394393a3e560294e9": {
          "model_module": "@jupyter-widgets/controls",
          "model_name": "ProgressStyleModel",
          "model_module_version": "1.5.0",
          "state": {
            "_model_module": "@jupyter-widgets/controls",
            "_model_module_version": "1.5.0",
            "_model_name": "ProgressStyleModel",
            "_view_count": null,
            "_view_module": "@jupyter-widgets/base",
            "_view_module_version": "1.2.0",
            "_view_name": "StyleView",
            "bar_color": null,
            "description_width": ""
          }
        },
        "ec8c76419a9349b2b76cbd5092f9710b": {
          "model_module": "@jupyter-widgets/base",
          "model_name": "LayoutModel",
          "model_module_version": "1.2.0",
          "state": {
            "_model_module": "@jupyter-widgets/base",
            "_model_module_version": "1.2.0",
            "_model_name": "LayoutModel",
            "_view_count": null,
            "_view_module": "@jupyter-widgets/base",
            "_view_module_version": "1.2.0",
            "_view_name": "LayoutView",
            "align_content": null,
            "align_items": null,
            "align_self": null,
            "border": null,
            "bottom": null,
            "display": null,
            "flex": null,
            "flex_flow": null,
            "grid_area": null,
            "grid_auto_columns": null,
            "grid_auto_flow": null,
            "grid_auto_rows": null,
            "grid_column": null,
            "grid_gap": null,
            "grid_row": null,
            "grid_template_areas": null,
            "grid_template_columns": null,
            "grid_template_rows": null,
            "height": null,
            "justify_content": null,
            "justify_items": null,
            "left": null,
            "margin": null,
            "max_height": null,
            "max_width": null,
            "min_height": null,
            "min_width": null,
            "object_fit": null,
            "object_position": null,
            "order": null,
            "overflow": null,
            "overflow_x": null,
            "overflow_y": null,
            "padding": null,
            "right": null,
            "top": null,
            "visibility": null,
            "width": null
          }
        },
        "a55a5b4d3d944a1ebb3608e77f665604": {
          "model_module": "@jupyter-widgets/controls",
          "model_name": "DescriptionStyleModel",
          "model_module_version": "1.5.0",
          "state": {
            "_model_module": "@jupyter-widgets/controls",
            "_model_module_version": "1.5.0",
            "_model_name": "DescriptionStyleModel",
            "_view_count": null,
            "_view_module": "@jupyter-widgets/base",
            "_view_module_version": "1.2.0",
            "_view_name": "StyleView",
            "description_width": ""
          }
        },
        "2298f1ec95684472a0b04f623723fb23": {
          "model_module": "@jupyter-widgets/controls",
          "model_name": "HBoxModel",
          "model_module_version": "1.5.0",
          "state": {
            "_dom_classes": [],
            "_model_module": "@jupyter-widgets/controls",
            "_model_module_version": "1.5.0",
            "_model_name": "HBoxModel",
            "_view_count": null,
            "_view_module": "@jupyter-widgets/controls",
            "_view_module_version": "1.5.0",
            "_view_name": "HBoxView",
            "box_style": "",
            "children": [
              "IPY_MODEL_fa76b92a55c64f4dbb81424e4e83195b",
              "IPY_MODEL_d3bf01bdfbae48399863d4449cbc9c5c",
              "IPY_MODEL_8fedcb5ac0c14daa98e12f9c199b1b81"
            ],
            "layout": "IPY_MODEL_02ba5b64474a44b9b7446bc29f3890aa"
          }
        },
        "fa76b92a55c64f4dbb81424e4e83195b": {
          "model_module": "@jupyter-widgets/controls",
          "model_name": "HTMLModel",
          "model_module_version": "1.5.0",
          "state": {
            "_dom_classes": [],
            "_model_module": "@jupyter-widgets/controls",
            "_model_module_version": "1.5.0",
            "_model_name": "HTMLModel",
            "_view_count": null,
            "_view_module": "@jupyter-widgets/controls",
            "_view_module_version": "1.5.0",
            "_view_name": "HTMLView",
            "description": "",
            "description_tooltip": null,
            "layout": "IPY_MODEL_f52a49896a564eb58c46e4c86e3d5567",
            "placeholder": "​",
            "style": "IPY_MODEL_ca67f4ec85c84ac0a315b919ea90b0d8",
            "value": "Downloading: 100%"
          }
        },
        "d3bf01bdfbae48399863d4449cbc9c5c": {
          "model_module": "@jupyter-widgets/controls",
          "model_name": "FloatProgressModel",
          "model_module_version": "1.5.0",
          "state": {
            "_dom_classes": [],
            "_model_module": "@jupyter-widgets/controls",
            "_model_module_version": "1.5.0",
            "_model_name": "FloatProgressModel",
            "_view_count": null,
            "_view_module": "@jupyter-widgets/controls",
            "_view_module_version": "1.5.0",
            "_view_name": "ProgressView",
            "bar_style": "success",
            "description": "",
            "description_tooltip": null,
            "layout": "IPY_MODEL_6d2b2c085c1f43d0bbedc40eeb5ac228",
            "max": 16316053,
            "min": 0,
            "orientation": "horizontal",
            "style": "IPY_MODEL_fc44991e707f403e8f7e0d246bbb26be",
            "value": 16316053
          }
        },
        "8fedcb5ac0c14daa98e12f9c199b1b81": {
          "model_module": "@jupyter-widgets/controls",
          "model_name": "HTMLModel",
          "model_module_version": "1.5.0",
          "state": {
            "_dom_classes": [],
            "_model_module": "@jupyter-widgets/controls",
            "_model_module_version": "1.5.0",
            "_model_name": "HTMLModel",
            "_view_count": null,
            "_view_module": "@jupyter-widgets/controls",
            "_view_module_version": "1.5.0",
            "_view_name": "HTMLView",
            "description": "",
            "description_tooltip": null,
            "layout": "IPY_MODEL_94e9126cfd8d40a58b377723f5b3a7ef",
            "placeholder": "​",
            "style": "IPY_MODEL_85d5eb8847d042a2a2d1e51c77ac57e5",
            "value": " 16.3M/16.3M [00:00&lt;00:00, 34.5MB/s]"
          }
        },
        "02ba5b64474a44b9b7446bc29f3890aa": {
          "model_module": "@jupyter-widgets/base",
          "model_name": "LayoutModel",
          "model_module_version": "1.2.0",
          "state": {
            "_model_module": "@jupyter-widgets/base",
            "_model_module_version": "1.2.0",
            "_model_name": "LayoutModel",
            "_view_count": null,
            "_view_module": "@jupyter-widgets/base",
            "_view_module_version": "1.2.0",
            "_view_name": "LayoutView",
            "align_content": null,
            "align_items": null,
            "align_self": null,
            "border": null,
            "bottom": null,
            "display": null,
            "flex": null,
            "flex_flow": null,
            "grid_area": null,
            "grid_auto_columns": null,
            "grid_auto_flow": null,
            "grid_auto_rows": null,
            "grid_column": null,
            "grid_gap": null,
            "grid_row": null,
            "grid_template_areas": null,
            "grid_template_columns": null,
            "grid_template_rows": null,
            "height": null,
            "justify_content": null,
            "justify_items": null,
            "left": null,
            "margin": null,
            "max_height": null,
            "max_width": null,
            "min_height": null,
            "min_width": null,
            "object_fit": null,
            "object_position": null,
            "order": null,
            "overflow": null,
            "overflow_x": null,
            "overflow_y": null,
            "padding": null,
            "right": null,
            "top": null,
            "visibility": null,
            "width": null
          }
        },
        "f52a49896a564eb58c46e4c86e3d5567": {
          "model_module": "@jupyter-widgets/base",
          "model_name": "LayoutModel",
          "model_module_version": "1.2.0",
          "state": {
            "_model_module": "@jupyter-widgets/base",
            "_model_module_version": "1.2.0",
            "_model_name": "LayoutModel",
            "_view_count": null,
            "_view_module": "@jupyter-widgets/base",
            "_view_module_version": "1.2.0",
            "_view_name": "LayoutView",
            "align_content": null,
            "align_items": null,
            "align_self": null,
            "border": null,
            "bottom": null,
            "display": null,
            "flex": null,
            "flex_flow": null,
            "grid_area": null,
            "grid_auto_columns": null,
            "grid_auto_flow": null,
            "grid_auto_rows": null,
            "grid_column": null,
            "grid_gap": null,
            "grid_row": null,
            "grid_template_areas": null,
            "grid_template_columns": null,
            "grid_template_rows": null,
            "height": null,
            "justify_content": null,
            "justify_items": null,
            "left": null,
            "margin": null,
            "max_height": null,
            "max_width": null,
            "min_height": null,
            "min_width": null,
            "object_fit": null,
            "object_position": null,
            "order": null,
            "overflow": null,
            "overflow_x": null,
            "overflow_y": null,
            "padding": null,
            "right": null,
            "top": null,
            "visibility": null,
            "width": null
          }
        },
        "ca67f4ec85c84ac0a315b919ea90b0d8": {
          "model_module": "@jupyter-widgets/controls",
          "model_name": "DescriptionStyleModel",
          "model_module_version": "1.5.0",
          "state": {
            "_model_module": "@jupyter-widgets/controls",
            "_model_module_version": "1.5.0",
            "_model_name": "DescriptionStyleModel",
            "_view_count": null,
            "_view_module": "@jupyter-widgets/base",
            "_view_module_version": "1.2.0",
            "_view_name": "StyleView",
            "description_width": ""
          }
        },
        "6d2b2c085c1f43d0bbedc40eeb5ac228": {
          "model_module": "@jupyter-widgets/base",
          "model_name": "LayoutModel",
          "model_module_version": "1.2.0",
          "state": {
            "_model_module": "@jupyter-widgets/base",
            "_model_module_version": "1.2.0",
            "_model_name": "LayoutModel",
            "_view_count": null,
            "_view_module": "@jupyter-widgets/base",
            "_view_module_version": "1.2.0",
            "_view_name": "LayoutView",
            "align_content": null,
            "align_items": null,
            "align_self": null,
            "border": null,
            "bottom": null,
            "display": null,
            "flex": null,
            "flex_flow": null,
            "grid_area": null,
            "grid_auto_columns": null,
            "grid_auto_flow": null,
            "grid_auto_rows": null,
            "grid_column": null,
            "grid_gap": null,
            "grid_row": null,
            "grid_template_areas": null,
            "grid_template_columns": null,
            "grid_template_rows": null,
            "height": null,
            "justify_content": null,
            "justify_items": null,
            "left": null,
            "margin": null,
            "max_height": null,
            "max_width": null,
            "min_height": null,
            "min_width": null,
            "object_fit": null,
            "object_position": null,
            "order": null,
            "overflow": null,
            "overflow_x": null,
            "overflow_y": null,
            "padding": null,
            "right": null,
            "top": null,
            "visibility": null,
            "width": null
          }
        },
        "fc44991e707f403e8f7e0d246bbb26be": {
          "model_module": "@jupyter-widgets/controls",
          "model_name": "ProgressStyleModel",
          "model_module_version": "1.5.0",
          "state": {
            "_model_module": "@jupyter-widgets/controls",
            "_model_module_version": "1.5.0",
            "_model_name": "ProgressStyleModel",
            "_view_count": null,
            "_view_module": "@jupyter-widgets/base",
            "_view_module_version": "1.2.0",
            "_view_name": "StyleView",
            "bar_color": null,
            "description_width": ""
          }
        },
        "94e9126cfd8d40a58b377723f5b3a7ef": {
          "model_module": "@jupyter-widgets/base",
          "model_name": "LayoutModel",
          "model_module_version": "1.2.0",
          "state": {
            "_model_module": "@jupyter-widgets/base",
            "_model_module_version": "1.2.0",
            "_model_name": "LayoutModel",
            "_view_count": null,
            "_view_module": "@jupyter-widgets/base",
            "_view_module_version": "1.2.0",
            "_view_name": "LayoutView",
            "align_content": null,
            "align_items": null,
            "align_self": null,
            "border": null,
            "bottom": null,
            "display": null,
            "flex": null,
            "flex_flow": null,
            "grid_area": null,
            "grid_auto_columns": null,
            "grid_auto_flow": null,
            "grid_auto_rows": null,
            "grid_column": null,
            "grid_gap": null,
            "grid_row": null,
            "grid_template_areas": null,
            "grid_template_columns": null,
            "grid_template_rows": null,
            "height": null,
            "justify_content": null,
            "justify_items": null,
            "left": null,
            "margin": null,
            "max_height": null,
            "max_width": null,
            "min_height": null,
            "min_width": null,
            "object_fit": null,
            "object_position": null,
            "order": null,
            "overflow": null,
            "overflow_x": null,
            "overflow_y": null,
            "padding": null,
            "right": null,
            "top": null,
            "visibility": null,
            "width": null
          }
        },
        "85d5eb8847d042a2a2d1e51c77ac57e5": {
          "model_module": "@jupyter-widgets/controls",
          "model_name": "DescriptionStyleModel",
          "model_module_version": "1.5.0",
          "state": {
            "_model_module": "@jupyter-widgets/controls",
            "_model_module_version": "1.5.0",
            "_model_name": "DescriptionStyleModel",
            "_view_count": null,
            "_view_module": "@jupyter-widgets/base",
            "_view_module_version": "1.2.0",
            "_view_name": "StyleView",
            "description_width": ""
          }
        },
        "23e29c633aed480e93818c652c4fcb7b": {
          "model_module": "@jupyter-widgets/controls",
          "model_name": "HBoxModel",
          "model_module_version": "1.5.0",
          "state": {
            "_dom_classes": [],
            "_model_module": "@jupyter-widgets/controls",
            "_model_module_version": "1.5.0",
            "_model_name": "HBoxModel",
            "_view_count": null,
            "_view_module": "@jupyter-widgets/controls",
            "_view_module_version": "1.5.0",
            "_view_name": "HBoxView",
            "box_style": "",
            "children": [
              "IPY_MODEL_d189bfd4a1594c02bcdb1f7cda1ad6c2",
              "IPY_MODEL_b4f7cbaa2f4d465fa0cd9268aa825c40",
              "IPY_MODEL_549ff707ee6e41699761ccc4d6b438a9"
            ],
            "layout": "IPY_MODEL_8cee163bc22e409bb6f522da4e6cb365"
          }
        },
        "d189bfd4a1594c02bcdb1f7cda1ad6c2": {
          "model_module": "@jupyter-widgets/controls",
          "model_name": "HTMLModel",
          "model_module_version": "1.5.0",
          "state": {
            "_dom_classes": [],
            "_model_module": "@jupyter-widgets/controls",
            "_model_module_version": "1.5.0",
            "_model_name": "HTMLModel",
            "_view_count": null,
            "_view_module": "@jupyter-widgets/controls",
            "_view_module_version": "1.5.0",
            "_view_name": "HTMLView",
            "description": "",
            "description_tooltip": null,
            "layout": "IPY_MODEL_f93ffe9203dd4bcfb7cbc3689a7414c8",
            "placeholder": "​",
            "style": "IPY_MODEL_4cb3651988ca4504bac5e7c0a60acaa9",
            "value": "Downloading: 100%"
          }
        },
        "b4f7cbaa2f4d465fa0cd9268aa825c40": {
          "model_module": "@jupyter-widgets/controls",
          "model_name": "FloatProgressModel",
          "model_module_version": "1.5.0",
          "state": {
            "_dom_classes": [],
            "_model_module": "@jupyter-widgets/controls",
            "_model_module_version": "1.5.0",
            "_model_name": "FloatProgressModel",
            "_view_count": null,
            "_view_module": "@jupyter-widgets/controls",
            "_view_module_version": "1.5.0",
            "_view_name": "ProgressView",
            "bar_style": "success",
            "description": "",
            "description_tooltip": null,
            "layout": "IPY_MODEL_bf0516c432584255968a1b69e0f8dfdf",
            "max": 23,
            "min": 0,
            "orientation": "horizontal",
            "style": "IPY_MODEL_cf188b674f3f484d91319cf3673943fd",
            "value": 23
          }
        },
        "549ff707ee6e41699761ccc4d6b438a9": {
          "model_module": "@jupyter-widgets/controls",
          "model_name": "HTMLModel",
          "model_module_version": "1.5.0",
          "state": {
            "_dom_classes": [],
            "_model_module": "@jupyter-widgets/controls",
            "_model_module_version": "1.5.0",
            "_model_name": "HTMLModel",
            "_view_count": null,
            "_view_module": "@jupyter-widgets/controls",
            "_view_module_version": "1.5.0",
            "_view_name": "HTMLView",
            "description": "",
            "description_tooltip": null,
            "layout": "IPY_MODEL_3ddfcc362f0448cda1b2ef537db6cdcf",
            "placeholder": "​",
            "style": "IPY_MODEL_4b8e12f7b5304634a87139d692e5ad83",
            "value": " 23.0/23.0 [00:00&lt;00:00, 801B/s]"
          }
        },
        "8cee163bc22e409bb6f522da4e6cb365": {
          "model_module": "@jupyter-widgets/base",
          "model_name": "LayoutModel",
          "model_module_version": "1.2.0",
          "state": {
            "_model_module": "@jupyter-widgets/base",
            "_model_module_version": "1.2.0",
            "_model_name": "LayoutModel",
            "_view_count": null,
            "_view_module": "@jupyter-widgets/base",
            "_view_module_version": "1.2.0",
            "_view_name": "LayoutView",
            "align_content": null,
            "align_items": null,
            "align_self": null,
            "border": null,
            "bottom": null,
            "display": null,
            "flex": null,
            "flex_flow": null,
            "grid_area": null,
            "grid_auto_columns": null,
            "grid_auto_flow": null,
            "grid_auto_rows": null,
            "grid_column": null,
            "grid_gap": null,
            "grid_row": null,
            "grid_template_areas": null,
            "grid_template_columns": null,
            "grid_template_rows": null,
            "height": null,
            "justify_content": null,
            "justify_items": null,
            "left": null,
            "margin": null,
            "max_height": null,
            "max_width": null,
            "min_height": null,
            "min_width": null,
            "object_fit": null,
            "object_position": null,
            "order": null,
            "overflow": null,
            "overflow_x": null,
            "overflow_y": null,
            "padding": null,
            "right": null,
            "top": null,
            "visibility": null,
            "width": null
          }
        },
        "f93ffe9203dd4bcfb7cbc3689a7414c8": {
          "model_module": "@jupyter-widgets/base",
          "model_name": "LayoutModel",
          "model_module_version": "1.2.0",
          "state": {
            "_model_module": "@jupyter-widgets/base",
            "_model_module_version": "1.2.0",
            "_model_name": "LayoutModel",
            "_view_count": null,
            "_view_module": "@jupyter-widgets/base",
            "_view_module_version": "1.2.0",
            "_view_name": "LayoutView",
            "align_content": null,
            "align_items": null,
            "align_self": null,
            "border": null,
            "bottom": null,
            "display": null,
            "flex": null,
            "flex_flow": null,
            "grid_area": null,
            "grid_auto_columns": null,
            "grid_auto_flow": null,
            "grid_auto_rows": null,
            "grid_column": null,
            "grid_gap": null,
            "grid_row": null,
            "grid_template_areas": null,
            "grid_template_columns": null,
            "grid_template_rows": null,
            "height": null,
            "justify_content": null,
            "justify_items": null,
            "left": null,
            "margin": null,
            "max_height": null,
            "max_width": null,
            "min_height": null,
            "min_width": null,
            "object_fit": null,
            "object_position": null,
            "order": null,
            "overflow": null,
            "overflow_x": null,
            "overflow_y": null,
            "padding": null,
            "right": null,
            "top": null,
            "visibility": null,
            "width": null
          }
        },
        "4cb3651988ca4504bac5e7c0a60acaa9": {
          "model_module": "@jupyter-widgets/controls",
          "model_name": "DescriptionStyleModel",
          "model_module_version": "1.5.0",
          "state": {
            "_model_module": "@jupyter-widgets/controls",
            "_model_module_version": "1.5.0",
            "_model_name": "DescriptionStyleModel",
            "_view_count": null,
            "_view_module": "@jupyter-widgets/base",
            "_view_module_version": "1.2.0",
            "_view_name": "StyleView",
            "description_width": ""
          }
        },
        "bf0516c432584255968a1b69e0f8dfdf": {
          "model_module": "@jupyter-widgets/base",
          "model_name": "LayoutModel",
          "model_module_version": "1.2.0",
          "state": {
            "_model_module": "@jupyter-widgets/base",
            "_model_module_version": "1.2.0",
            "_model_name": "LayoutModel",
            "_view_count": null,
            "_view_module": "@jupyter-widgets/base",
            "_view_module_version": "1.2.0",
            "_view_name": "LayoutView",
            "align_content": null,
            "align_items": null,
            "align_self": null,
            "border": null,
            "bottom": null,
            "display": null,
            "flex": null,
            "flex_flow": null,
            "grid_area": null,
            "grid_auto_columns": null,
            "grid_auto_flow": null,
            "grid_auto_rows": null,
            "grid_column": null,
            "grid_gap": null,
            "grid_row": null,
            "grid_template_areas": null,
            "grid_template_columns": null,
            "grid_template_rows": null,
            "height": null,
            "justify_content": null,
            "justify_items": null,
            "left": null,
            "margin": null,
            "max_height": null,
            "max_width": null,
            "min_height": null,
            "min_width": null,
            "object_fit": null,
            "object_position": null,
            "order": null,
            "overflow": null,
            "overflow_x": null,
            "overflow_y": null,
            "padding": null,
            "right": null,
            "top": null,
            "visibility": null,
            "width": null
          }
        },
        "cf188b674f3f484d91319cf3673943fd": {
          "model_module": "@jupyter-widgets/controls",
          "model_name": "ProgressStyleModel",
          "model_module_version": "1.5.0",
          "state": {
            "_model_module": "@jupyter-widgets/controls",
            "_model_module_version": "1.5.0",
            "_model_name": "ProgressStyleModel",
            "_view_count": null,
            "_view_module": "@jupyter-widgets/base",
            "_view_module_version": "1.2.0",
            "_view_name": "StyleView",
            "bar_color": null,
            "description_width": ""
          }
        },
        "3ddfcc362f0448cda1b2ef537db6cdcf": {
          "model_module": "@jupyter-widgets/base",
          "model_name": "LayoutModel",
          "model_module_version": "1.2.0",
          "state": {
            "_model_module": "@jupyter-widgets/base",
            "_model_module_version": "1.2.0",
            "_model_name": "LayoutModel",
            "_view_count": null,
            "_view_module": "@jupyter-widgets/base",
            "_view_module_version": "1.2.0",
            "_view_name": "LayoutView",
            "align_content": null,
            "align_items": null,
            "align_self": null,
            "border": null,
            "bottom": null,
            "display": null,
            "flex": null,
            "flex_flow": null,
            "grid_area": null,
            "grid_auto_columns": null,
            "grid_auto_flow": null,
            "grid_auto_rows": null,
            "grid_column": null,
            "grid_gap": null,
            "grid_row": null,
            "grid_template_areas": null,
            "grid_template_columns": null,
            "grid_template_rows": null,
            "height": null,
            "justify_content": null,
            "justify_items": null,
            "left": null,
            "margin": null,
            "max_height": null,
            "max_width": null,
            "min_height": null,
            "min_width": null,
            "object_fit": null,
            "object_position": null,
            "order": null,
            "overflow": null,
            "overflow_x": null,
            "overflow_y": null,
            "padding": null,
            "right": null,
            "top": null,
            "visibility": null,
            "width": null
          }
        },
        "4b8e12f7b5304634a87139d692e5ad83": {
          "model_module": "@jupyter-widgets/controls",
          "model_name": "DescriptionStyleModel",
          "model_module_version": "1.5.0",
          "state": {
            "_model_module": "@jupyter-widgets/controls",
            "_model_module_version": "1.5.0",
            "_model_name": "DescriptionStyleModel",
            "_view_count": null,
            "_view_module": "@jupyter-widgets/base",
            "_view_module_version": "1.2.0",
            "_view_name": "StyleView",
            "description_width": ""
          }
        },
        "553683b286f24b0faaacf60ec680515d": {
          "model_module": "@jupyter-widgets/controls",
          "model_name": "HBoxModel",
          "model_module_version": "1.5.0",
          "state": {
            "_dom_classes": [],
            "_model_module": "@jupyter-widgets/controls",
            "_model_module_version": "1.5.0",
            "_model_name": "HBoxModel",
            "_view_count": null,
            "_view_module": "@jupyter-widgets/controls",
            "_view_module_version": "1.5.0",
            "_view_name": "HBoxView",
            "box_style": "",
            "children": [
              "IPY_MODEL_81abced3d01142d39dd2f61eb3a94135",
              "IPY_MODEL_9df36a7caccf44669bde2de1cc23f577",
              "IPY_MODEL_f7299821a6fb4c37afdc175122b8bbb6"
            ],
            "layout": "IPY_MODEL_500a3f0bd7ab480895b0821cdf56abea"
          }
        },
        "81abced3d01142d39dd2f61eb3a94135": {
          "model_module": "@jupyter-widgets/controls",
          "model_name": "HTMLModel",
          "model_module_version": "1.5.0",
          "state": {
            "_dom_classes": [],
            "_model_module": "@jupyter-widgets/controls",
            "_model_module_version": "1.5.0",
            "_model_name": "HTMLModel",
            "_view_count": null,
            "_view_module": "@jupyter-widgets/controls",
            "_view_module_version": "1.5.0",
            "_view_name": "HTMLView",
            "description": "",
            "description_tooltip": null,
            "layout": "IPY_MODEL_3021954778f74818a6b8b03f7865c396",
            "placeholder": "​",
            "style": "IPY_MODEL_1ac02b6766ab47bdb66b978358e778a7",
            "value": "Downloading: 100%"
          }
        },
        "9df36a7caccf44669bde2de1cc23f577": {
          "model_module": "@jupyter-widgets/controls",
          "model_name": "FloatProgressModel",
          "model_module_version": "1.5.0",
          "state": {
            "_dom_classes": [],
            "_model_module": "@jupyter-widgets/controls",
            "_model_module_version": "1.5.0",
            "_model_name": "FloatProgressModel",
            "_view_count": null,
            "_view_module": "@jupyter-widgets/controls",
            "_view_module_version": "1.5.0",
            "_view_name": "ProgressView",
            "bar_style": "success",
            "description": "",
            "description_tooltip": null,
            "layout": "IPY_MODEL_07942d12f1854e1d95ab25e68044c1c9",
            "max": 173,
            "min": 0,
            "orientation": "horizontal",
            "style": "IPY_MODEL_404d43ab9cf5415a9fd254e9fedf379a",
            "value": 173
          }
        },
        "f7299821a6fb4c37afdc175122b8bbb6": {
          "model_module": "@jupyter-widgets/controls",
          "model_name": "HTMLModel",
          "model_module_version": "1.5.0",
          "state": {
            "_dom_classes": [],
            "_model_module": "@jupyter-widgets/controls",
            "_model_module_version": "1.5.0",
            "_model_name": "HTMLModel",
            "_view_count": null,
            "_view_module": "@jupyter-widgets/controls",
            "_view_module_version": "1.5.0",
            "_view_name": "HTMLView",
            "description": "",
            "description_tooltip": null,
            "layout": "IPY_MODEL_0d7259f0ccb44c1384a4cb9805e20aab",
            "placeholder": "​",
            "style": "IPY_MODEL_ea4829c40d5948efba96f3051760d41a",
            "value": " 173/173 [00:00&lt;00:00, 8.61kB/s]"
          }
        },
        "500a3f0bd7ab480895b0821cdf56abea": {
          "model_module": "@jupyter-widgets/base",
          "model_name": "LayoutModel",
          "model_module_version": "1.2.0",
          "state": {
            "_model_module": "@jupyter-widgets/base",
            "_model_module_version": "1.2.0",
            "_model_name": "LayoutModel",
            "_view_count": null,
            "_view_module": "@jupyter-widgets/base",
            "_view_module_version": "1.2.0",
            "_view_name": "LayoutView",
            "align_content": null,
            "align_items": null,
            "align_self": null,
            "border": null,
            "bottom": null,
            "display": null,
            "flex": null,
            "flex_flow": null,
            "grid_area": null,
            "grid_auto_columns": null,
            "grid_auto_flow": null,
            "grid_auto_rows": null,
            "grid_column": null,
            "grid_gap": null,
            "grid_row": null,
            "grid_template_areas": null,
            "grid_template_columns": null,
            "grid_template_rows": null,
            "height": null,
            "justify_content": null,
            "justify_items": null,
            "left": null,
            "margin": null,
            "max_height": null,
            "max_width": null,
            "min_height": null,
            "min_width": null,
            "object_fit": null,
            "object_position": null,
            "order": null,
            "overflow": null,
            "overflow_x": null,
            "overflow_y": null,
            "padding": null,
            "right": null,
            "top": null,
            "visibility": null,
            "width": null
          }
        },
        "3021954778f74818a6b8b03f7865c396": {
          "model_module": "@jupyter-widgets/base",
          "model_name": "LayoutModel",
          "model_module_version": "1.2.0",
          "state": {
            "_model_module": "@jupyter-widgets/base",
            "_model_module_version": "1.2.0",
            "_model_name": "LayoutModel",
            "_view_count": null,
            "_view_module": "@jupyter-widgets/base",
            "_view_module_version": "1.2.0",
            "_view_name": "LayoutView",
            "align_content": null,
            "align_items": null,
            "align_self": null,
            "border": null,
            "bottom": null,
            "display": null,
            "flex": null,
            "flex_flow": null,
            "grid_area": null,
            "grid_auto_columns": null,
            "grid_auto_flow": null,
            "grid_auto_rows": null,
            "grid_column": null,
            "grid_gap": null,
            "grid_row": null,
            "grid_template_areas": null,
            "grid_template_columns": null,
            "grid_template_rows": null,
            "height": null,
            "justify_content": null,
            "justify_items": null,
            "left": null,
            "margin": null,
            "max_height": null,
            "max_width": null,
            "min_height": null,
            "min_width": null,
            "object_fit": null,
            "object_position": null,
            "order": null,
            "overflow": null,
            "overflow_x": null,
            "overflow_y": null,
            "padding": null,
            "right": null,
            "top": null,
            "visibility": null,
            "width": null
          }
        },
        "1ac02b6766ab47bdb66b978358e778a7": {
          "model_module": "@jupyter-widgets/controls",
          "model_name": "DescriptionStyleModel",
          "model_module_version": "1.5.0",
          "state": {
            "_model_module": "@jupyter-widgets/controls",
            "_model_module_version": "1.5.0",
            "_model_name": "DescriptionStyleModel",
            "_view_count": null,
            "_view_module": "@jupyter-widgets/base",
            "_view_module_version": "1.2.0",
            "_view_name": "StyleView",
            "description_width": ""
          }
        },
        "07942d12f1854e1d95ab25e68044c1c9": {
          "model_module": "@jupyter-widgets/base",
          "model_name": "LayoutModel",
          "model_module_version": "1.2.0",
          "state": {
            "_model_module": "@jupyter-widgets/base",
            "_model_module_version": "1.2.0",
            "_model_name": "LayoutModel",
            "_view_count": null,
            "_view_module": "@jupyter-widgets/base",
            "_view_module_version": "1.2.0",
            "_view_name": "LayoutView",
            "align_content": null,
            "align_items": null,
            "align_self": null,
            "border": null,
            "bottom": null,
            "display": null,
            "flex": null,
            "flex_flow": null,
            "grid_area": null,
            "grid_auto_columns": null,
            "grid_auto_flow": null,
            "grid_auto_rows": null,
            "grid_column": null,
            "grid_gap": null,
            "grid_row": null,
            "grid_template_areas": null,
            "grid_template_columns": null,
            "grid_template_rows": null,
            "height": null,
            "justify_content": null,
            "justify_items": null,
            "left": null,
            "margin": null,
            "max_height": null,
            "max_width": null,
            "min_height": null,
            "min_width": null,
            "object_fit": null,
            "object_position": null,
            "order": null,
            "overflow": null,
            "overflow_x": null,
            "overflow_y": null,
            "padding": null,
            "right": null,
            "top": null,
            "visibility": null,
            "width": null
          }
        },
        "404d43ab9cf5415a9fd254e9fedf379a": {
          "model_module": "@jupyter-widgets/controls",
          "model_name": "ProgressStyleModel",
          "model_module_version": "1.5.0",
          "state": {
            "_model_module": "@jupyter-widgets/controls",
            "_model_module_version": "1.5.0",
            "_model_name": "ProgressStyleModel",
            "_view_count": null,
            "_view_module": "@jupyter-widgets/base",
            "_view_module_version": "1.2.0",
            "_view_name": "StyleView",
            "bar_color": null,
            "description_width": ""
          }
        },
        "0d7259f0ccb44c1384a4cb9805e20aab": {
          "model_module": "@jupyter-widgets/base",
          "model_name": "LayoutModel",
          "model_module_version": "1.2.0",
          "state": {
            "_model_module": "@jupyter-widgets/base",
            "_model_module_version": "1.2.0",
            "_model_name": "LayoutModel",
            "_view_count": null,
            "_view_module": "@jupyter-widgets/base",
            "_view_module_version": "1.2.0",
            "_view_name": "LayoutView",
            "align_content": null,
            "align_items": null,
            "align_self": null,
            "border": null,
            "bottom": null,
            "display": null,
            "flex": null,
            "flex_flow": null,
            "grid_area": null,
            "grid_auto_columns": null,
            "grid_auto_flow": null,
            "grid_auto_rows": null,
            "grid_column": null,
            "grid_gap": null,
            "grid_row": null,
            "grid_template_areas": null,
            "grid_template_columns": null,
            "grid_template_rows": null,
            "height": null,
            "justify_content": null,
            "justify_items": null,
            "left": null,
            "margin": null,
            "max_height": null,
            "max_width": null,
            "min_height": null,
            "min_width": null,
            "object_fit": null,
            "object_position": null,
            "order": null,
            "overflow": null,
            "overflow_x": null,
            "overflow_y": null,
            "padding": null,
            "right": null,
            "top": null,
            "visibility": null,
            "width": null
          }
        },
        "ea4829c40d5948efba96f3051760d41a": {
          "model_module": "@jupyter-widgets/controls",
          "model_name": "DescriptionStyleModel",
          "model_module_version": "1.5.0",
          "state": {
            "_model_module": "@jupyter-widgets/controls",
            "_model_module_version": "1.5.0",
            "_model_name": "DescriptionStyleModel",
            "_view_count": null,
            "_view_module": "@jupyter-widgets/base",
            "_view_module_version": "1.2.0",
            "_view_name": "StyleView",
            "description_width": ""
          }
        }
      }
    }
  },
  "nbformat": 4,
  "nbformat_minor": 5
}